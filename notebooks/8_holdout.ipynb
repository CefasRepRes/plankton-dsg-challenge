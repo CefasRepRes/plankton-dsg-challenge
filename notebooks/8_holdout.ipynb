{
 "cells": [
  {
   "cell_type": "markdown",
   "id": "1e751a31",
   "metadata": {},
   "source": [
    "# Load the holdout set"
   ]
  },
  {
   "cell_type": "code",
   "execution_count": 1,
   "id": "df219121",
   "metadata": {},
   "outputs": [],
   "source": [
    "import numpy as np\n",
    "import pandas as pd\n",
    "import xarray as xr\n",
    "from scivision.io import load_dataset"
   ]
  },
  {
   "cell_type": "code",
   "execution_count": 2,
   "id": "653520d5",
   "metadata": {},
   "outputs": [],
   "source": [
    "cat = load_dataset('https://github.com/alan-turing-institute/plankton-dsg-challenge')\n",
    "\n",
    "ds_all = cat.plankton_multiple().to_dask()\n",
    "labels_holdout = cat.labels_holdout().read()\n",
    "\n",
    "labels_holdout_dedup = xr.Dataset.from_dataframe(\n",
    "    labels_holdout\n",
    "    .drop_duplicates(subset=[\"filename\"])\n",
    "    .set_index(\"filename\")\n",
    "    .sort_index()\n",
    ")\n",
    "\n",
    "ds_holdout_labelled = (\n",
    "    ds_all\n",
    "    .swap_dims({\"concat_dim\": \"filename\"})\n",
    "    .merge(labels_holdout_dedup, join=\"inner\")\n",
    "    .swap_dims({\"filename\": \"concat_dim\"})\n",
    ")"
   ]
  },
  {
   "cell_type": "code",
   "execution_count": 3,
   "id": "c8cf2d15",
   "metadata": {},
   "outputs": [
    {
     "name": "stdout",
     "output_type": "stream",
     "text": [
      "<xarray.Dataset>\n",
      "Dimensions:                               (concat_dim: 5863, y: 832, x: 1040, channel: 3)\n",
      "Coordinates:\n",
      "    filename                              (concat_dim) object 'Pia1.2016-08-0...\n",
      "  * concat_dim                            (concat_dim) int64 13 18 ... 58748\n",
      "  * y                                     (y) int64 0 1 2 3 ... 828 829 830 831\n",
      "  * x                                     (x) int64 0 1 2 3 ... 1037 1038 1039\n",
      "  * channel                               (channel) int64 0 1 2\n",
      "Data variables: (12/27)\n",
      "    raster                                (concat_dim, y, x, channel) uint8 dask.array<chunksize=(1, 832, 1040, 3), meta=np.ndarray>\n",
      "    EXIF Image ImageWidth                 (concat_dim) object dask.array<chunksize=(1,), meta=np.ndarray>\n",
      "    EXIF Image ImageLength                (concat_dim) object dask.array<chunksize=(1,), meta=np.ndarray>\n",
      "    EXIF Image BitsPerSample              (concat_dim) object dask.array<chunksize=(1,), meta=np.ndarray>\n",
      "    EXIF Image Compression                (concat_dim) object dask.array<chunksize=(1,), meta=np.ndarray>\n",
      "    EXIF Image PhotometricInterpretation  (concat_dim) object dask.array<chunksize=(1,), meta=np.ndarray>\n",
      "    ...                                    ...\n",
      "    EXIF GPS GPSLongitude                 (concat_dim) object dask.array<chunksize=(1,), meta=np.ndarray>\n",
      "    EXIF Image GPSInfo                    (concat_dim) object dask.array<chunksize=(1,), meta=np.ndarray>\n",
      "    index                                 (concat_dim) int64 155 12066 ... 14784\n",
      "    label1                                (concat_dim) object 'zooplankton' ....\n",
      "    label2                                (concat_dim) object 'noncopepod' .....\n",
      "    label3                                (concat_dim) object 'appendicularia...\n"
     ]
    }
   ],
   "source": [
    "print(ds_holdout_labelled)"
   ]
  }
 ],
 "metadata": {
  "kernelspec": {
   "display_name": "Python (scivis-plankton)",
   "language": "python",
   "name": "scivis-plankton"
  },
  "language_info": {
   "codemirror_mode": {
    "name": "ipython",
    "version": 3
   },
   "file_extension": ".py",
   "mimetype": "text/x-python",
   "name": "python",
   "nbconvert_exporter": "python",
   "pygments_lexer": "ipython3",
   "version": "3.9.7"
  }
 },
 "nbformat": 4,
 "nbformat_minor": 5
}
