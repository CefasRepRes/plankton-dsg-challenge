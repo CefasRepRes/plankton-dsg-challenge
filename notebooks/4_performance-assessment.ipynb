{
 "cells": [
  {
   "cell_type": "markdown",
   "id": "49957e98",
   "metadata": {},
   "source": [
    "# Performance assessment template"
   ]
  },
  {
   "cell_type": "markdown",
   "id": "75fdf91f",
   "metadata": {},
   "source": [
    "**Note**: This notebook provides a suggested way to compare model performance for a multi-label classification problem, and is just one of many possibilities.  It will need some modification to work with our classification problem."
   ]
  },
  {
   "cell_type": "markdown",
   "id": "cd87071a",
   "metadata": {
    "pycharm": {
     "name": "#%% md\n"
    }
   },
   "source": [
    "## Import libraries"
   ]
  },
  {
   "cell_type": "code",
   "execution_count": null,
   "id": "16b912a4",
   "metadata": {},
   "outputs": [],
   "source": [
    "import pandas as pd\n",
    "from sklearn.metrics import classification_report"
   ]
  },
  {
   "cell_type": "code",
   "execution_count": null,
   "id": "0c118e53",
   "metadata": {},
   "outputs": [],
   "source": [
    "UNKNOWN = pd.NA\n",
    "OTHER = 'OTHER'"
   ]
  },
  {
   "cell_type": "markdown",
   "id": "337382bd",
   "metadata": {},
   "source": [
    "### Test set"
   ]
  },
  {
   "cell_type": "code",
   "execution_count": null,
   "id": "06edd959",
   "metadata": {},
   "outputs": [],
   "source": [
    "test_set = pd.DataFrame({\n",
    "    'level3a': ['Copepod',   'Copepod',   'Copepod',    'Copepod', 'Cladocera', 'Cladocera'],\n",
    "    'level3b': ['Calanoida', 'Calanoida', 'Cyclopoida', UNKNOWN,   UNKNOWN,     'Evadne'],\n",
    "    'level3c': ['Acartia',   'Calanus',   UNKNOWN,      UNKNOWN,   UNKNOWN,     UNKNOWN],\n",
    "})\n",
    "test_set"
   ]
  },
  {
   "cell_type": "markdown",
   "id": "b9ab2cab",
   "metadata": {},
   "source": [
    "### Model output"
   ]
  },
  {
   "cell_type": "code",
   "execution_count": null,
   "id": "7ac761de",
   "metadata": {},
   "outputs": [],
   "source": [
    "prediction_model_1 = pd.DataFrame({\n",
    "    'level3a': ['Copepod',   'Copepod',    'Copepod',    'Copepod',    'Cladocera', 'Cladocera'],\n",
    "    'level3b': ['Calanoida', 'Cyclopoida', 'Cyclopoida', 'Cyclopoida', 'Evadne',    'Evadne'],\n",
    "    'level3c': ['Acartia',   OTHER,        'Oithona',    'Corycaeus',   OTHER,       OTHER],\n",
    "})\n",
    "prediction_model_1"
   ]
  },
  {
   "cell_type": "markdown",
   "id": "2a7d6fe8",
   "metadata": {},
   "source": [
    "### Report"
   ]
  },
  {
   "cell_type": "code",
   "execution_count": null,
   "id": "f6d78d6f",
   "metadata": {},
   "outputs": [],
   "source": [
    "def report(level):\n",
    "    print(\n",
    "        classification_report(\n",
    "            test_set[level][~test_set[level].isna()], \n",
    "            prediction_model_1[level][~test_set[level].isna()],\n",
    "            zero_division=0\n",
    "        )\n",
    "    )"
   ]
  },
  {
   "cell_type": "code",
   "execution_count": null,
   "id": "72a6203e",
   "metadata": {},
   "outputs": [],
   "source": [
    "report('level3a')"
   ]
  },
  {
   "cell_type": "code",
   "execution_count": null,
   "id": "a6d94c32",
   "metadata": {},
   "outputs": [],
   "source": [
    "# Should use ('level3a', 'level3b')\n",
    "report('level3b')"
   ]
  },
  {
   "cell_type": "code",
   "execution_count": null,
   "id": "13ef99c5",
   "metadata": {},
   "outputs": [],
   "source": [
    "# Should use ('level3a', 'level3b', 'level3c')\n",
    "report('level3c')"
   ]
  }
 ],
 "metadata": {
  "kernelspec": {
   "display_name": "Python 3",
   "language": "python",
   "name": "python3"
  },
  "language_info": {
   "codemirror_mode": {
    "name": "ipython",
    "version": 3
   },
   "file_extension": ".py",
   "mimetype": "text/x-python",
   "name": "python",
   "nbconvert_exporter": "python",
   "pygments_lexer": "ipython3",
   "version": "3.6.9"
  }
 },
 "nbformat": 4,
 "nbformat_minor": 5
}
