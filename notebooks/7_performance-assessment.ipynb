{
 "cells": [
  {
   "cell_type": "markdown",
   "id": "4c425fdb",
   "metadata": {},
   "source": [
    "# Performance assessment template"
   ]
  },
  {
   "cell_type": "markdown",
   "id": "80649fbe",
   "metadata": {},
   "source": [
    "**Note**: This notebook provides a suggested way to compare model performance for a hierarchical multi-label classification problem -- see the notebook [5_hierarchical_labels.ipynb](5_hierarchical_labels.ipynb)."
   ]
  },
  {
   "cell_type": "markdown",
   "id": "b700d0e2",
   "metadata": {
    "pycharm": {
     "name": "#%% md\n"
    }
   },
   "source": [
    "## Import libraries"
   ]
  },
  {
   "cell_type": "code",
   "execution_count": 1,
   "id": "cbd52f9e",
   "metadata": {},
   "outputs": [],
   "source": [
    "import pandas as pd\n",
    "from sklearn.metrics import classification_report"
   ]
  },
  {
   "cell_type": "code",
   "execution_count": 2,
   "id": "4a8c9fff",
   "metadata": {},
   "outputs": [],
   "source": [
    "UNKNOWN = pd.NA"
   ]
  },
  {
   "cell_type": "markdown",
   "id": "3ba6582a",
   "metadata": {},
   "source": [
    "### Test set"
   ]
  },
  {
   "cell_type": "markdown",
   "id": "ad9259dc",
   "metadata": {},
   "source": [
    "Some made-up test data: Replace this with the real test data. See [8_holdout.ipynb](./8_holdout.ipynb)."
   ]
  },
  {
   "cell_type": "code",
   "execution_count": 3,
   "id": "ba64f01f",
   "metadata": {},
   "outputs": [
    {
     "data": {
      "text/html": [
       "<div>\n",
       "<style scoped>\n",
       "    .dataframe tbody tr th:only-of-type {\n",
       "        vertical-align: middle;\n",
       "    }\n",
       "\n",
       "    .dataframe tbody tr th {\n",
       "        vertical-align: top;\n",
       "    }\n",
       "\n",
       "    .dataframe thead th {\n",
       "        text-align: right;\n",
       "    }\n",
       "</style>\n",
       "<table border=\"1\" class=\"dataframe\">\n",
       "  <thead>\n",
       "    <tr style=\"text-align: right;\">\n",
       "      <th></th>\n",
       "      <th>label3level1</th>\n",
       "      <th>label3level2</th>\n",
       "      <th>label3level3</th>\n",
       "    </tr>\n",
       "  </thead>\n",
       "  <tbody>\n",
       "    <tr>\n",
       "      <th>0</th>\n",
       "      <td>Copepod</td>\n",
       "      <td>Calanoida</td>\n",
       "      <td>Acartia</td>\n",
       "    </tr>\n",
       "    <tr>\n",
       "      <th>1</th>\n",
       "      <td>Copepod</td>\n",
       "      <td>Calanoida</td>\n",
       "      <td>Calanus</td>\n",
       "    </tr>\n",
       "    <tr>\n",
       "      <th>2</th>\n",
       "      <td>Copepod</td>\n",
       "      <td>Cyclopoida</td>\n",
       "      <td>&lt;NA&gt;</td>\n",
       "    </tr>\n",
       "    <tr>\n",
       "      <th>3</th>\n",
       "      <td>Copepod</td>\n",
       "      <td>&lt;NA&gt;</td>\n",
       "      <td>&lt;NA&gt;</td>\n",
       "    </tr>\n",
       "    <tr>\n",
       "      <th>4</th>\n",
       "      <td>Cladocera</td>\n",
       "      <td>&lt;NA&gt;</td>\n",
       "      <td>&lt;NA&gt;</td>\n",
       "    </tr>\n",
       "    <tr>\n",
       "      <th>5</th>\n",
       "      <td>Cladocera</td>\n",
       "      <td>Evadne</td>\n",
       "      <td>&lt;NA&gt;</td>\n",
       "    </tr>\n",
       "  </tbody>\n",
       "</table>\n",
       "</div>"
      ],
      "text/plain": [
       "  label3level1 label3level2 label3level3\n",
       "0      Copepod    Calanoida      Acartia\n",
       "1      Copepod    Calanoida      Calanus\n",
       "2      Copepod   Cyclopoida         <NA>\n",
       "3      Copepod         <NA>         <NA>\n",
       "4    Cladocera         <NA>         <NA>\n",
       "5    Cladocera       Evadne         <NA>"
      ]
     },
     "execution_count": 3,
     "metadata": {},
     "output_type": "execute_result"
    }
   ],
   "source": [
    "test_set = pd.DataFrame({\n",
    "    'label3level1': ['Copepod',   'Copepod',   'Copepod',    'Copepod', 'Cladocera', 'Cladocera'],\n",
    "    'label3level2': ['Calanoida', 'Calanoida', 'Cyclopoida', UNKNOWN,   UNKNOWN,     'Evadne'],\n",
    "    'label3level3': ['Acartia',   'Calanus',   UNKNOWN,      UNKNOWN,   UNKNOWN,     UNKNOWN],\n",
    "})\n",
    "test_set"
   ]
  },
  {
   "cell_type": "markdown",
   "id": "a5584e93",
   "metadata": {},
   "source": [
    "### Model output"
   ]
  },
  {
   "cell_type": "markdown",
   "id": "d802d87b",
   "metadata": {},
   "source": [
    "Some made-up model output: Replace this with the classification output of a model run on the test inputs.\n",
    "\n",
    "The example below supposes an 'UNKNOWN' label is a possible output of the classifier, when a label has no children at the finest level."
   ]
  },
  {
   "cell_type": "code",
   "execution_count": 4,
   "id": "1c4c68f4",
   "metadata": {},
   "outputs": [
    {
     "data": {
      "text/html": [
       "<div>\n",
       "<style scoped>\n",
       "    .dataframe tbody tr th:only-of-type {\n",
       "        vertical-align: middle;\n",
       "    }\n",
       "\n",
       "    .dataframe tbody tr th {\n",
       "        vertical-align: top;\n",
       "    }\n",
       "\n",
       "    .dataframe thead th {\n",
       "        text-align: right;\n",
       "    }\n",
       "</style>\n",
       "<table border=\"1\" class=\"dataframe\">\n",
       "  <thead>\n",
       "    <tr style=\"text-align: right;\">\n",
       "      <th></th>\n",
       "      <th>label3level1</th>\n",
       "      <th>label3level2</th>\n",
       "      <th>label3level3</th>\n",
       "    </tr>\n",
       "  </thead>\n",
       "  <tbody>\n",
       "    <tr>\n",
       "      <th>0</th>\n",
       "      <td>Copepod</td>\n",
       "      <td>Calanoida</td>\n",
       "      <td>Acartia</td>\n",
       "    </tr>\n",
       "    <tr>\n",
       "      <th>1</th>\n",
       "      <td>Copepod</td>\n",
       "      <td>Cyclopoida</td>\n",
       "      <td>Oithona</td>\n",
       "    </tr>\n",
       "    <tr>\n",
       "      <th>2</th>\n",
       "      <td>Copepod</td>\n",
       "      <td>Cyclopoida</td>\n",
       "      <td>Oithona</td>\n",
       "    </tr>\n",
       "    <tr>\n",
       "      <th>3</th>\n",
       "      <td>Copepod</td>\n",
       "      <td>Cyclopoida</td>\n",
       "      <td>Corycaeus</td>\n",
       "    </tr>\n",
       "    <tr>\n",
       "      <th>4</th>\n",
       "      <td>Cladocera</td>\n",
       "      <td>Evadne</td>\n",
       "      <td>&lt;NA&gt;</td>\n",
       "    </tr>\n",
       "    <tr>\n",
       "      <th>5</th>\n",
       "      <td>Cladocera</td>\n",
       "      <td>Evadne</td>\n",
       "      <td>&lt;NA&gt;</td>\n",
       "    </tr>\n",
       "  </tbody>\n",
       "</table>\n",
       "</div>"
      ],
      "text/plain": [
       "  label3level1 label3level2 label3level3\n",
       "0      Copepod    Calanoida      Acartia\n",
       "1      Copepod   Cyclopoida      Oithona\n",
       "2      Copepod   Cyclopoida      Oithona\n",
       "3      Copepod   Cyclopoida    Corycaeus\n",
       "4    Cladocera       Evadne         <NA>\n",
       "5    Cladocera       Evadne         <NA>"
      ]
     },
     "execution_count": 4,
     "metadata": {},
     "output_type": "execute_result"
    }
   ],
   "source": [
    "prediction_model_1 = pd.DataFrame({\n",
    "    'label3level1': ['Copepod',   'Copepod',    'Copepod',    'Copepod',    'Cladocera', 'Cladocera'],\n",
    "    'label3level2': ['Calanoida', 'Cyclopoida', 'Cyclopoida', 'Cyclopoida', 'Evadne',    'Evadne'],\n",
    "    'label3level3': ['Acartia',   'Oithona',    'Oithona',    'Corycaeus',  UNKNOWN,     UNKNOWN],\n",
    "})\n",
    "prediction_model_1"
   ]
  },
  {
   "cell_type": "markdown",
   "id": "5dbe7503",
   "metadata": {},
   "source": [
    "### Report"
   ]
  },
  {
   "cell_type": "markdown",
   "id": "ed49a0c1",
   "metadata": {},
   "source": [
    "The general idea is to assess the model against each level in the hierarchy separately, reducing the size of the test set for each level by removing the 'UNKNOWN's."
   ]
  },
  {
   "cell_type": "markdown",
   "id": "64943213",
   "metadata": {},
   "source": [
    "Note: Since our labels at each level in the hierarchy are all distinct, we can pass the finest level to the report function below. Care should be taken if this is ever *not* the case (the comparison between two labels at a particular level ought to made between all levels at and below the level of interest)."
   ]
  },
  {
   "cell_type": "code",
   "execution_count": 5,
   "id": "a5b60b0a",
   "metadata": {},
   "outputs": [],
   "source": [
    "def report(label):\n",
    "    test_data = test_set[label]\n",
    "    predicted = prediction_model_1[label]\n",
    "    print(\n",
    "        classification_report(\n",
    "            test_data[~test_data.isna()], \n",
    "            predicted[~test_data.isna()],\n",
    "            zero_division=0\n",
    "        )\n",
    "    )"
   ]
  },
  {
   "cell_type": "code",
   "execution_count": 6,
   "id": "8812f017",
   "metadata": {},
   "outputs": [
    {
     "name": "stdout",
     "output_type": "stream",
     "text": [
      "              precision    recall  f1-score   support\n",
      "\n",
      "   Cladocera       1.00      1.00      1.00         2\n",
      "     Copepod       1.00      1.00      1.00         4\n",
      "\n",
      "    accuracy                           1.00         6\n",
      "   macro avg       1.00      1.00      1.00         6\n",
      "weighted avg       1.00      1.00      1.00         6\n",
      "\n"
     ]
    }
   ],
   "source": [
    "report('label3level1')"
   ]
  },
  {
   "cell_type": "code",
   "execution_count": 7,
   "id": "e6585755",
   "metadata": {},
   "outputs": [
    {
     "name": "stdout",
     "output_type": "stream",
     "text": [
      "              precision    recall  f1-score   support\n",
      "\n",
      "   Calanoida       1.00      0.50      0.67         2\n",
      "  Cyclopoida       0.50      1.00      0.67         1\n",
      "      Evadne       1.00      1.00      1.00         1\n",
      "\n",
      "    accuracy                           0.75         4\n",
      "   macro avg       0.83      0.83      0.78         4\n",
      "weighted avg       0.88      0.75      0.75         4\n",
      "\n"
     ]
    }
   ],
   "source": [
    "report('label3level2')"
   ]
  },
  {
   "cell_type": "code",
   "execution_count": 8,
   "id": "5e4cc38b",
   "metadata": {},
   "outputs": [
    {
     "name": "stdout",
     "output_type": "stream",
     "text": [
      "              precision    recall  f1-score   support\n",
      "\n",
      "     Acartia       1.00      1.00      1.00         1\n",
      "     Calanus       0.00      0.00      0.00         1\n",
      "     Oithona       0.00      0.00      0.00         0\n",
      "\n",
      "    accuracy                           0.50         2\n",
      "   macro avg       0.33      0.33      0.33         2\n",
      "weighted avg       0.50      0.50      0.50         2\n",
      "\n"
     ]
    }
   ],
   "source": [
    "report('label3level3')"
   ]
  }
 ],
 "metadata": {
  "kernelspec": {
   "display_name": "Python (scivis-plankton)",
   "language": "python",
   "name": "scivis-plankton"
  },
  "language_info": {
   "codemirror_mode": {
    "name": "ipython",
    "version": 3
   },
   "file_extension": ".py",
   "mimetype": "text/x-python",
   "name": "python",
   "nbconvert_exporter": "python",
   "pygments_lexer": "ipython3",
   "version": "3.9.7"
  }
 },
 "nbformat": 4,
 "nbformat_minor": 5
}
