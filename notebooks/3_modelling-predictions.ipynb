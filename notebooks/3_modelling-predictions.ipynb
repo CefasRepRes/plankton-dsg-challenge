{
 "cells": [
  {
   "cell_type": "markdown",
   "id": "506d0598",
   "metadata": {},
   "source": [
    "# Explore the plankton dataset"
   ]
  },
  {
   "cell_type": "markdown",
   "id": "bb18ce94",
   "metadata": {},
   "source": [
    "## Import libraries"
   ]
  },
  {
   "cell_type": "code",
   "execution_count": null,
   "id": "c00d07a4",
   "metadata": {
    "collapsed": false,
    "gather": {
     "logged": 1637758888059
    },
    "jupyter": {
     "outputs_hidden": false,
     "source_hidden": false
    },
    "nteract": {
     "transient": {
      "deleting": false
     }
    }
   },
   "outputs": [],
   "source": [
    "from scivision.io import load_pretrained_model, load_dataset"
   ]
  },
  {
   "cell_type": "code",
   "execution_count": null,
   "id": "578b9bb9",
   "metadata": {
    "gather": {
     "logged": 1637758888163
    }
   },
   "outputs": [],
   "source": [
    "cat = load_dataset('https://github.com/alan-turing-institute/plankton-dsg-challenge')"
   ]
  },
  {
   "cell_type": "code",
   "execution_count": null,
   "id": "4b6f5c4f",
   "metadata": {
    "collapsed": false,
    "gather": {
     "logged": 1637758888318
    },
    "jupyter": {
     "outputs_hidden": false,
     "source_hidden": false
    },
    "nteract": {
     "transient": {
      "deleting": false
     }
    }
   },
   "outputs": [],
   "source": [
    "type(cat)"
   ]
  },
  {
   "cell_type": "code",
   "execution_count": null,
   "id": "34a6a41c",
   "metadata": {
    "gather": {
     "logged": 1637758921047
    }
   },
   "outputs": [],
   "source": [
    "ds = cat.plankton_multiple().to_dask()"
   ]
  },
  {
   "cell_type": "code",
   "execution_count": null,
   "id": "68dd43eb",
   "metadata": {
    "gather": {
     "logged": 1637758921381
    }
   },
   "outputs": [],
   "source": [
    "type(ds)"
   ]
  },
  {
   "cell_type": "code",
   "execution_count": null,
   "id": "10ec6d9b",
   "metadata": {
    "collapsed": false,
    "gather": {
     "logged": 1637758921535
    },
    "jupyter": {
     "outputs_hidden": false,
     "source_hidden": false
    },
    "nteract": {
     "transient": {
      "deleting": false
     }
    }
   },
   "outputs": [],
   "source": [
    "# choose a test image\n",
    "image_no = 30\n",
    "image = ds['raster'].sel(concat_dim=image_no).compute().values"
   ]
  },
  {
   "cell_type": "code",
   "execution_count": null,
   "id": "a381e601",
   "metadata": {
    "collapsed": false,
    "gather": {
     "logged": 1637758921667
    },
    "jupyter": {
     "outputs_hidden": false,
     "source_hidden": false
    },
    "nteract": {
     "transient": {
      "deleting": false
     }
    }
   },
   "outputs": [],
   "source": [
    "import matplotlib.pyplot as plt\n",
    "plt.imshow(image)"
   ]
  },
  {
   "cell_type": "code",
   "execution_count": null,
   "id": "7d2f69e3",
   "metadata": {
    "collapsed": false,
    "gather": {
     "logged": 1637754654394
    },
    "jupyter": {
     "outputs_hidden": false,
     "source_hidden": false
    },
    "nteract": {
     "transient": {
      "deleting": false
     }
    }
   },
   "outputs": [],
   "source": [
    "%%capture\n",
    "# Load model\n",
    "scivision_yml = 'https://github.com/quantumjot/scivision-test-plugin/.scivision-config_imagenet.yaml'\n",
    "model = load_pretrained_model(scivision_yml, allow_install=True)"
   ]
  },
  {
   "cell_type": "code",
   "execution_count": null,
   "id": "b75887f8",
   "metadata": {
    "collapsed": false,
    "gather": {
     "logged": 1637758925118
    },
    "jupyter": {
     "outputs_hidden": false,
     "source_hidden": false
    },
    "nteract": {
     "transient": {
      "deleting": false
     }
    }
   },
   "outputs": [],
   "source": [
    "# let's explore the model object\n",
    "model"
   ]
  },
  {
   "cell_type": "code",
   "execution_count": null,
   "id": "f8298dfa",
   "metadata": {
    "collapsed": false,
    "gather": {
     "logged": 1637758925231
    },
    "jupyter": {
     "outputs_hidden": false,
     "source_hidden": false
    },
    "nteract": {
     "transient": {
      "deleting": false
     }
    }
   },
   "outputs": [],
   "source": [
    "# libraries\n",
    "from skimage.io import imread\n",
    "from skimage.transform import resize\n",
    "from tensorflow.keras.applications.imagenet_utils import decode_predictions"
   ]
  },
  {
   "cell_type": "code",
   "execution_count": null,
   "id": "46a8f2fe",
   "metadata": {
    "collapsed": false,
    "gather": {
     "logged": 1637758925330
    },
    "jupyter": {
     "outputs_hidden": false,
     "source_hidden": false
    },
    "nteract": {
     "transient": {
      "deleting": false
     }
    }
   },
   "outputs": [],
   "source": [
    "# resize image\n",
    "IMAGE = resize(image, (224, 224)) * 255  # cast back to 0-255 range"
   ]
  },
  {
   "cell_type": "code",
   "execution_count": null,
   "id": "6cb1f3ce",
   "metadata": {
    "collapsed": false,
    "gather": {
     "logged": 1637758925417
    },
    "jupyter": {
     "outputs_hidden": false,
     "source_hidden": false
    },
    "nteract": {
     "transient": {
      "deleting": false
     }
    }
   },
   "outputs": [],
   "source": [
    "# Get model predicition of image\n",
    "pred = model.predict(IMAGE)"
   ]
  },
  {
   "cell_type": "code",
   "execution_count": null,
   "id": "1fe26832",
   "metadata": {
    "collapsed": false,
    "gather": {
     "logged": 1637758955243
    },
    "jupyter": {
     "outputs_hidden": false,
     "source_hidden": false
    },
    "nteract": {
     "transient": {
      "deleting": false
     }
    }
   },
   "outputs": [],
   "source": [
    "plt.figure()\n",
    "plt.imshow(image)\n",
    "_, image_class, class_confidence = decode_predictions(pred, top=1)[0][0]\n",
    "plt.title(\"{} : {:.2f}%\".format(image_class, class_confidence * 100))\n",
    "plt.show()"
   ]
  }
 ],
 "metadata": {
  "kernel_info": {
   "name": "scivis-plankton"
  },
  "kernelspec": {
   "display_name": "Python 3",
   "language": "python",
   "name": "python3"
  },
  "language_info": {
   "codemirror_mode": {
    "name": "ipython",
    "version": 3
   },
   "file_extension": ".py",
   "mimetype": "text/x-python",
   "name": "python",
   "nbconvert_exporter": "python",
   "pygments_lexer": "ipython3",
   "version": "3.6.9"
  },
  "microsoft": {
   "host": {
    "AzureML": {
     "notebookHasBeenCompleted": true
    }
   }
  },
  "nteract": {
   "version": "nteract-front-end@1.0.0"
  }
 },
 "nbformat": 4,
 "nbformat_minor": 5
}
