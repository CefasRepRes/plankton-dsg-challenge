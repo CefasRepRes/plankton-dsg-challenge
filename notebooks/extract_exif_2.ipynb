{
 "cells": [
  {
   "cell_type": "markdown",
   "metadata": {},
   "source": [
    "# Exploring the image metadata"
   ]
  },
  {
   "cell_type": "markdown",
   "metadata": {},
   "source": [
    "## Load the dataset"
   ]
  },
  {
   "cell_type": "code",
   "execution_count": null,
   "metadata": {},
   "outputs": [],
   "source": [
    "import numpy as np\n",
    "import pandas as pd\n",
    "import xarray as xr\n",
    "import matplotlib.pyplot as plt\n",
    "import geopandas\n",
    "from scivision.io import load_dataset"
   ]
  },
  {
   "cell_type": "code",
   "execution_count": null,
   "metadata": {},
   "outputs": [],
   "source": [
    "cat = load_dataset('https://github.com/alan-turing-institute/plankton-dsg-challenge')\n",
    "\n",
    "ds_all = cat.plankton_multiple().to_dask()\n",
    "labels = cat.labels().read()\n",
    "\n",
    "labels_dedup = xr.Dataset.from_dataframe(\n",
    "    labels\n",
    "    .drop_duplicates(subset=[\"filename\"])\n",
    "    .set_index(\"filename\")\n",
    "    .sort_index()\n",
    ")\n",
    "\n",
    "ds_labelled = (\n",
    "    ds_all\n",
    "    .swap_dims({\"concat_dim\": \"filename\"})\n",
    "    .merge(labels_dedup, join=\"inner\")\n",
    "    .swap_dims({\"filename\": \"concat_dim\"})\n",
    ")"
   ]
  },
  {
   "cell_type": "markdown",
   "metadata": {},
   "source": [
    "## Extracting EXIF data"
   ]
  },
  {
   "cell_type": "markdown",
   "metadata": {},
   "source": [
    "We work with a small sample of the data below, since loading the full dataset can take some time.\n",
    "\n",
    "The EXIF data variables have types from the [ExifRead](https://pypi.org/project/ExifRead/) library."
   ]
  },
  {
   "cell_type": "code",
   "execution_count": null,
   "metadata": {
    "scrolled": true
   },
   "outputs": [],
   "source": [
    "ds_labelled = ds_labelled.assign(\n",
    "    datetime=pd.to_datetime(\n",
    "        ds_labelled['EXIF Image DateTime']\n",
    "            .to_pandas()\n",
    "            .apply(lambda x: x.values)\n",
    "            # The format used in the timestamp uses ':' and '' inconsistently\n",
    "            # Replace with something else before we extract the value as a datetime\n",
    "            .str.replace(\"[:-]\", \"_\"),\n",
    "        format=\"%Y_%m_%d %H_%M_%S\"\n",
    "    )\n",
    ")"
   ]
  },
  {
   "cell_type": "markdown",
   "metadata": {},
   "source": [
    "### GPS coordinates"
   ]
  },
  {
   "cell_type": "markdown",
   "metadata": {},
   "source": [
    "The GPS coordinates are stored as a list of rational numbers, '[degrees, minutes, seconds]', in `EXIF GPS GPSLatitude` and `EXIF GPS GPSLongitude`. Longitudes are given as east or west of the prime meridian depending on `EXIF GPS GPSLongitudeRef`, and latitudes are given as north or south of the equator depending on `EXIF GPS GPSLatitudeRef`."
   ]
  },
  {
   "cell_type": "code",
   "execution_count": null,
   "metadata": {},
   "outputs": [],
   "source": [
    "@np.vectorize\n",
    "def GPS_to_float(v, ref):\n",
    "    dms = [r.decimal() for r in v.values]\n",
    "    result_abs = dms[0] + dms[1] / 60.0 + dms[2] / 3600.0\n",
    "    sign = 1.0 if ref.values == 'E' or ref.values == 'N' else -1.0\n",
    "    return sign * result_abs"
   ]
  },
  {
   "cell_type": "code",
   "execution_count": null,
   "metadata": {},
   "outputs": [],
   "source": [
    "ds_labelled = ds_labelled.assign(\n",
    "    latitude=(\"concat_dim\", GPS_to_float(ds_labelled['EXIF GPS GPSLatitude'], ds_labelled['EXIF GPS GPSLatitudeRef'])),\n",
    "    longitude=(\"concat_dim\", GPS_to_float(ds_labelled['EXIF GPS GPSLongitude'], ds_labelled['EXIF GPS GPSLongitudeRef'])),\n",
    ")"
   ]
  },
  {
   "cell_type": "code",
   "execution_count": null,
   "metadata": {
    "scrolled": true
   },
   "outputs": [],
   "source": [
    "df = ds_labelled[['datetime', 'latitude', 'longitude', 'label1', 'label2', 'label3']].to_dataframe()\n",
    "df.head()"
   ]
  },
  {
   "cell_type": "code",
   "execution_count": null,
   "metadata": {},
   "outputs": [],
   "source": [
    "len(df)"
   ]
  }
 ],
 "metadata": {
  "kernelspec": {
   "display_name": "Python (scivis-plankton)",
   "language": "python",
   "name": "scivis-plankton"
  },
  "language_info": {
   "codemirror_mode": {
    "name": "ipython",
    "version": 3
   },
   "file_extension": ".py",
   "mimetype": "text/x-python",
   "name": "python",
   "nbconvert_exporter": "python",
   "pygments_lexer": "ipython3",
   "version": "3.8.8"
  }
 },
 "nbformat": 4,
 "nbformat_minor": 5
}
