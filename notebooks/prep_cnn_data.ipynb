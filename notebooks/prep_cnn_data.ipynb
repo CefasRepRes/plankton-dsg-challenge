{
 "cells": [
  {
   "cell_type": "markdown",
   "metadata": {},
   "source": [
    "TODO 1: Grayscale Image dataset, Resized to 40,40\n",
    "- Downsample detritus images to 20000\n",
    "- Saved in /shared/images_cnn/\n",
    "\n",
    "TODO 2: Plankton augmentation\n",
    "- Concentrate on copepods + noncopoepod"
   ]
  },
  {
   "cell_type": "code",
   "execution_count": null,
   "metadata": {},
   "outputs": [],
   "source": [
    "import cv2, os\n",
    "import numpy as np\n",
    "import pandas as pd\n",
    "import xarray as xr\n",
    "import matplotlib.pyplot as plt\n",
    "from scivision.io import load_dataset"
   ]
  },
  {
   "cell_type": "code",
   "execution_count": null,
   "metadata": {},
   "outputs": [],
   "source": [
    "dataPath = '/data/images/'\n",
    "df_ind = pd.read_csv('/data/index.csv')\n",
    "df_ind.head()"
   ]
  },
  {
   "cell_type": "code",
   "execution_count": null,
   "metadata": {},
   "outputs": [],
   "source": [
    "df_ind['label1'].value_counts()"
   ]
  },
  {
   "cell_type": "code",
   "execution_count": null,
   "metadata": {},
   "outputs": [],
   "source": [
    "detritus_im_list = df_ind[df_ind['label1']=='detritus']['filename'].tolist()\n",
    "plankton_im_list = df_ind[df_ind['label1']=='zooplankton']['filename'].tolist()\n",
    "\n",
    "print(len(detritus_im_list), len(plankton_im_list))"
   ]
  },
  {
   "cell_type": "code",
   "execution_count": null,
   "metadata": {},
   "outputs": [],
   "source": [
    "def preprocess(im, size, blur):\n",
    "    im = cv2.cvtColor(im, cv2.COLOR_BGR2GRAY)\n",
    "    im = cv2.resize(im,(size, size))\n",
    "    im = cv2.GaussianBlur(im, (blur, blur),0)\n",
    "    return im"
   ]
  },
  {
   "cell_type": "code",
   "execution_count": null,
   "metadata": {
    "scrolled": true
   },
   "outputs": [],
   "source": [
    "savePath = '/shared/images_cnn/detritus/'\n",
    "\n",
    "for i in sorted(detritus_im_list)[:20000]:\n",
    "    im = cv2.imread(dataPath + i)\n",
    "#     print(dataPath + i)\n",
    "    im = preprocess(im, 40, 5)\n",
    "    cv2.imwrite(savePath+i, im)"
   ]
  },
  {
   "cell_type": "code",
   "execution_count": null,
   "metadata": {},
   "outputs": [],
   "source": [
    "print(len(os.listdir('/shared/images_cnn/detritus/')))"
   ]
  },
  {
   "cell_type": "code",
   "execution_count": null,
   "metadata": {
    "scrolled": true
   },
   "outputs": [],
   "source": [
    "savePath = '/shared/images_cnn/plankton/'\n",
    "\n",
    "for i in sorted(plankton_im_list)[:5]:\n",
    "    im = cv2.imread(dataPath + i)\n",
    "#     print(dataPath + i)\n",
    "    im = preprocess(im, 40, 5)\n",
    "    cv2.imwrite(savePath+i, im)"
   ]
  },
  {
   "cell_type": "code",
   "execution_count": null,
   "metadata": {},
   "outputs": [],
   "source": [
    "print(len(os.listdir('/shared/images_cnn/plankton/')))"
   ]
  },
  {
   "cell_type": "markdown",
   "metadata": {},
   "source": [
    "# Load Data - OpenCV"
   ]
  },
  {
   "cell_type": "code",
   "execution_count": null,
   "metadata": {
    "scrolled": false
   },
   "outputs": [],
   "source": [
    "# dataPath = '/data/images/'\n",
    "dataPath = '/shared/images_cnn/plankton/'\n",
    "\n",
    "for i in sorted(os.listdir(dataPath))[:5]:\n",
    "    im = cv2.imread(dataPath + i)\n",
    "    print(i)\n",
    "    print(\"avg/std rgb: \", np.mean(im, axis=(0,1)), np.std(im, axis=(0,1)))\n",
    "    \n",
    "    im = cv2.resize(im,(224,224))\n",
    "    im_gray = cv2.cvtColor(im, cv2.COLOR_BGR2GRAY)\n",
    "    im = cv2.cvtColor(im, cv2.COLOR_BGR2RGB)\n",
    "    im = cv2.GaussianBlur(im, (7,7),0)\n",
    "    edges = cv2.Canny(im, 50, 50)\n",
    "    print(im.shape)\n",
    "    \n",
    "    plt.subplot(131), plt.imshow(im)\n",
    "    plt.subplot(132), plt.imshow(im_gray, cmap=\"gray\")\n",
    "    plt.subplot(133),plt.imshow(edges, cmap=\"gray\")\n",
    "    plt.show()"
   ]
  },
  {
   "cell_type": "markdown",
   "metadata": {},
   "source": [
    "# Load Data - Scivision\n",
    "- Deduplicate and view labels & example image"
   ]
  },
  {
   "cell_type": "code",
   "execution_count": null,
   "metadata": {},
   "outputs": [],
   "source": [
    "cat = load_dataset('https://github.com/alan-turing-institute/plankton-dsg-challenge')\n",
    "\n",
    "ds_all = cat.plankton_multiple().to_dask()\n",
    "labels = cat.labels().read()\n",
    "\n",
    "labels_dedup = xr.Dataset.from_dataframe(\n",
    "    labels\n",
    "    .drop_duplicates(subset=[\"filename\"])\n",
    "    .set_index(\"filename\")\n",
    "    .sort_index()\n",
    ")\n",
    "\n",
    "ds_labelled = (\n",
    "    ds_all\n",
    "    .swap_dims({\"concat_dim\": \"filename\"})\n",
    "    .merge(labels_dedup, join=\"inner\")\n",
    "    .swap_dims({\"filename\": \"concat_dim\"})\n",
    ")"
   ]
  },
  {
   "cell_type": "code",
   "execution_count": null,
   "metadata": {},
   "outputs": [],
   "source": [
    "one_image = ds_labelled.sel(concat_dim=1)\n",
    "plt.imshow(one_image['raster'].compute().values[:,:,:])\n",
    "plt.title(one_image.filename.compute().values)"
   ]
  },
  {
   "cell_type": "code",
   "execution_count": null,
   "metadata": {},
   "outputs": [],
   "source": [
    "# get image width and length into columns\n",
    "ds_labelled = ds_labelled.assign(\n",
    "    image_width = ds_labelled['EXIF Image ImageWidth'].to_pandas().apply(lambda x: x.values[0]),\n",
    "    image_length = ds_labelled['EXIF Image ImageLength'].to_pandas().apply(lambda x: x.values[0])\n",
    ")"
   ]
  }
 ],
 "metadata": {
  "kernelspec": {
   "display_name": "Python (scivis-plankton)",
   "language": "python",
   "name": "scivis-plankton"
  },
  "language_info": {
   "codemirror_mode": {
    "name": "ipython",
    "version": 3
   },
   "file_extension": ".py",
   "mimetype": "text/x-python",
   "name": "python",
   "nbconvert_exporter": "python",
   "pygments_lexer": "ipython3",
   "version": "3.8.8"
  }
 },
 "nbformat": 4,
 "nbformat_minor": 2
}
