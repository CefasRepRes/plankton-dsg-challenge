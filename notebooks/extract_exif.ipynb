{
 "cells": [
  {
   "cell_type": "code",
   "execution_count": 1,
   "metadata": {},
   "outputs": [],
   "source": [
    "import os, piexif, piexif.helper\n",
    "import pandas as pd"
   ]
  },
  {
   "cell_type": "code",
   "execution_count": 2,
   "metadata": {},
   "outputs": [],
   "source": [
    "def read_exif(imagePath):\n",
    "    exif_dict = piexif.load(imagePath)\n",
    "    image_data = piexif.helper.UserComment.load(exif)"
   ]
  },
  {
   "cell_type": "code",
   "execution_count": 3,
   "metadata": {},
   "outputs": [
    {
     "name": "stdout",
     "output_type": "stream",
     "text": [
      "{'0th': {256: 104, 257: 98, 258: (8, 8, 8), 259: 1, 262: 2, 269: b'', 270: b'', 272: b'5.0', 273: 394, 277: 3, 278: 98, 279: 30576, 282: (500, 1), 283: (500, 1), 296: 3, 306: b'2016-08-02 16:31:40', 34853: 236}, 'Exif': {}, 'GPS': {0: (2, 2, 0, 0), 1: b'!', 2: ((0, 1), (0, 1), (0, 1)), 3: b'!', 4: ((0, 1), (0, 1), (0, 1))}, 'Interop': {}, '1st': {}, 'thumbnail': None}\n"
     ]
    }
   ],
   "source": [
    "imagePath = '/data/images/Pia1.2016-08-02.1631+N71_hc.tif'\n",
    "exif_dict = piexif.load(imagePath)\n",
    "print(exif_dict)"
   ]
  },
  {
   "cell_type": "code",
   "execution_count": 4,
   "metadata": {
    "scrolled": true
   },
   "outputs": [],
   "source": [
    "image_list, exif_list = [], []\n",
    "dataPath = '/data/images/'\n",
    "for i in os.listdir(dataPath):\n",
    "    imagePath = dataPath + i\n",
    "    exif_dict = piexif.load(imagePath)\n",
    "    image_list.append(i)\n",
    "    exif_list.append(exif_dict)"
   ]
  },
  {
   "cell_type": "code",
   "execution_count": 5,
   "metadata": {},
   "outputs": [
    {
     "data": {
      "text/html": [
       "<div>\n",
       "<style scoped>\n",
       "    .dataframe tbody tr th:only-of-type {\n",
       "        vertical-align: middle;\n",
       "    }\n",
       "\n",
       "    .dataframe tbody tr th {\n",
       "        vertical-align: top;\n",
       "    }\n",
       "\n",
       "    .dataframe thead th {\n",
       "        text-align: right;\n",
       "    }\n",
       "</style>\n",
       "<table border=\"1\" class=\"dataframe\">\n",
       "  <thead>\n",
       "    <tr style=\"text-align: right;\">\n",
       "      <th></th>\n",
       "      <th>image_name</th>\n",
       "      <th>timestamp</th>\n",
       "      <th>gps_short</th>\n",
       "      <th>gps_long</th>\n",
       "      <th>exif</th>\n",
       "    </tr>\n",
       "  </thead>\n",
       "  <tbody>\n",
       "    <tr>\n",
       "      <th>45466</th>\n",
       "      <td>Pia1.2020-10-17.1804+N00936206_hc.tif</td>\n",
       "      <td>2020-10-17 23:02:54</td>\n",
       "      <td>[((48, 1), (337618, 10000), (0, 1)), ((5, 1), ...</td>\n",
       "      <td>{0: (2, 2, 0, 0), 1: b'N', 2: ((48, 1), (33761...</td>\n",
       "      <td>{'0th': {256: 64, 257: 64, 258: (8, 8, 8), 259...</td>\n",
       "    </tr>\n",
       "    <tr>\n",
       "      <th>41429</th>\n",
       "      <td>Pia1.2020-10-16.0917+N00490940_hc.tif</td>\n",
       "      <td>2020-10-17 01:44:55</td>\n",
       "      <td>[((49, 1), (503325, 10000), (0, 1)), ((5, 1), ...</td>\n",
       "      <td>{0: (2, 2, 0, 0), 1: b'N', 2: ((49, 1), (50332...</td>\n",
       "      <td>{'0th': {256: 72, 257: 104, 258: (8, 8, 8), 25...</td>\n",
       "    </tr>\n",
       "    <tr>\n",
       "      <th>2097</th>\n",
       "      <td>Pia1.2017-10-03.1726+N00009144_hc.tif</td>\n",
       "      <td>2017-10-03 18:51:40</td>\n",
       "      <td>[((50, 1), (5918183, 100000), (0, 1)), ((4, 1)...</td>\n",
       "      <td>{0: (2, 2, 0, 0), 1: b'N', 2: ((50, 1), (59181...</td>\n",
       "      <td>{'0th': {256: 96, 257: 72, 258: (8, 8, 8), 259...</td>\n",
       "    </tr>\n",
       "    <tr>\n",
       "      <th>518</th>\n",
       "      <td>Pia1.2017-09-30.1719+N00027103_hc.tif</td>\n",
       "      <td>2017-09-30 19:55:59</td>\n",
       "      <td>[((51, 1), (2905844, 100000), (0, 1)), ((6, 1)...</td>\n",
       "      <td>{0: (2, 2, 0, 0), 1: b'N', 2: ((51, 1), (29058...</td>\n",
       "      <td>{'0th': {256: 136, 257: 88, 258: (8, 8, 8), 25...</td>\n",
       "    </tr>\n",
       "    <tr>\n",
       "      <th>19535</th>\n",
       "      <td>Pia1.2020-10-11.1348+N00344338_hc.tif</td>\n",
       "      <td>2020-10-12 02:00:02</td>\n",
       "      <td>[((49, 1), (93093, 10000), (0, 1)), ((3, 1), (...</td>\n",
       "      <td>{0: (2, 2, 0, 0), 1: b'N', 2: ((49, 1), (93093...</td>\n",
       "      <td>{'0th': {256: 72, 257: 64, 258: (8, 8, 8), 259...</td>\n",
       "    </tr>\n",
       "  </tbody>\n",
       "</table>\n",
       "</div>"
      ],
      "text/plain": [
       "                                  image_name            timestamp  \\\n",
       "45466  Pia1.2020-10-17.1804+N00936206_hc.tif  2020-10-17 23:02:54   \n",
       "41429  Pia1.2020-10-16.0917+N00490940_hc.tif  2020-10-17 01:44:55   \n",
       "2097   Pia1.2017-10-03.1726+N00009144_hc.tif  2017-10-03 18:51:40   \n",
       "518    Pia1.2017-09-30.1719+N00027103_hc.tif  2017-09-30 19:55:59   \n",
       "19535  Pia1.2020-10-11.1348+N00344338_hc.tif  2020-10-12 02:00:02   \n",
       "\n",
       "                                               gps_short  \\\n",
       "45466  [((48, 1), (337618, 10000), (0, 1)), ((5, 1), ...   \n",
       "41429  [((49, 1), (503325, 10000), (0, 1)), ((5, 1), ...   \n",
       "2097   [((50, 1), (5918183, 100000), (0, 1)), ((4, 1)...   \n",
       "518    [((51, 1), (2905844, 100000), (0, 1)), ((6, 1)...   \n",
       "19535  [((49, 1), (93093, 10000), (0, 1)), ((3, 1), (...   \n",
       "\n",
       "                                                gps_long  \\\n",
       "45466  {0: (2, 2, 0, 0), 1: b'N', 2: ((48, 1), (33761...   \n",
       "41429  {0: (2, 2, 0, 0), 1: b'N', 2: ((49, 1), (50332...   \n",
       "2097   {0: (2, 2, 0, 0), 1: b'N', 2: ((50, 1), (59181...   \n",
       "518    {0: (2, 2, 0, 0), 1: b'N', 2: ((51, 1), (29058...   \n",
       "19535  {0: (2, 2, 0, 0), 1: b'N', 2: ((49, 1), (93093...   \n",
       "\n",
       "                                                    exif  \n",
       "45466  {'0th': {256: 64, 257: 64, 258: (8, 8, 8), 259...  \n",
       "41429  {'0th': {256: 72, 257: 104, 258: (8, 8, 8), 25...  \n",
       "2097   {'0th': {256: 96, 257: 72, 258: (8, 8, 8), 259...  \n",
       "518    {'0th': {256: 136, 257: 88, 258: (8, 8, 8), 25...  \n",
       "19535  {'0th': {256: 72, 257: 64, 258: (8, 8, 8), 259...  "
      ]
     },
     "execution_count": 5,
     "metadata": {},
     "output_type": "execute_result"
    }
   ],
   "source": [
    "df_exif = pd.DataFrame([image_list, exif_list]).T\n",
    "df_exif.columns=['image_name', 'exif']\n",
    "df_exif['timestamp'] = df_exif['exif'].apply(lambda x: x['0th'][306].decode(\"utf-8\"))\n",
    "df_exif['gps_long'] = df_exif['exif'].apply(lambda x: x['GPS'])\n",
    "df_exif['gps_short'] = df_exif['gps_long'].apply(lambda x: [x[2], x[4]])\n",
    "df_exif[['image_name', 'timestamp', 'gps_short', 'gps_long', 'exif']].sample(5)"
   ]
  },
  {
   "cell_type": "code",
   "execution_count": 9,
   "metadata": {},
   "outputs": [],
   "source": [
    "df_exif[['image_name', 'timestamp', 'gps_short', 'gps_long', 'exif']].to_csv(\"/shared/image_metadata.csv\", index=None)"
   ]
  }
 ],
 "metadata": {
  "kernelspec": {
   "display_name": "Python (scivis-plankton)",
   "language": "python",
   "name": "scivis-plankton"
  },
  "language_info": {
   "codemirror_mode": {
    "name": "ipython",
    "version": 3
   },
   "file_extension": ".py",
   "mimetype": "text/x-python",
   "name": "python",
   "nbconvert_exporter": "python",
   "pygments_lexer": "ipython3",
   "version": "3.8.8"
  }
 },
 "nbformat": 4,
 "nbformat_minor": 2
}
