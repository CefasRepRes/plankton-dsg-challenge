{
 "cells": [
  {
   "cell_type": "code",
   "execution_count": 1,
   "metadata": {},
   "outputs": [],
   "source": [
    "import os, piexif, piexif.helper\n",
    "import pandas as pd\n",
    "import numpy as np"
   ]
  },
  {
   "cell_type": "code",
   "execution_count": 2,
   "metadata": {},
   "outputs": [],
   "source": [
    "def read_exif(imagePath):\n",
    "    exif_dict = piexif.load(imagePath)\n",
    "    image_data = piexif.helper.UserComment.load(exif)"
   ]
  },
  {
   "cell_type": "code",
   "execution_count": 3,
   "metadata": {},
   "outputs": [
    {
     "name": "stdout",
     "output_type": "stream",
     "text": [
      "{'0th': {256: 104, 257: 98, 258: (8, 8, 8), 259: 1, 262: 2, 269: b'', 270: b'', 272: b'5.0', 273: 394, 277: 3, 278: 98, 279: 30576, 282: (500, 1), 283: (500, 1), 296: 3, 306: b'2016-08-02 16:31:40', 34853: 236}, 'Exif': {}, 'GPS': {0: (2, 2, 0, 0), 1: b'!', 2: ((0, 1), (0, 1), (0, 1)), 3: b'!', 4: ((0, 1), (0, 1), (0, 1))}, 'Interop': {}, '1st': {}, 'thumbnail': None}\n"
     ]
    }
   ],
   "source": [
    "imagePath = '/data/images/Pia1.2016-08-02.1631+N71_hc.tif'\n",
    "exif_dict = piexif.load(imagePath)\n",
    "print(exif_dict)"
   ]
  },
  {
   "cell_type": "code",
   "execution_count": 4,
   "metadata": {
    "scrolled": true
   },
   "outputs": [],
   "source": [
    "image_list, exif_list = [], []\n",
    "dataPath = '/data/images/'\n",
    "for i in os.listdir(dataPath):\n",
    "    imagePath = dataPath + i\n",
    "    exif_dict = piexif.load(imagePath)\n",
    "    image_list.append(i)\n",
    "    exif_list.append(exif_dict)"
   ]
  },
  {
   "cell_type": "code",
   "execution_count": 5,
   "metadata": {},
   "outputs": [],
   "source": [
    "df_exif = pd.DataFrame([image_list, exif_list]).T\n",
    "df_exif.columns=['image_name', 'exif']\n",
    "df_exif['timestamp'] = df_exif['exif'].apply(lambda x: x['0th'][306].decode(\"utf-8\"))\n",
    "df_exif['gps_long'] = df_exif['exif'].apply(lambda x: x['GPS'])\n",
    "df_exif['gps0'] = df_exif['gps_long'].apply(lambda x: x[2])\n",
    "df_exif['gps1'] = df_exif['gps_long'].apply(lambda x: x[4])"
   ]
  },
  {
   "cell_type": "code",
   "execution_count": 6,
   "metadata": {},
   "outputs": [
    {
     "data": {
      "text/html": [
       "<div>\n",
       "<style scoped>\n",
       "    .dataframe tbody tr th:only-of-type {\n",
       "        vertical-align: middle;\n",
       "    }\n",
       "\n",
       "    .dataframe tbody tr th {\n",
       "        vertical-align: top;\n",
       "    }\n",
       "\n",
       "    .dataframe thead th {\n",
       "        text-align: right;\n",
       "    }\n",
       "</style>\n",
       "<table border=\"1\" class=\"dataframe\">\n",
       "  <thead>\n",
       "    <tr style=\"text-align: right;\">\n",
       "      <th></th>\n",
       "      <th>image_name</th>\n",
       "      <th>timestamp</th>\n",
       "      <th>gps0</th>\n",
       "      <th>gps1</th>\n",
       "      <th>gps_long</th>\n",
       "      <th>exif</th>\n",
       "    </tr>\n",
       "  </thead>\n",
       "  <tbody>\n",
       "    <tr>\n",
       "      <th>55358</th>\n",
       "      <td>Pia1.2020-10-18.0359+N01076581_hc.tif</td>\n",
       "      <td>2020-10-18 18:12:48</td>\n",
       "      <td>((49, 1), (9656, 10000), (0, 1))</td>\n",
       "      <td>((5, 1), (149022, 10000), (0, 1))</td>\n",
       "      <td>{0: (2, 2, 0, 0), 1: b'N', 2: ((49, 1), (9656,...</td>\n",
       "      <td>{'0th': {256: 64, 257: 76, 258: (8, 8, 8), 259...</td>\n",
       "    </tr>\n",
       "    <tr>\n",
       "      <th>53832</th>\n",
       "      <td>Pia1.2020-10-18.0359+N01051871_hc.tif</td>\n",
       "      <td>2020-10-18 18:08:05</td>\n",
       "      <td>((49, 1), (1, 10000), (0, 1))</td>\n",
       "      <td>((5, 1), (155443, 10000), (0, 1))</td>\n",
       "      <td>{0: (2, 2, 0, 0), 1: b'N', 2: ((49, 1), (1, 10...</td>\n",
       "      <td>{'0th': {256: 64, 257: 142, 258: (8, 8, 8), 25...</td>\n",
       "    </tr>\n",
       "    <tr>\n",
       "      <th>11364</th>\n",
       "      <td>Pia1.2017-10-08.1928+N00715451_hc.tif</td>\n",
       "      <td>2017-10-11 00:03:32</td>\n",
       "      <td>((49, 1), (4893783, 100000), (0, 1))</td>\n",
       "      <td>((5, 1), (3627961, 100000), (0, 1))</td>\n",
       "      <td>{0: (2, 2, 0, 0), 1: b'N', 2: ((49, 1), (48937...</td>\n",
       "      <td>{'0th': {256: 80, 257: 102, 258: (8, 8, 8), 25...</td>\n",
       "    </tr>\n",
       "    <tr>\n",
       "      <th>36663</th>\n",
       "      <td>Pia1.2020-10-14.1730+N00469390_hc.tif</td>\n",
       "      <td>2020-10-14 22:23:28</td>\n",
       "      <td>((48, 1), (478431, 10000), (0, 1))</td>\n",
       "      <td>((4, 1), (163384, 10000), (0, 1))</td>\n",
       "      <td>{0: (2, 2, 0, 0), 1: b'N', 2: ((48, 1), (47843...</td>\n",
       "      <td>{'0th': {256: 64, 257: 58, 258: (8, 8, 8), 259...</td>\n",
       "    </tr>\n",
       "    <tr>\n",
       "      <th>41043</th>\n",
       "      <td>Pia1.2020-10-16.0917+N00464122_hc.tif</td>\n",
       "      <td>2020-10-17 00:39:11</td>\n",
       "      <td>((49, 1), (420529, 10000), (0, 1))</td>\n",
       "      <td>((4, 1), (551839, 10000), (0, 1))</td>\n",
       "      <td>{0: (2, 2, 0, 0), 1: b'N', 2: ((49, 1), (42052...</td>\n",
       "      <td>{'0th': {256: 80, 257: 62, 258: (8, 8, 8), 259...</td>\n",
       "    </tr>\n",
       "  </tbody>\n",
       "</table>\n",
       "</div>"
      ],
      "text/plain": [
       "                                  image_name            timestamp  \\\n",
       "55358  Pia1.2020-10-18.0359+N01076581_hc.tif  2020-10-18 18:12:48   \n",
       "53832  Pia1.2020-10-18.0359+N01051871_hc.tif  2020-10-18 18:08:05   \n",
       "11364  Pia1.2017-10-08.1928+N00715451_hc.tif  2017-10-11 00:03:32   \n",
       "36663  Pia1.2020-10-14.1730+N00469390_hc.tif  2020-10-14 22:23:28   \n",
       "41043  Pia1.2020-10-16.0917+N00464122_hc.tif  2020-10-17 00:39:11   \n",
       "\n",
       "                                       gps0  \\\n",
       "55358      ((49, 1), (9656, 10000), (0, 1))   \n",
       "53832         ((49, 1), (1, 10000), (0, 1))   \n",
       "11364  ((49, 1), (4893783, 100000), (0, 1))   \n",
       "36663    ((48, 1), (478431, 10000), (0, 1))   \n",
       "41043    ((49, 1), (420529, 10000), (0, 1))   \n",
       "\n",
       "                                      gps1  \\\n",
       "55358    ((5, 1), (149022, 10000), (0, 1))   \n",
       "53832    ((5, 1), (155443, 10000), (0, 1))   \n",
       "11364  ((5, 1), (3627961, 100000), (0, 1))   \n",
       "36663    ((4, 1), (163384, 10000), (0, 1))   \n",
       "41043    ((4, 1), (551839, 10000), (0, 1))   \n",
       "\n",
       "                                                gps_long  \\\n",
       "55358  {0: (2, 2, 0, 0), 1: b'N', 2: ((49, 1), (9656,...   \n",
       "53832  {0: (2, 2, 0, 0), 1: b'N', 2: ((49, 1), (1, 10...   \n",
       "11364  {0: (2, 2, 0, 0), 1: b'N', 2: ((49, 1), (48937...   \n",
       "36663  {0: (2, 2, 0, 0), 1: b'N', 2: ((48, 1), (47843...   \n",
       "41043  {0: (2, 2, 0, 0), 1: b'N', 2: ((49, 1), (42052...   \n",
       "\n",
       "                                                    exif  \n",
       "55358  {'0th': {256: 64, 257: 76, 258: (8, 8, 8), 259...  \n",
       "53832  {'0th': {256: 64, 257: 142, 258: (8, 8, 8), 25...  \n",
       "11364  {'0th': {256: 80, 257: 102, 258: (8, 8, 8), 25...  \n",
       "36663  {'0th': {256: 64, 257: 58, 258: (8, 8, 8), 259...  \n",
       "41043  {'0th': {256: 80, 257: 62, 258: (8, 8, 8), 259...  "
      ]
     },
     "execution_count": 6,
     "metadata": {},
     "output_type": "execute_result"
    }
   ],
   "source": [
    "columns = ['image_name', 'timestamp', 'gps0', 'gps1', 'gps_long', 'exif']\n",
    "df_exif[columns].sample(5)"
   ]
  },
  {
   "cell_type": "code",
   "execution_count": 7,
   "metadata": {},
   "outputs": [],
   "source": [
    "df_exif[columns].to_csv(\"/shared/image_metadata.csv\", index=None)"
   ]
  }
 ],
 "metadata": {
  "kernelspec": {
   "display_name": "Python (scivis-plankton)",
   "language": "python",
   "name": "scivis-plankton"
  },
  "language_info": {
   "codemirror_mode": {
    "name": "ipython",
    "version": 3
   },
   "file_extension": ".py",
   "mimetype": "text/x-python",
   "name": "python",
   "nbconvert_exporter": "python",
   "pygments_lexer": "ipython3",
   "version": "3.8.8"
  }
 },
 "nbformat": 4,
 "nbformat_minor": 2
}
