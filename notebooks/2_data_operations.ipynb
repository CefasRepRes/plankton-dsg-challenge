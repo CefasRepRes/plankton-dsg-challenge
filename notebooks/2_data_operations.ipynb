{
 "cells": [
  {
   "cell_type": "markdown",
   "source": [
    "# Data operations"
   ],
   "metadata": {
    "collapsed": false
   }
  },
  {
   "cell_type": "markdown",
   "id": "e33712ea",
   "metadata": {},
   "source": [
    "## Import libraries"
   ]
  },
  {
   "cell_type": "code",
   "execution_count": 3,
   "id": "11d23063",
   "metadata": {
    "gather": {
     "logged": 1636726275244
    }
   },
   "outputs": [],
   "source": [
    "from scivision.io import load_dataset\n",
    "\n",
    "import matplotlib.pyplot as plt"
   ]
  },
  {
   "cell_type": "markdown",
   "id": "fce05ac8",
   "metadata": {},
   "source": [
    "## Load catalog"
   ]
  },
  {
   "cell_type": "markdown",
   "id": "ac85e24e",
   "metadata": {},
   "source": [
    "To load an intake catalog from a Catalog file:"
   ]
  },
  {
   "cell_type": "code",
   "execution_count": 4,
   "id": "e39280ff",
   "metadata": {
    "gather": {
     "logged": 1636726275627
    }
   },
   "outputs": [],
   "source": [
    "cat = load_dataset('https://github.com/alan-turing-institute/plankton-dsg-challenge')"
   ]
  },
  {
   "cell_type": "markdown",
   "source": [
    "## Explore the catalog entries"
   ],
   "metadata": {
    "collapsed": false
   }
  },
  {
   "cell_type": "markdown",
   "source": [
    "Let's inspect the entries of the catalog."
   ],
   "metadata": {
    "collapsed": false
   }
  },
  {
   "cell_type": "code",
   "execution_count": null,
   "outputs": [],
   "source": [
    "list(cat)"
   ],
   "metadata": {
    "collapsed": false,
    "pycharm": {
     "name": "#%%\n"
    }
   }
  },
  {
   "cell_type": "markdown",
   "source": [
    "The catalog contains three data sources: 'index_file', 'plankton_single', 'plankton_multiple'. We're exploring each one of them in the next sections."
   ],
   "metadata": {
    "collapsed": false
   }
  },
  {
   "cell_type": "markdown",
   "source": [
    "## Fetch the CSV index file"
   ],
   "metadata": {
    "collapsed": false
   }
  },
  {
   "cell_type": "markdown",
   "source": [
    "The first entry corresponds to an index file, imported as a `pandas.DataFrame`, which contain the list of all plankton images. Each image include its index, filename, and labels according to three levels of classication: `label1` (zooplankton vs detritus), `label2` (noncopedod vs copedod) and `label3` (species)."
   ],
   "metadata": {
    "collapsed": false
   }
  },
  {
   "cell_type": "code",
   "execution_count": null,
   "outputs": [],
   "source": [
    "index_all = cat.index_file().read()"
   ],
   "metadata": {
    "collapsed": false,
    "pycharm": {
     "name": "#%%\n"
    }
   }
  },
  {
   "cell_type": "markdown",
   "id": "26b4a09a",
   "metadata": {},
   "source": [
    "## Fetch the complete dataset entry"
   ]
  },
  {
   "cell_type": "markdown",
   "id": "0bc67bc6",
   "metadata": {},
   "source": [
    "The final entry refers to load the full dataset. All images are stacked into a single `xarray.Dataset` object with a defined dimension, 1040 px x 832 px."
   ]
  },
  {
   "cell_type": "code",
   "execution_count": 30,
   "id": "4008c1bf",
   "metadata": {
    "gather": {
     "logged": 1636726330314
    }
   },
   "outputs": [],
   "source": [
    "ds_all = cat.plankton_multiple().to_dask()"
   ]
  },
  {
   "cell_type": "code",
   "execution_count": 32,
   "id": "4fcf0d3c",
   "metadata": {
    "gather": {
     "logged": 1636726330509
    }
   },
   "outputs": [
    {
     "name": "stdout",
     "output_type": "stream",
     "text": [
      "<xarray.Dataset>\n",
      "Dimensions:                               (concat_dim: 58752, y: 832, x: 1040, channel: 3)\n",
      "Coordinates:\n",
      "  * concat_dim                            (concat_dim) int64 0 1 ... 58750 58751\n",
      "  * y                                     (y) int64 0 1 2 3 ... 828 829 830 831\n",
      "  * x                                     (x) int64 0 1 2 3 ... 1037 1038 1039\n",
      "  * channel                               (channel) int64 0 1 2\n",
      "    filename                              (concat_dim) <U38 dask.array<chunksize=(1,), meta=np.ndarray>\n",
      "Data variables: (12/23)\n",
      "    raster                                (concat_dim, y, x, channel) uint8 dask.array<chunksize=(1, 832, 1040, 3), meta=np.ndarray>\n",
      "    EXIF Image ImageWidth                 (concat_dim) object dask.array<chunksize=(1,), meta=np.ndarray>\n",
      "    EXIF Image ImageLength                (concat_dim) object dask.array<chunksize=(1,), meta=np.ndarray>\n",
      "    EXIF Image BitsPerSample              (concat_dim) object dask.array<chunksize=(1,), meta=np.ndarray>\n",
      "    EXIF Image Compression                (concat_dim) object dask.array<chunksize=(1,), meta=np.ndarray>\n",
      "    EXIF Image PhotometricInterpretation  (concat_dim) object dask.array<chunksize=(1,), meta=np.ndarray>\n",
      "    ...                                    ...\n",
      "    EXIF GPS GPSVersionID                 (concat_dim) object dask.array<chunksize=(1,), meta=np.ndarray>\n",
      "    EXIF GPS GPSLatitudeRef               (concat_dim) object dask.array<chunksize=(1,), meta=np.ndarray>\n",
      "    EXIF GPS GPSLatitude                  (concat_dim) object dask.array<chunksize=(1,), meta=np.ndarray>\n",
      "    EXIF GPS GPSLongitudeRef              (concat_dim) object dask.array<chunksize=(1,), meta=np.ndarray>\n",
      "    EXIF GPS GPSLongitude                 (concat_dim) object dask.array<chunksize=(1,), meta=np.ndarray>\n",
      "    EXIF Image GPSInfo                    (concat_dim) object dask.array<chunksize=(1,), meta=np.ndarray>\n"
     ]
    }
   ],
   "source": [
    "print(ds_all)"
   ]
  },
  {
   "cell_type": "markdown",
   "id": "fc55002c",
   "metadata": {},
   "source": [
    "Let's subset a single image. This can be done using the image index stored in `concat_dim`."
   ]
  },
  {
   "cell_type": "code",
   "execution_count": 34,
   "id": "93da0c6b",
   "metadata": {},
   "outputs": [],
   "source": [
    "subset = ds_all.sel(concat_dim=0)"
   ]
  },
  {
   "cell_type": "code",
   "execution_count": 36,
   "id": "8e359efd",
   "metadata": {},
   "outputs": [
    {
     "name": "stdout",
     "output_type": "stream",
     "text": [
      "<xarray.Dataset>\n",
      "Dimensions:                               (y: 832, x: 1040, channel: 3)\n",
      "Coordinates:\n",
      "    concat_dim                            int64 0\n",
      "  * y                                     (y) int64 0 1 2 3 ... 828 829 830 831\n",
      "  * x                                     (x) int64 0 1 2 3 ... 1037 1038 1039\n",
      "  * channel                               (channel) int64 0 1 2\n",
      "    filename                              <U38 dask.array<chunksize=(), meta=np.ndarray>\n",
      "Data variables: (12/23)\n",
      "    raster                                (y, x, channel) uint8 dask.array<chunksize=(832, 1040, 3), meta=np.ndarray>\n",
      "    EXIF Image ImageWidth                 object dask.array<chunksize=(), meta=np.ndarray>\n",
      "    EXIF Image ImageLength                object dask.array<chunksize=(), meta=np.ndarray>\n",
      "    EXIF Image BitsPerSample              object dask.array<chunksize=(), meta=np.ndarray>\n",
      "    EXIF Image Compression                object dask.array<chunksize=(), meta=np.ndarray>\n",
      "    EXIF Image PhotometricInterpretation  object dask.array<chunksize=(), meta=np.ndarray>\n",
      "    ...                                    ...\n",
      "    EXIF GPS GPSVersionID                 object dask.array<chunksize=(), meta=np.ndarray>\n",
      "    EXIF GPS GPSLatitudeRef               object dask.array<chunksize=(), meta=np.ndarray>\n",
      "    EXIF GPS GPSLatitude                  object dask.array<chunksize=(), meta=np.ndarray>\n",
      "    EXIF GPS GPSLongitudeRef              object dask.array<chunksize=(), meta=np.ndarray>\n",
      "    EXIF GPS GPSLongitude                 object dask.array<chunksize=(), meta=np.ndarray>\n",
      "    EXIF Image GPSInfo                    object dask.array<chunksize=(), meta=np.ndarray>\n"
     ]
    }
   ],
   "source": [
    "print(subset)"
   ]
  },
  {
   "cell_type": "code",
   "execution_count": 39,
   "id": "34939e61",
   "metadata": {},
   "outputs": [
    {
     "data": {
      "text/plain": [
       "Text(0.5, 1.0, 'Pia1.2016-08-02.1631+N38_hc._fy')"
      ]
     },
     "execution_count": 39,
     "metadata": {},
     "output_type": "execute_result"
    },
    {
     "data": {
      "image/png": "[encoded data removed]",
      "text/plain": [
       "<Figure size 432x288 with 1 Axes>"
      ]
     },
     "metadata": {
      "needs_background": "light"
     },
     "output_type": "display_data"
    }
   ],
   "source": [
    "subset = ds_all.sel(concat_dim=2)\n",
    "plt.imshow(subset['raster'].compute().values[:,:,:])\n",
    "plt.title(subset.filename.compute().values)"
   ]
  }
 ],
 "metadata": {
  "kernel_info": {
   "name": "scivis-plankton"
  },
  "kernelspec": {
   "display_name": "scivis-plankton",
   "language": "python",
   "name": "scivis-plankton"
  },
  "language_info": {
   "codemirror_mode": {
    "name": "ipython",
    "version": 3
   },
   "file_extension": ".py",
   "mimetype": "text/x-python",
   "name": "python",
   "nbconvert_exporter": "python",
   "pygments_lexer": "ipython3",
   "version": "3.9.7"
  },
  "nteract": {
   "version": "nteract-front-end@1.0.0"
  }
 },
 "nbformat": 4,
 "nbformat_minor": 5
}