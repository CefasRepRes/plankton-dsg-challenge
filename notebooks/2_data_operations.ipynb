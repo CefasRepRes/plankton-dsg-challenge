{
 "cells": [
  {
   "cell_type": "markdown",
   "id": "c045505e",
   "metadata": {},
   "source": [
    "# Data operations"
   ]
  },
  {
   "cell_type": "markdown",
   "id": "1a2013bf",
   "metadata": {},
   "source": [
    "This notebook contains some code for loading the images and classification labels.\n",
    "\n",
    "**The [last cell of this notebook](#Quick-start) contains everything needed to load a labelled data into an xarray, in a single cell.**"
   ]
  },
  {
   "cell_type": "markdown",
   "id": "b5b4c1be",
   "metadata": {},
   "source": [
    "## Import libraries"
   ]
  },
  {
   "cell_type": "code",
   "execution_count": null,
   "id": "45d54179",
   "metadata": {
    "gather": {
     "logged": 1636726275244
    }
   },
   "outputs": [],
   "source": [
    "import matplotlib.pyplot as plt\n",
    "import xarray as xr\n",
    "import pandas as pd\n",
    "import numpy as np\n",
    "\n",
    "from scivision.io import load_dataset\n",
    "from IPython.display import display, HTML"
   ]
  },
  {
   "cell_type": "markdown",
   "id": "107277d7",
   "metadata": {},
   "source": [
    "## Load the Intake catalog"
   ]
  },
  {
   "cell_type": "markdown",
   "id": "efb28b79",
   "metadata": {},
   "source": [
    "As before, load the [Intake](https://intake.readthedocs.io/en/latest/index.html) catalog from the challenge repository containing [Scivision](https://github.com/alan-turing-institute/scivision) metadata:"
   ]
  },
  {
   "cell_type": "code",
   "execution_count": null,
   "id": "545e2720",
   "metadata": {
    "gather": {
     "logged": 1636726275627
    }
   },
   "outputs": [],
   "source": [
    "cat = load_dataset('https://github.com/alan-turing-institute/plankton-dsg-challenge')"
   ]
  },
  {
   "cell_type": "markdown",
   "id": "32a4b11d",
   "metadata": {},
   "source": [
    "## Inspect the catalog entries"
   ]
  },
  {
   "cell_type": "markdown",
   "id": "6cdd9b31",
   "metadata": {},
   "source": [
    "We explored the catalog in the previous notebook. It contains several data sources: their descriptions are shown below."
   ]
  },
  {
   "cell_type": "code",
   "execution_count": null,
   "id": "5b7b7730",
   "metadata": {},
   "outputs": [],
   "source": [
    "for data_source in cat:\n",
    "    display(HTML(f\"<h4>{data_source}</h4>\"))\n",
    "    display(HTML(cat[data_source].description))"
   ]
  },
  {
   "cell_type": "markdown",
   "id": "cfed1497",
   "metadata": {},
   "source": [
    "<div class=\"alert alert-block alert-info\">We will use the <tt>plankton_multiple</tt> entry to fetch all of the images, and the <tt>labels</tt> to fetch the labels for training.  The <tt>labels_holdout</tt> will be useful as a final holdout set for testing any models you may produce during the challenge.</div>"
   ]
  },
  {
   "cell_type": "markdown",
   "id": "ccd70c7f",
   "metadata": {},
   "source": [
    "## Fetch the labels"
   ]
  },
  {
   "cell_type": "markdown",
   "id": "5dfe2a49",
   "metadata": {},
   "source": [
    "The `labels` entry corresponds to an index file, imported as a `pandas.DataFrame`, which contain the list of all plankton images. Each image include its index, filename, and labels according to three levels of classication: `label1` (zooplankton vs detritus), `label2` (noncopedod vs copedod) and `label3` (species)."
   ]
  },
  {
   "cell_type": "code",
   "execution_count": null,
   "id": "67418636",
   "metadata": {
    "collapsed": false,
    "jupyter": {
     "outputs_hidden": false
    },
    "pycharm": {
     "name": "#%%\n"
    }
   },
   "outputs": [],
   "source": [
    "labels = cat.labels().read()"
   ]
  },
  {
   "cell_type": "code",
   "execution_count": null,
   "id": "181177c0",
   "metadata": {},
   "outputs": [],
   "source": [
    "labels.head()"
   ]
  },
  {
   "cell_type": "markdown",
   "id": "921b63aa",
   "metadata": {},
   "source": [
    "## Fetch the complete image dataset"
   ]
  },
  {
   "cell_type": "markdown",
   "id": "252726f6",
   "metadata": {},
   "source": [
    "The final entry refers to load the full dataset. All images are stacked into a single `xarray.Dataset` object with  fixed dimensions of 1040 px x 832, large enough to hold all of the images.  Smaller images are padded with zeros."
   ]
  },
  {
   "cell_type": "code",
   "execution_count": null,
   "id": "3b92932c",
   "metadata": {
    "gather": {
     "logged": 1636726330314
    }
   },
   "outputs": [],
   "source": [
    "ds_all = cat.plankton_multiple().to_dask()\n",
    "ds_all.filename.load()"
   ]
  },
  {
   "cell_type": "code",
   "execution_count": null,
   "id": "faf76656",
   "metadata": {
    "gather": {
     "logged": 1636726330509
    }
   },
   "outputs": [],
   "source": [
    "print(ds_all)"
   ]
  },
  {
   "cell_type": "markdown",
   "id": "7e65958f",
   "metadata": {},
   "source": [
    "Let's subset a single image. This can be done using the image index stored in `concat_dim`."
   ]
  },
  {
   "cell_type": "code",
   "execution_count": null,
   "id": "b496232a",
   "metadata": {},
   "outputs": [],
   "source": [
    "subset = ds_all.sel(concat_dim=2)"
   ]
  },
  {
   "cell_type": "code",
   "execution_count": null,
   "id": "64488b7f",
   "metadata": {},
   "outputs": [],
   "source": [
    "print(subset)"
   ]
  },
  {
   "cell_type": "code",
   "execution_count": null,
   "id": "fb2ebda6",
   "metadata": {},
   "outputs": [],
   "source": [
    "plt.imshow(subset['raster'].compute().values[:,:,:])\n",
    "plt.title(subset.filename.compute().values)"
   ]
  },
  {
   "cell_type": "markdown",
   "id": "8ace4d49",
   "metadata": {},
   "source": [
    "## Assembling the labelled dataset: Joining the images and labels"
   ]
  },
  {
   "cell_type": "markdown",
   "id": "71e876e3",
   "metadata": {},
   "source": [
    "### Work in progress..."
   ]
  },
  {
   "cell_type": "code",
   "execution_count": null,
   "id": "50909087",
   "metadata": {},
   "outputs": [],
   "source": []
  },
  {
   "cell_type": "markdown",
   "id": "526f6f5c",
   "metadata": {},
   "source": [
    "## Quick start"
   ]
  },
  {
   "cell_type": "code",
   "execution_count": null,
   "id": "dd5d37fb",
   "metadata": {},
   "outputs": [],
   "source": []
  }
 ],
 "metadata": {
  "kernel_info": {
   "name": "scivis-plankton"
  },
  "kernelspec": {
   "display_name": "Python (scivis-plankton)",
   "language": "python",
   "name": "scivis-plankton"
  },
  "language_info": {
   "codemirror_mode": {
    "name": "ipython",
    "version": 3
   },
   "file_extension": ".py",
   "mimetype": "text/x-python",
   "name": "python",
   "nbconvert_exporter": "python",
   "pygments_lexer": "ipython3",
   "version": "3.9.7"
  },
  "nteract": {
   "version": "nteract-front-end@1.0.0"
  }
 },
 "nbformat": 4,
 "nbformat_minor": 5
}
