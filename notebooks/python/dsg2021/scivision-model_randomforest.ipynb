{
 "cells": [
  {
   "cell_type": "markdown",
   "metadata": {},
   "source": [
    "# Evaluation of the RandomForest model"
   ]
  },
  {
   "cell_type": "markdown",
   "metadata": {},
   "source": [
    "## Import libraries"
   ]
  },
  {
   "cell_type": "code",
   "execution_count": 1,
   "metadata": {
    "gather": {
     "logged": 1637758888059
    },
    "jupyter": {
     "outputs_hidden": false,
     "source_hidden": false
    },
    "nteract": {
     "transient": {
      "deleting": false
     }
    }
   },
   "outputs": [],
   "source": [
    "import numpy as np\n",
    "import pandas as pd\n",
    "import xarray as xr\n",
    "import matplotlib.pyplot as plt\n",
    "\n",
    "from scivision.io import load_pretrained_model, load_dataset"
   ]
  },
  {
   "cell_type": "markdown",
   "metadata": {},
   "source": [
    "## Load datasets"
   ]
  },
  {
   "cell_type": "markdown",
   "metadata": {},
   "source": [
    "### load holdout images"
   ]
  },
  {
   "cell_type": "code",
   "execution_count": null,
   "metadata": {
    "gather": {
     "logged": 1637758888163
    }
   },
   "outputs": [],
   "source": [
    "cat = load_dataset('https://github.com/alan-turing-institute/plankton-dsg-challenge')\n",
    "\n",
    "ds_all = cat.plankton_multiple().to_dask()\n",
    "labels_holdout = cat.labels_holdout().read()\n",
    "\n",
    "labels_holdout_dedup = xr.Dataset.from_dataframe(\n",
    "    labels_holdout\n",
    "    .drop_duplicates(subset=[\"filename\"])\n",
    "    .set_index(\"filename\")\n",
    "    .sort_index()\n",
    ")\n",
    "\n",
    "ds_holdout_labelled = (\n",
    "    ds_all\n",
    "    .swap_dims({\"concat_dim\": \"filename\"})\n",
    "    .merge(labels_holdout_dedup, join=\"inner\")\n",
    "    .swap_dims({\"filename\": \"concat_dim\"})\n",
    ")"
   ]
  },
  {
   "cell_type": "code",
   "execution_count": 84,
   "metadata": {
    "gather": {
     "logged": 1637758921381
    }
   },
   "outputs": [
    {
     "data": {
      "text/plain": [
       "xarray.core.dataset.Dataset"
      ]
     },
     "execution_count": 84,
     "metadata": {},
     "output_type": "execute_result"
    }
   ],
   "source": [
    "type(ds_holdout_labelled)"
   ]
  },
  {
   "cell_type": "code",
   "execution_count": 86,
   "metadata": {
    "gather": {
     "logged": 1637758921535
    },
    "jupyter": {
     "outputs_hidden": false,
     "source_hidden": false
    },
    "nteract": {
     "transient": {
      "deleting": false
     }
    }
   },
   "outputs": [],
   "source": [
    "# choose a test image\n",
    "image_no = 58748\n",
    "image = ds_holdout_labelled['raster'].sel(concat_dim=image_no).compute().values\n",
    "label_gt = ds_holdout_labelled['label3'].sel(concat_dim=image_no).compute().values"
   ]
  },
  {
   "cell_type": "code",
   "execution_count": 87,
   "metadata": {
    "gather": {
     "logged": 1637758921667
    },
    "jupyter": {
     "outputs_hidden": false,
     "source_hidden": false
    },
    "nteract": {
     "transient": {
      "deleting": false
     }
    }
   },
   "outputs": [
    {
     "data": {
      "image/png": "[encoded data removed]",
      "text/plain": [
       "<Figure size 432x288 with 1 Axes>"
      ]
     },
     "metadata": {
      "needs_background": "light"
     },
     "output_type": "display_data"
    }
   ],
   "source": [
    "plt.figure()\n",
    "plt.imshow(image)\n",
    "plt.title(\"{}\".format(label_gt))\n",
    "plt.show()"
   ]
  },
  {
   "cell_type": "markdown",
   "metadata": {},
   "source": [
    "### Load features matrix"
   ]
  },
  {
   "cell_type": "code",
   "execution_count": 112,
   "metadata": {},
   "outputs": [],
   "source": [
    "cat = load_dataset('/output/plankton_features.yaml')"
   ]
  },
  {
   "cell_type": "code",
   "execution_count": 113,
   "metadata": {},
   "outputs": [
    {
     "data": {
      "text/plain": [
       "['labelled_features_test']"
      ]
     },
     "execution_count": 113,
     "metadata": {},
     "output_type": "execute_result"
    }
   ],
   "source": [
    "list(cat)"
   ]
  },
  {
   "cell_type": "code",
   "execution_count": 114,
   "metadata": {
    "scrolled": true
   },
   "outputs": [],
   "source": [
    "input_df = cat.labelled_features_test.read()"
   ]
  },
  {
   "cell_type": "code",
   "execution_count": 115,
   "metadata": {},
   "outputs": [
    {
     "data": {
      "text/html": [
       "<div>\n",
       "<style scoped>\n",
       "    .dataframe tbody tr th:only-of-type {\n",
       "        vertical-align: middle;\n",
       "    }\n",
       "\n",
       "    .dataframe tbody tr th {\n",
       "        vertical-align: top;\n",
       "    }\n",
       "\n",
       "    .dataframe thead th {\n",
       "        text-align: right;\n",
       "    }\n",
       "</style>\n",
       "<table border=\"1\" class=\"dataframe\">\n",
       "  <thead>\n",
       "    <tr style=\"text-align: right;\">\n",
       "      <th></th>\n",
       "      <th>index</th>\n",
       "      <th>filename</th>\n",
       "      <th>label1</th>\n",
       "      <th>label2</th>\n",
       "      <th>label3</th>\n",
       "      <th>object_label</th>\n",
       "      <th>object_width</th>\n",
       "      <th>object_height</th>\n",
       "      <th>object_bx</th>\n",
       "      <th>object_by</th>\n",
       "      <th>...</th>\n",
       "      <th>object_bounding_box_area</th>\n",
       "      <th>object_eccentricity</th>\n",
       "      <th>object_equivalent_diameter</th>\n",
       "      <th>object_euler_number</th>\n",
       "      <th>object_extent</th>\n",
       "      <th>object_local_centroid_col</th>\n",
       "      <th>object_local_centroid_row</th>\n",
       "      <th>object_solidity</th>\n",
       "      <th>img_file_name</th>\n",
       "      <th>img_rank</th>\n",
       "    </tr>\n",
       "  </thead>\n",
       "  <tbody>\n",
       "    <tr>\n",
       "      <th>0</th>\n",
       "      <td>68</td>\n",
       "      <td>Pia1.2017-10-08.1928+N00146994_hc.tif</td>\n",
       "      <td>zooplankton</td>\n",
       "      <td>noncopepod</td>\n",
       "      <td>annelida_polychaeta</td>\n",
       "      <td>1</td>\n",
       "      <td>96</td>\n",
       "      <td>110</td>\n",
       "      <td>0</td>\n",
       "      <td>0</td>\n",
       "      <td>...</td>\n",
       "      <td>10560</td>\n",
       "      <td>0.488228</td>\n",
       "      <td>115.954343</td>\n",
       "      <td>1</td>\n",
       "      <td>1.0</td>\n",
       "      <td>47.5</td>\n",
       "      <td>54.5</td>\n",
       "      <td>1.0</td>\n",
       "      <td>0-Pia1.2017-10-08.1928+N00146994_hc-1.tif</td>\n",
       "      <td>1</td>\n",
       "    </tr>\n",
       "    <tr>\n",
       "      <th>1</th>\n",
       "      <td>129</td>\n",
       "      <td>Pia1.2019-10-15.0706+N00297493_hc.tif</td>\n",
       "      <td>zooplankton</td>\n",
       "      <td>noncopepod</td>\n",
       "      <td>annelida_polychaeta</td>\n",
       "      <td>1</td>\n",
       "      <td>104</td>\n",
       "      <td>78</td>\n",
       "      <td>0</td>\n",
       "      <td>0</td>\n",
       "      <td>...</td>\n",
       "      <td>8112</td>\n",
       "      <td>0.661468</td>\n",
       "      <td>101.629322</td>\n",
       "      <td>1</td>\n",
       "      <td>1.0</td>\n",
       "      <td>51.5</td>\n",
       "      <td>38.5</td>\n",
       "      <td>1.0</td>\n",
       "      <td>0-Pia1.2019-10-15.0706+N00297493_hc-1.tif</td>\n",
       "      <td>1</td>\n",
       "    </tr>\n",
       "    <tr>\n",
       "      <th>2</th>\n",
       "      <td>43</td>\n",
       "      <td>Pia1.2017-10-03.1726+N00002415_hc.tif</td>\n",
       "      <td>zooplankton</td>\n",
       "      <td>noncopepod</td>\n",
       "      <td>annelida_polychaeta</td>\n",
       "      <td>1</td>\n",
       "      <td>96</td>\n",
       "      <td>84</td>\n",
       "      <td>0</td>\n",
       "      <td>0</td>\n",
       "      <td>...</td>\n",
       "      <td>8064</td>\n",
       "      <td>0.484149</td>\n",
       "      <td>101.328198</td>\n",
       "      <td>1</td>\n",
       "      <td>1.0</td>\n",
       "      <td>47.5</td>\n",
       "      <td>41.5</td>\n",
       "      <td>1.0</td>\n",
       "      <td>0-Pia1.2017-10-03.1726+N00002415_hc-1.tif</td>\n",
       "      <td>1</td>\n",
       "    </tr>\n",
       "    <tr>\n",
       "      <th>3</th>\n",
       "      <td>14</td>\n",
       "      <td>Pia1.2017-03-25.0240+N00408867_hc.tif</td>\n",
       "      <td>zooplankton</td>\n",
       "      <td>noncopepod</td>\n",
       "      <td>annelida_polychaeta</td>\n",
       "      <td>1</td>\n",
       "      <td>88</td>\n",
       "      <td>84</td>\n",
       "      <td>0</td>\n",
       "      <td>0</td>\n",
       "      <td>...</td>\n",
       "      <td>7392</td>\n",
       "      <td>0.298085</td>\n",
       "      <td>97.014363</td>\n",
       "      <td>1</td>\n",
       "      <td>1.0</td>\n",
       "      <td>43.5</td>\n",
       "      <td>41.5</td>\n",
       "      <td>1.0</td>\n",
       "      <td>0-Pia1.2017-03-25.0240+N00408867_hc-1.tif</td>\n",
       "      <td>1</td>\n",
       "    </tr>\n",
       "    <tr>\n",
       "      <th>4</th>\n",
       "      <td>51</td>\n",
       "      <td>Pia1.2017-10-03.1726+N00273214_hc.tif</td>\n",
       "      <td>zooplankton</td>\n",
       "      <td>noncopepod</td>\n",
       "      <td>annelida_polychaeta</td>\n",
       "      <td>1</td>\n",
       "      <td>104</td>\n",
       "      <td>86</td>\n",
       "      <td>0</td>\n",
       "      <td>0</td>\n",
       "      <td>...</td>\n",
       "      <td>8944</td>\n",
       "      <td>0.562341</td>\n",
       "      <td>106.713891</td>\n",
       "      <td>1</td>\n",
       "      <td>1.0</td>\n",
       "      <td>51.5</td>\n",
       "      <td>42.5</td>\n",
       "      <td>1.0</td>\n",
       "      <td>0-Pia1.2017-10-03.1726+N00273214_hc-1.tif</td>\n",
       "      <td>1</td>\n",
       "    </tr>\n",
       "  </tbody>\n",
       "</table>\n",
       "<p>5 rows × 40 columns</p>\n",
       "</div>"
      ],
      "text/plain": [
       "   index                               filename       label1      label2  \\\n",
       "0     68  Pia1.2017-10-08.1928+N00146994_hc.tif  zooplankton  noncopepod   \n",
       "1    129  Pia1.2019-10-15.0706+N00297493_hc.tif  zooplankton  noncopepod   \n",
       "2     43  Pia1.2017-10-03.1726+N00002415_hc.tif  zooplankton  noncopepod   \n",
       "3     14  Pia1.2017-03-25.0240+N00408867_hc.tif  zooplankton  noncopepod   \n",
       "4     51  Pia1.2017-10-03.1726+N00273214_hc.tif  zooplankton  noncopepod   \n",
       "\n",
       "                label3  object_label  object_width  object_height  object_bx  \\\n",
       "0  annelida_polychaeta             1            96            110          0   \n",
       "1  annelida_polychaeta             1           104             78          0   \n",
       "2  annelida_polychaeta             1            96             84          0   \n",
       "3  annelida_polychaeta             1            88             84          0   \n",
       "4  annelida_polychaeta             1           104             86          0   \n",
       "\n",
       "   object_by  ...  object_bounding_box_area  object_eccentricity  \\\n",
       "0          0  ...                     10560             0.488228   \n",
       "1          0  ...                      8112             0.661468   \n",
       "2          0  ...                      8064             0.484149   \n",
       "3          0  ...                      7392             0.298085   \n",
       "4          0  ...                      8944             0.562341   \n",
       "\n",
       "   object_equivalent_diameter  object_euler_number  object_extent  \\\n",
       "0                  115.954343                    1            1.0   \n",
       "1                  101.629322                    1            1.0   \n",
       "2                  101.328198                    1            1.0   \n",
       "3                   97.014363                    1            1.0   \n",
       "4                  106.713891                    1            1.0   \n",
       "\n",
       "   object_local_centroid_col  object_local_centroid_row  object_solidity  \\\n",
       "0                       47.5                       54.5              1.0   \n",
       "1                       51.5                       38.5              1.0   \n",
       "2                       47.5                       41.5              1.0   \n",
       "3                       43.5                       41.5              1.0   \n",
       "4                       51.5                       42.5              1.0   \n",
       "\n",
       "                               img_file_name  img_rank  \n",
       "0  0-Pia1.2017-10-08.1928+N00146994_hc-1.tif         1  \n",
       "1  0-Pia1.2019-10-15.0706+N00297493_hc-1.tif         1  \n",
       "2  0-Pia1.2017-10-03.1726+N00002415_hc-1.tif         1  \n",
       "3  0-Pia1.2017-03-25.0240+N00408867_hc-1.tif         1  \n",
       "4  0-Pia1.2017-10-03.1726+N00273214_hc-1.tif         1  \n",
       "\n",
       "[5 rows x 40 columns]"
      ]
     },
     "execution_count": 115,
     "metadata": {},
     "output_type": "execute_result"
    }
   ],
   "source": [
    "input_df.head()"
   ]
  },
  {
   "cell_type": "markdown",
   "metadata": {},
   "source": [
    "## Load pretrained model"
   ]
  },
  {
   "cell_type": "code",
   "execution_count": 4,
   "metadata": {},
   "outputs": [],
   "source": [
    "!pip -q uninstall -y scivision_plankton_models"
   ]
  },
  {
   "cell_type": "code",
   "execution_count": 2,
   "metadata": {
    "gather": {
     "logged": 1637754654394
    },
    "jupyter": {
     "outputs_hidden": false,
     "source_hidden": false
    },
    "nteract": {
     "transient": {
      "deleting": false
     }
    }
   },
   "outputs": [],
   "source": [
    "# Load model\n",
    "scivision_yml = 'https://github.com/acocac/scivision-plankton-models/.scivision-config.yaml'\n",
    "model = load_pretrained_model(scivision_yml, allow_install=True)"
   ]
  },
  {
   "cell_type": "code",
   "execution_count": 93,
   "metadata": {},
   "outputs": [
    {
     "data": {
      "text/plain": [
       "scivision.PretrainedModel( \n",
       "  module='scivision_plankton_models', \n",
       "  model='randomforest', \n",
       "  source='https://github.com/acocac/scivision-plankton-models' \n",
       "  pipe='DataPipe(input=<Parameter \"X: numpy.ndarray\">, output=<Parameter \"image: numpy.ndarray\">)' \n",
       ")"
      ]
     },
     "execution_count": 93,
     "metadata": {},
     "output_type": "execute_result"
    }
   ],
   "source": [
    "model"
   ]
  },
  {
   "cell_type": "markdown",
   "metadata": {},
   "source": [
    "## Preprocess image"
   ]
  },
  {
   "cell_type": "code",
   "execution_count": 95,
   "metadata": {},
   "outputs": [],
   "source": [
    "cols_retain = [col for col in input_df.columns if col not in ['index', 'img_file_name', 'filename','filename.1', 'label1', 'label2', 'label3']]"
   ]
  },
  {
   "cell_type": "code",
   "execution_count": 96,
   "metadata": {},
   "outputs": [],
   "source": [
    "X_test = input_df[cols_retain]  # Features"
   ]
  },
  {
   "cell_type": "code",
   "execution_count": 97,
   "metadata": {},
   "outputs": [],
   "source": [
    "x_input = X_test.to_numpy()"
   ]
  },
  {
   "cell_type": "code",
   "execution_count": 99,
   "metadata": {},
   "outputs": [
    {
     "data": {
      "text/plain": [
       "(5682, 34)"
      ]
     },
     "execution_count": 99,
     "metadata": {},
     "output_type": "execute_result"
    }
   ],
   "source": [
    "x_input.shape"
   ]
  },
  {
   "cell_type": "code",
   "execution_count": 100,
   "metadata": {
    "gather": {
     "logged": 1637758925417
    },
    "jupyter": {
     "outputs_hidden": false,
     "source_hidden": false
    },
    "nteract": {
     "transient": {
      "deleting": false
     }
    }
   },
   "outputs": [],
   "source": [
    "# Get model predicition of image\n",
    "pred = model.predict(x_input)"
   ]
  },
  {
   "cell_type": "code",
   "execution_count": 101,
   "metadata": {},
   "outputs": [
    {
     "data": {
      "text/plain": [
       "array([14, 14, 21, ...,  9, 13, 37])"
      ]
     },
     "execution_count": 101,
     "metadata": {},
     "output_type": "execute_result"
    }
   ],
   "source": [
    "pred"
   ]
  },
  {
   "cell_type": "code",
   "execution_count": 108,
   "metadata": {},
   "outputs": [],
   "source": [
    "fn = input_df.iloc[0].filename"
   ]
  },
  {
   "cell_type": "code",
   "execution_count": 109,
   "metadata": {},
   "outputs": [
    {
     "ename": "SyntaxError",
     "evalue": "invalid syntax (<ipython-input-109-bb29bc84fdd4>, line 1)",
     "output_type": "error",
     "traceback": [
      "\u001b[0;36m  File \u001b[0;32m\"<ipython-input-109-bb29bc84fdd4>\"\u001b[0;36m, line \u001b[0;32m1\u001b[0m\n\u001b[0;31m    print(ds_holdout_labelled.sel[filename=fn])\u001b[0m\n\u001b[0m                                          ^\u001b[0m\n\u001b[0;31mSyntaxError\u001b[0m\u001b[0;31m:\u001b[0m invalid syntax\n"
     ]
    }
   ],
   "source": [
    "print(ds_holdout_labelled.sel[filename=fn])"
   ]
  },
  {
   "cell_type": "code",
   "execution_count": 11,
   "metadata": {
    "gather": {
     "logged": 1637758955243
    },
    "jupyter": {
     "outputs_hidden": false,
     "source_hidden": false
    },
    "nteract": {
     "transient": {
      "deleting": false
     }
    }
   },
   "outputs": [
    {
     "data": {
      "image/png": "[encoded data removed]",
      "text/plain": [
       "<Figure size 432x288 with 1 Axes>"
      ]
     },
     "metadata": {
      "needs_background": "light"
     },
     "output_type": "display_data"
    }
   ],
   "source": [
    "plt.figure()\n",
    "plt.imshow(image)\n",
    "_, preds = torch.max(pred, 1)\n",
    "plt.title(\"Reference: {} \\n Prediction: {}\".format(label_gt, preds))\n",
    "plt.show()"
   ]
  }
 ],
 "metadata": {
  "kernel_info": {
   "name": "scivis-plankton"
  },
  "kernelspec": {
   "display_name": "Python (scivis-plankton)",
   "language": "python",
   "name": "scivis-plankton"
  },
  "language_info": {
   "codemirror_mode": {
    "name": "ipython",
    "version": 3
   },
   "file_extension": ".py",
   "mimetype": "text/x-python",
   "name": "python",
   "nbconvert_exporter": "python",
   "pygments_lexer": "ipython3",
   "version": "3.8.8"
  },
  "microsoft": {
   "host": {
    "AzureML": {
     "notebookHasBeenCompleted": true
    }
   }
  },
  "nteract": {
   "version": "nteract-front-end@1.0.0"
  }
 },
 "nbformat": 4,
 "nbformat_minor": 5
}
