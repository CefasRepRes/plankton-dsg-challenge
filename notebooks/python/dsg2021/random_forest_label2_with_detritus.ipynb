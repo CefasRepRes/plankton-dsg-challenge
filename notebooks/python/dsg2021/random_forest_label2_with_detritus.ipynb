{
 "cells": [
  {
   "cell_type": "markdown",
   "metadata": {},
   "source": [
    "# Random Forest Classifier - Label 2\n",
    "\n",
    "Classification on Label 2 (copepod vs noncopepod vs detritus)."
   ]
  },
  {
   "cell_type": "code",
   "execution_count": null,
   "metadata": {},
   "outputs": [],
   "source": [
    "# delete variables in memory\n",
    "%reset"
   ]
  },
  {
   "cell_type": "code",
   "execution_count": 1,
   "metadata": {},
   "outputs": [],
   "source": [
    "# Import libraries\n",
    "import pandas as pd\n",
    "import numpy as np\n",
    "from sklearn.preprocessing import LabelEncoder\n",
    "from sklearn.ensemble import RandomForestClassifier\n",
    "from sklearn import metrics\n",
    "import matplotlib.pyplot as plt\n",
    "import seaborn as sns\n",
    "import pickle"
   ]
  },
  {
   "cell_type": "markdown",
   "metadata": {},
   "source": [
    "Load the data which have been processed in R"
   ]
  },
  {
   "cell_type": "code",
   "execution_count": 2,
   "metadata": {},
   "outputs": [],
   "source": [
    "train = pd.read_csv(\"../../../data/processed/labelled-features/labelled-features-train.csv\")\n",
    "train = train.set_index('index')\n",
    "train\n",
    "test = pd.read_csv(\"../../../data/processed/labelled-features/labelled-features-test.csv\")\n",
    "test = test.set_index('index')"
   ]
  },
  {
   "cell_type": "code",
   "execution_count": 3,
   "metadata": {},
   "outputs": [
    {
     "name": "stdout",
     "output_type": "stream",
     "text": [
      "['noncopepod' 'copepod' 'detritus']\n"
     ]
    }
   ],
   "source": [
    "print(train[\"label2\"].unique())"
   ]
  },
  {
   "cell_type": "code",
   "execution_count": 4,
   "metadata": {},
   "outputs": [
    {
     "name": "stdout",
     "output_type": "stream",
     "text": [
      "(51309, 39)\n",
      "(5682, 39)\n"
     ]
    }
   ],
   "source": [
    "print(train.shape)\n",
    "print(test.shape)"
   ]
  },
  {
   "cell_type": "code",
   "execution_count": 5,
   "metadata": {},
   "outputs": [
    {
     "name": "stdout",
     "output_type": "stream",
     "text": [
      "36000\n",
      "4000\n"
     ]
    }
   ],
   "source": [
    "print( np.sum( train.label2.str.contains(\"detritus\") ) )\n",
    "print( np.sum( test.label2.str.contains(\"detritus\") ) )"
   ]
  },
  {
   "cell_type": "markdown",
   "metadata": {},
   "source": [
    "Remove unwanted columns"
   ]
  },
  {
   "cell_type": "code",
   "execution_count": 6,
   "metadata": {},
   "outputs": [
    {
     "name": "stdout",
     "output_type": "stream",
     "text": [
      "filename\n",
      "label1\n",
      "label2\n",
      "label3\n",
      "object_label\n",
      "object_width\n",
      "object_height\n",
      "object_bx\n",
      "object_by\n",
      "object_circ.\n",
      "object_area_exc\n",
      "object_area\n",
      "object_%area\n",
      "object_major\n",
      "object_minor\n",
      "object_y\n",
      "object_x\n",
      "object_convex_area\n",
      "object_min\n",
      "object_max\n",
      "object_mean\n",
      "object_intden\n",
      "object_perim.\n",
      "object_elongation\n",
      "object_range\n",
      "object_perimareaexc\n",
      "object_perimmajor\n",
      "object_circex\n",
      "object_angle\n",
      "object_bounding_box_area\n",
      "object_eccentricity\n",
      "object_equivalent_diameter\n",
      "object_euler_number\n",
      "object_extent\n",
      "object_local_centroid_col\n",
      "object_local_centroid_row\n",
      "object_solidity\n",
      "img_file_name\n",
      "img_rank\n"
     ]
    }
   ],
   "source": [
    "for col in train.columns:\n",
    "    print(col)"
   ]
  },
  {
   "cell_type": "markdown",
   "metadata": {},
   "source": [
    "These are the columns we are retaining in the features matrix (X)"
   ]
  },
  {
   "cell_type": "code",
   "execution_count": 7,
   "metadata": {},
   "outputs": [],
   "source": [
    "cols_retain = [ col for col in train.columns if col not in ['filename', 'label1', 'label2', 'label3',\n",
    "                                                           'img_file_name', 'img_rank'] ]"
   ]
  },
  {
   "cell_type": "code",
   "execution_count": 8,
   "metadata": {},
   "outputs": [
    {
     "name": "stdout",
     "output_type": "stream",
     "text": [
      "object_label\n",
      "object_width\n",
      "object_height\n",
      "object_bx\n",
      "object_by\n",
      "object_circ.\n",
      "object_area_exc\n",
      "object_area\n",
      "object_%area\n",
      "object_major\n",
      "object_minor\n",
      "object_y\n",
      "object_x\n",
      "object_convex_area\n",
      "object_min\n",
      "object_max\n",
      "object_mean\n",
      "object_intden\n",
      "object_perim.\n",
      "object_elongation\n",
      "object_range\n",
      "object_perimareaexc\n",
      "object_perimmajor\n",
      "object_circex\n",
      "object_angle\n",
      "object_bounding_box_area\n",
      "object_eccentricity\n",
      "object_equivalent_diameter\n",
      "object_euler_number\n",
      "object_extent\n",
      "object_local_centroid_col\n",
      "object_local_centroid_row\n",
      "object_solidity\n"
     ]
    }
   ],
   "source": [
    "for col in cols_retain:\n",
    "    print(col)"
   ]
  },
  {
   "cell_type": "markdown",
   "metadata": {},
   "source": [
    "Define train and test matrices. First encode labels"
   ]
  },
  {
   "cell_type": "code",
   "execution_count": 9,
   "metadata": {},
   "outputs": [],
   "source": [
    "# Encode taget labels with value between 0 and n_classes-1\n",
    "LE = LabelEncoder()\n",
    "LE.fit( train['label2'] ) # fit label encoder\n",
    "y_train = LE.transform( train['label2'] ) # transform labels to normalized encoding\n",
    "y_test = LE.transform( test['label2'] ) # transform labels to normalized encoding"
   ]
  },
  {
   "cell_type": "markdown",
   "metadata": {},
   "source": [
    "Just making sure that the above has worked"
   ]
  },
  {
   "cell_type": "code",
   "execution_count": 10,
   "metadata": {},
   "outputs": [
    {
     "data": {
      "text/plain": [
       "True"
      ]
     },
     "execution_count": 10,
     "metadata": {},
     "output_type": "execute_result"
    }
   ],
   "source": [
    "( np.sum(y_train == 2) ) == ( np.sum(train['label2'] == 'noncopepod') )"
   ]
  },
  {
   "cell_type": "code",
   "execution_count": 11,
   "metadata": {},
   "outputs": [
    {
     "data": {
      "text/plain": [
       "True"
      ]
     },
     "execution_count": 11,
     "metadata": {},
     "output_type": "execute_result"
    }
   ],
   "source": [
    "( np.sum(y_test == 2) ) == ( np.sum(test['label2'] == 'noncopepod') )"
   ]
  },
  {
   "cell_type": "code",
   "execution_count": 12,
   "metadata": {},
   "outputs": [
    {
     "name": "stdout",
     "output_type": "stream",
     "text": [
      "['copepod' 'detritus' 'noncopepod']\n"
     ]
    }
   ],
   "source": [
    "print(LE.classes_)"
   ]
  },
  {
   "cell_type": "code",
   "execution_count": 13,
   "metadata": {},
   "outputs": [],
   "source": [
    "X_train = train[cols_retain]  # Features\n",
    "X_test = test[cols_retain]  # Features"
   ]
  },
  {
   "cell_type": "code",
   "execution_count": 14,
   "metadata": {},
   "outputs": [],
   "source": [
    "#Create a Gaussian Classifier\n",
    "clf=RandomForestClassifier(n_estimators=100) # this is the default number of trees in the forest"
   ]
  },
  {
   "cell_type": "code",
   "execution_count": 15,
   "metadata": {},
   "outputs": [
    {
     "name": "stdout",
     "output_type": "stream",
     "text": [
      "Time to train model: 8.6194 seconds\n"
     ]
    }
   ],
   "source": [
    "import time\n",
    "\n",
    "tic = time.perf_counter()\n",
    "clf.fit(X_train,y_train) # Train the model using the training sets\n",
    "toc = time.perf_counter()\n",
    "\n",
    "print(\"Time to train model: %.4f seconds\" % (toc-tic))"
   ]
  },
  {
   "cell_type": "code",
   "execution_count": 16,
   "metadata": {},
   "outputs": [
    {
     "data": {
      "text/plain": [
       "array([0, 0, 2, ..., 0, 0, 2])"
      ]
     },
     "execution_count": 16,
     "metadata": {},
     "output_type": "execute_result"
    }
   ],
   "source": [
    "#Make prediction using features in test set\n",
    "y_pred=clf.predict(X_test)\n",
    "y_pred"
   ]
  },
  {
   "cell_type": "code",
   "execution_count": 17,
   "metadata": {},
   "outputs": [
    {
     "name": "stdout",
     "output_type": "stream",
     "text": [
      "Mean Absolute Error: 0.22140091517071453\n",
      "Mean Squared Error: 0.3512847588877156\n",
      "Root Mean Squared Error: 0.5926928031347399\n",
      "Accuracy: 0.843541006687786\n"
     ]
    }
   ],
   "source": [
    "print('Mean Absolute Error:', metrics.mean_absolute_error(y_test, y_pred))\n",
    "print('Mean Squared Error:', metrics.mean_squared_error(y_test, y_pred))\n",
    "print('Root Mean Squared Error:', np.sqrt(metrics.mean_squared_error(y_test, y_pred)))\n",
    "print(\"Accuracy:\",metrics.accuracy_score(y_test, y_pred))"
   ]
  },
  {
   "cell_type": "code",
   "execution_count": 18,
   "metadata": {},
   "outputs": [
    {
     "name": "stdout",
     "output_type": "stream",
     "text": [
      "              precision    recall  f1-score   support\n",
      "\n",
      "     copepod       0.67      0.79      0.73      1022\n",
      "    detritus       0.93      0.94      0.94      4000\n",
      "  noncopepod       0.51      0.37      0.43       660\n",
      "\n",
      "    accuracy                           0.84      5682\n",
      "   macro avg       0.71      0.70      0.70      5682\n",
      "weighted avg       0.84      0.84      0.84      5682\n",
      "\n"
     ]
    }
   ],
   "source": [
    "print(metrics.classification_report(y_test,y_pred, target_names=LE.classes_))"
   ]
  },
  {
   "cell_type": "code",
   "execution_count": 19,
   "metadata": {},
   "outputs": [
    {
     "name": "stdout",
     "output_type": "stream",
     "text": [
      "0.7055554349358436\n",
      "0.6974316155686019\n",
      "0.6960654459844213\n"
     ]
    }
   ],
   "source": [
    "precision, recall, f1_score, _ = metrics.precision_recall_fscore_support(\n",
    "    y_test, y_pred,beta=1.0, average='macro')\n",
    "\n",
    "print(precision)\n",
    "print(recall)\n",
    "print(f1_score)"
   ]
  },
  {
   "cell_type": "code",
   "execution_count": 20,
   "metadata": {},
   "outputs": [],
   "source": [
    "plt.rcParams['figure.figsize'] = [12, 8]\n",
    "plt.rcParams['figure.dpi'] = 100"
   ]
  },
  {
   "cell_type": "code",
   "execution_count": 21,
   "metadata": {},
   "outputs": [
    {
     "data": {
      "image/png": "[encoded data removed]",
      "text/plain": [
       "<Figure size 1200x800 with 2 Axes>"
      ]
     },
     "metadata": {
      "needs_background": "light"
     },
     "output_type": "display_data"
    }
   ],
   "source": [
    "metrics.plot_confusion_matrix(clf, X_test, y_test, display_labels = LE.classes_) \n",
    "plt.show()"
   ]
  },
  {
   "cell_type": "markdown",
   "metadata": {},
   "source": [
    "Find important features for classification"
   ]
  },
  {
   "cell_type": "code",
   "execution_count": 22,
   "metadata": {},
   "outputs": [
    {
     "name": "stdout",
     "output_type": "stream",
     "text": [
      "object_intden                 0.103207\n",
      "object_mean                   0.086745\n",
      "object_range                  0.080020\n",
      "object_max                    0.078604\n",
      "object_min                    0.071894\n",
      "object_x                      0.069274\n",
      "object_minor                  0.067348\n",
      "object_perimareaexc           0.058328\n",
      "object_width                  0.056977\n",
      "object_local_centroid_col     0.048556\n",
      "object_equivalent_diameter    0.037293\n",
      "object_bounding_box_area      0.035444\n",
      "object_convex_area            0.032341\n",
      "object_area                   0.027635\n",
      "object_perim.                 0.026716\n",
      "object_circex                 0.015932\n",
      "object_circ.                  0.013585\n",
      "object_area_exc               0.013317\n",
      "object_elongation             0.012652\n",
      "object_perimmajor             0.011392\n",
      "object_eccentricity           0.011138\n",
      "object_major                  0.010784\n",
      "object_y                      0.010218\n",
      "object_local_centroid_row     0.010003\n",
      "object_height                 0.008515\n",
      "object_angle                  0.002083\n",
      "object_extent                 0.000000\n",
      "object_euler_number           0.000000\n",
      "object_label                  0.000000\n",
      "object_%area                  0.000000\n",
      "object_by                     0.000000\n",
      "object_bx                     0.000000\n",
      "object_solidity               0.000000\n",
      "dtype: float64\n"
     ]
    }
   ],
   "source": [
    "feature_names = X_train.columns\n",
    "feature_imp = pd.Series(clf.feature_importances_,index=feature_names).sort_values(ascending=False)\n",
    "print(feature_imp)"
   ]
  },
  {
   "cell_type": "code",
   "execution_count": 23,
   "metadata": {},
   "outputs": [
    {
     "data": {
      "image/png": "[encoded data removed]",
      "text/plain": [
       "<Figure size 1200x800 with 1 Axes>"
      ]
     },
     "metadata": {
      "needs_background": "light"
     },
     "output_type": "display_data"
    }
   ],
   "source": [
    "# Creating a bar plot\n",
    "sns.barplot(x=feature_imp, y=feature_imp.index)\n",
    "# Add labels to your graph\n",
    "plt.rcParams['figure.figsize'] = [12, 8]\n",
    "plt.rcParams['figure.dpi'] = 100\n",
    "plt.xlabel('Feature Importance Score')\n",
    "plt.ylabel('Features')\n",
    "plt.title(\"Visualizing Important Features\")\n",
    "plt.show()"
   ]
  },
  {
   "cell_type": "markdown",
   "metadata": {},
   "source": [
    "The following calculates precision, recall, accuracy and f1 using the pre-computed confusion matrix"
   ]
  },
  {
   "cell_type": "code",
   "execution_count": 24,
   "metadata": {},
   "outputs": [],
   "source": [
    "confusion_matrix = metrics.confusion_matrix(y_test, y_pred)"
   ]
  },
  {
   "cell_type": "code",
   "execution_count": 25,
   "metadata": {},
   "outputs": [
    {
     "name": "stdout",
     "output_type": "stream",
     "text": [
      "precision = 0.706\n",
      "recall = 0.697\n",
      "accuracy = 0.844\n",
      "f1 = 0.696\n"
     ]
    }
   ],
   "source": [
    "from evaluate_model import model_metrics\n",
    "accuracy, precision, recall, f1 = model_metrics(confusion_matrix)\n",
    "print(\"precision = %.3f\" % precision)\n",
    "print(\"recall = %.3f\" % recall)\n",
    "print(\"accuracy = %.3f\" % accuracy)\n",
    "print(\"f1 = %.3f\" % f1)"
   ]
  },
  {
   "cell_type": "markdown",
   "metadata": {},
   "source": [
    "Export pre-trained model as pkl file so that it can later be used in scivision"
   ]
  },
  {
   "cell_type": "code",
   "execution_count": 26,
   "metadata": {},
   "outputs": [],
   "source": [
    "with open('/output/models/randomforest/rf-label2-with-detritus.pkl','wb') as f:\n",
    "    pickle.dump(clf,f)"
   ]
  }
 ],
 "metadata": {
  "kernelspec": {
   "display_name": "Python (scivis-plankton)",
   "language": "python",
   "name": "scivis-plankton"
  },
  "language_info": {
   "codemirror_mode": {
    "name": "ipython",
    "version": 3
   },
   "file_extension": ".py",
   "mimetype": "text/x-python",
   "name": "python",
   "nbconvert_exporter": "python",
   "pygments_lexer": "ipython3",
   "version": "3.8.8"
  }
 },
 "nbformat": 4,
 "nbformat_minor": 2
}
