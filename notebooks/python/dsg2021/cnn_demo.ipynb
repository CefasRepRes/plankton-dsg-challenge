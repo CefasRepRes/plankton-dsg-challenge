{
 "cells": [
  {
   "cell_type": "code",
   "execution_count": 43,
   "metadata": {},
   "outputs": [],
   "source": [
    "import torch\n",
    "import numpy as np\n",
    "import torchvision.transforms.functional as F\n",
    "import matplotlib.pyplot as plt\n",
    "from PIL import Image"
   ]
  },
  {
   "cell_type": "code",
   "execution_count": 44,
   "metadata": {},
   "outputs": [],
   "source": [
    "def resnet50(num_classes):\n",
    "    model = torchvision.models.resnet50(pretrained=True)\n",
    "    model.fc = torch.nn.Linear(model.fc.in_features, num_classes)\n",
    "    model.eval()\n",
    "    return model\n",
    "\n",
    "def vgg16(num_classes=39):\n",
    "    model = torchvision.models.vgg16(pretrained=True)\n",
    "    model.classifier[6] = torch.nn.Linear(model.classifier[6].in_features, num_classes)\n",
    "    model.eval()\n",
    "    return model\n",
    "    \n",
    "class_maps = {\n",
    "    'label1': ['detritus', 'zooplankton'],\n",
    "    'label2': ['copepod','detritus', 'noncopepod'],\n",
    "    'label3': ['annelida_polychaeta', 'appendicularia', 'bivalvia-larvae', \n",
    "               'byrozoa-larvae', 'chaetognatha', 'cirripedia_barnacle-nauplii', \n",
    "               'cladocera', 'cladocera_evadne-spp', 'cnidaria', 'copepod_calanoida', \n",
    "               'copepod_calanoida_acartia-spp', 'copepod_calanoida_calanus-spp', \n",
    "               'copepod_calanoida_candacia-spp', 'copepod_calanoida_centropages-spp', \n",
    "               'copepod_calanoida_para-pseudocalanus-spp', 'copepod_calanoida_temora-spp', \n",
    "               'copepod_cyclopoida', 'copepod_cyclopoida_corycaeus-spp', \n",
    "               'copepod_cyclopoida_oithona-spp', 'copepod_cyclopoida_oncaea-spp', \n",
    "               'copepod_harpacticoida', 'copepod_nauplii', 'copepod_unknown', \n",
    "               'decapoda-larvae_brachyura', 'detritus', 'echniodermata-larvae', \n",
    "               'euphausiid', 'euphausiid_nauplii', 'fish-eggs', 'gastropoda-larva', \n",
    "               'mysideacea', 'nt-bubbles', 'nt-phyto_ceratium-spp', \n",
    "               'nt-phyto_rhizosolenia-spp', 'nt_phyto_chains', 'ostracoda', \n",
    "               'radiolaria', 'tintinnida', 'tunicata_doliolida']\n",
    "}"
   ]
  },
  {
   "cell_type": "code",
   "execution_count": 45,
   "metadata": {},
   "outputs": [
    {
     "data": {
      "text/plain": [
       "<All keys matched successfully>"
      ]
     },
     "execution_count": 45,
     "metadata": {},
     "output_type": "execute_result"
    }
   ],
   "source": [
    "# define model architecture\n",
    "model = resnet50(num_classes=39)\n",
    "# Loading saved model weights\n",
    "model_state_dict = torch.load(f'/output/models/resnet50/resnet50_label3_005.pth', map_location='cpu')\n",
    "model.load_state_dict(model_state_dict)"
   ]
  },
  {
   "cell_type": "code",
   "execution_count": 55,
   "metadata": {},
   "outputs": [],
   "source": [
    "device = torch.device(\"cpu\")\n",
    "# check if gpu is available\n",
    "# if torch.cuda.is_available():\n",
    "#     device = torch.device(\"cuda\")"
   ]
  },
  {
   "cell_type": "code",
   "execution_count": 56,
   "metadata": {},
   "outputs": [
    {
     "name": "stdout",
     "output_type": "stream",
     "text": [
      "(<class 'torch.Tensor'>, torch.Size([1, 3, 256, 256]))\n"
     ]
    }
   ],
   "source": [
    "# Load image\n",
    "image = Image.open('/data/images/Pia1.2016-08-02.1631+N38_hc._fx.tif')\n",
    "# Convert Image to tensor and resize it\n",
    "t = F.to_tensor(image)\n",
    "t = F.resize(t, (256, 256))\n",
    "# model expects a batch of images so lets convert this image tensor to batch of 1 image\n",
    "t = t.unsqueeze(dim=0)\n",
    "print((type(t),t.shape))"
   ]
  },
  {
   "cell_type": "code",
   "execution_count": 59,
   "metadata": {
    "scrolled": true
   },
   "outputs": [],
   "source": [
    "model = model.to(device)\n",
    "t = t.to(device)\n",
    "\n",
    "with torch.set_grad_enabled(False):\n",
    "    outputs = model(t)\n",
    "    # select top 1 from outputs\n",
    "    _, preds = torch.max(outputs, 1)"
   ]
  },
  {
   "cell_type": "code",
   "execution_count": 62,
   "metadata": {},
   "outputs": [
    {
     "name": "stdout",
     "output_type": "stream",
     "text": [
      "appendicularia tensor([[ 3.8014, 16.6294, -4.9266,  1.3700,  5.5444, -8.0880, -0.0420,  2.0174,\n",
      "          1.1218,  2.8133, -2.7241, -2.3848, -2.7246, -2.3331, -2.1492, -1.0956,\n",
      "          0.4141, -0.7841, -1.5687, -0.1150, -0.8236, -0.1830,  3.7441,  4.9344,\n",
      "          1.7407,  1.4253,  2.6904,  2.5774,  5.2806, -0.6292, -1.9488, -2.0405,\n",
      "         -0.9698, -1.2764, -4.3951, -3.1551, -5.7602,  0.3590,  0.2814]])\n"
     ]
    }
   ],
   "source": [
    "print(class_maps['label3'][preds[0]],outputs[0][[preds[0]]])"
   ]
  },
  {
   "cell_type": "code",
   "execution_count": null,
   "metadata": {},
   "outputs": [],
   "source": []
  }
 ],
 "metadata": {
  "kernelspec": {
   "display_name": "Python (scivis-plankton)",
   "language": "python",
   "name": "scivis-plankton"
  },
  "language_info": {
   "codemirror_mode": {
    "name": "ipython",
    "version": 3
   },
   "file_extension": ".py",
   "mimetype": "text/x-python",
   "name": "python",
   "nbconvert_exporter": "python",
   "pygments_lexer": "ipython3",
   "version": "3.8.8"
  }
 },
 "nbformat": 4,
 "nbformat_minor": 2
}
