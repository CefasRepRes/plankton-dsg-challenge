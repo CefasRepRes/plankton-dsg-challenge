{
 "cells": [
  {
   "cell_type": "code",
   "execution_count": null,
   "metadata": {},
   "outputs": [],
   "source": [
    "import cv2, os\n",
    "import numpy as np\n",
    "import pandas as pd\n",
    "import xarray as xr\n",
    "import matplotlib.pyplot as plt\n",
    "from scivision.io import load_dataset"
   ]
  },
  {
   "cell_type": "code",
   "execution_count": null,
   "metadata": {
    "scrolled": false
   },
   "outputs": [],
   "source": [
    "# Set VM data path and read labels file\n",
    "\n",
    "dataPath = '/scratch/data/images/'\n",
    "df_ind = pd.read_csv('/scratch/data/index.csv')\n",
    "df_ind.head()"
   ]
  },
  {
   "cell_type": "code",
   "execution_count": null,
   "metadata": {},
   "outputs": [],
   "source": [
    "# check for image overlaps in two classes\n",
    "\n",
    "def intersection(lst1, lst2):\n",
    "    return list(set(lst1) & set(lst2))"
   ]
  },
  {
   "cell_type": "code",
   "execution_count": null,
   "metadata": {},
   "outputs": [],
   "source": [
    "def preprocess(im, size, blur, gray=True):\n",
    "    im = cv2.GaussianBlur(im, (blur, blur),0)\n",
    "    if gray:\n",
    "        im = cv2.cvtColor(im, cv2.COLOR_BGR2GRAY)\n",
    "    else:\n",
    "        im = cv2.cvtColor(im, cv2.COLOR_BGR2RGB)\n",
    "    im = cv2.resize(im,(size, size))\n",
    "    return im"
   ]
  },
  {
   "cell_type": "markdown",
   "metadata": {},
   "source": [
    "# View Images"
   ]
  },
  {
   "cell_type": "code",
   "execution_count": null,
   "metadata": {
    "scrolled": true
   },
   "outputs": [],
   "source": [
    "for i in sorted(os.listdir(dataPath))[:3]:\n",
    "    im_full = cv2.imread(dataPath + i)\n",
    "    print(i)\n",
    "#     print(\"avg/std rgb: \", np.mean(im_full, axis=(0,1)), np.std(im_full, axis=(0,1)))\n",
    "    \n",
    "    im = preprocess(im_full, 40, 5)\n",
    "    print(im.shape)\n",
    "    edges = cv2.Canny(im, 50, 50)\n",
    "    \n",
    "    plt.subplot(131), plt.title(\"Image\"),plt.imshow(im_full)\n",
    "    plt.subplot(132), plt.title(\"Pre-processed\"), plt.imshow(im, cmap=\"gray\")\n",
    "    plt.subplot(133), plt.title(\"Edges\"), plt.imshow(edges, cmap=\"gray\")\n",
    "#     plt.savefig(str(i) + \"preprocess.png\")\n",
    "    plt.show()"
   ]
  },
  {
   "cell_type": "markdown",
   "metadata": {},
   "source": [
    "# Label 2 - Plankton"
   ]
  },
  {
   "cell_type": "code",
   "execution_count": null,
   "metadata": {},
   "outputs": [],
   "source": [
    "df_ind['label2'].value_counts()"
   ]
  },
  {
   "cell_type": "code",
   "execution_count": null,
   "metadata": {},
   "outputs": [],
   "source": [
    "cop_im_list = df_ind[df_ind['label2']=='copepod']['filename'].tolist()\n",
    "noncop_im_list = df_ind[df_ind['label2']=='noncopepod']['filename'].tolist()\n",
    "\n",
    "print(len(cop_im_list), len(noncop_im_list))\n",
    "print(intersection(cop_im_list, noncop_im_list))"
   ]
  },
  {
   "cell_type": "code",
   "execution_count": null,
   "metadata": {
    "scrolled": true
   },
   "outputs": [],
   "source": [
    "overlap_list = ['Pia1.2017-10-26.1849+N00011891_hc.tif', 'Pia1.2017-10-03.1726+N00294605_hc.tif', 'Pia1.2017-10-03.1726+N00358839_hc.tif']\n",
    "\n",
    "for i in overlap_list:\n",
    "    \n",
    "    im = cv2.imread(dataPath + i)\n",
    "    plt.imshow(im)\n",
    "    plt.show()"
   ]
  },
  {
   "cell_type": "code",
   "execution_count": null,
   "metadata": {},
   "outputs": [],
   "source": [
    "for i in intersection(cop_im_list, noncop_im_list):\n",
    "    cop_im_list.remove(i)\n",
    "    noncop_im_list.remove(i)"
   ]
  },
  {
   "cell_type": "code",
   "execution_count": null,
   "metadata": {},
   "outputs": [],
   "source": [
    "print(len(cop_im_list), len(noncop_im_list))"
   ]
  },
  {
   "cell_type": "code",
   "execution_count": null,
   "metadata": {
    "scrolled": true
   },
   "outputs": [],
   "source": [
    "savePath = '/shared/jenniferding/plankton/cop/'\n",
    "n = 500\n",
    "\n",
    "for i in sorted(cop_im_list)[:n]:\n",
    "    im = cv2.imread(dataPath + i)\n",
    "#     print(dataPath + i)\n",
    "    im = preprocess(im, 128, 3, gray=False)\n",
    "    cv2.imwrite(savePath+i, im)"
   ]
  },
  {
   "cell_type": "code",
   "execution_count": null,
   "metadata": {},
   "outputs": [],
   "source": [
    "print(len(os.listdir('/shared/jenniferding/plankton/cop/')))"
   ]
  },
  {
   "cell_type": "code",
   "execution_count": null,
   "metadata": {},
   "outputs": [],
   "source": [
    "savePath = '/shared/jenniferding/plankton/noncop/'\n",
    "n = 500\n",
    "\n",
    "for i in sorted(noncop_im_list)[:n]:\n",
    "    im = cv2.imread(dataPath + i)\n",
    "#     print(dataPath + i)\n",
    "    im = preprocess(im, 128, 3, gray=False)\n",
    "    cv2.imwrite(savePath+i, im)"
   ]
  },
  {
   "cell_type": "code",
   "execution_count": null,
   "metadata": {},
   "outputs": [],
   "source": [
    "print(len(os.listdir('/shared/jenniferding/plankton/noncop/')))"
   ]
  },
  {
   "cell_type": "markdown",
   "metadata": {},
   "source": [
    "# Label 1 - All Images"
   ]
  },
  {
   "cell_type": "code",
   "execution_count": null,
   "metadata": {},
   "outputs": [],
   "source": [
    "# View distribution of class 1 labels (detritus vs. zooplankton)\n",
    "\n",
    "df_ind['label1'].value_counts()"
   ]
  },
  {
   "cell_type": "code",
   "execution_count": null,
   "metadata": {},
   "outputs": [],
   "source": [
    "detritus_im_list = df_ind[df_ind['label1']=='detritus']['filename'].tolist()\n",
    "plankton_im_list = df_ind[df_ind['label1']=='zooplankton']['filename'].tolist()\n",
    "\n",
    "print(len(detritus_im_list), len(plankton_im_list))\n",
    "print(intersection(detritus_im_list, plankton_im_list))"
   ]
  },
  {
   "cell_type": "code",
   "execution_count": null,
   "metadata": {
    "scrolled": true
   },
   "outputs": [],
   "source": [
    "savePath = '/shared/images_cnn/detritus/'\n",
    "\n",
    "for i in sorted(detritus_im_list)[:20000]:\n",
    "    im = cv2.imread(dataPath + i)\n",
    "#     print(dataPath + i)\n",
    "    im = preprocess(im, 40, 5)\n",
    "    cv2.imwrite(savePath+i, im)"
   ]
  },
  {
   "cell_type": "code",
   "execution_count": null,
   "metadata": {},
   "outputs": [],
   "source": [
    "print(len(os.listdir('/shared/images_cnn/detritus/')))"
   ]
  },
  {
   "cell_type": "code",
   "execution_count": null,
   "metadata": {
    "scrolled": true
   },
   "outputs": [],
   "source": [
    "dataPath = '/shared/images_cnn/detritus/'\n",
    "\n",
    "for i in sorted(os.listdir(dataPath))[:5]:\n",
    "\n",
    "    im = cv2.imread(dataPath + i)\n",
    "    print(i)\n",
    "    plt.imshow(im, cmap=\"gray\")\n",
    "    plt.show()"
   ]
  },
  {
   "cell_type": "code",
   "execution_count": null,
   "metadata": {
    "scrolled": true
   },
   "outputs": [],
   "source": [
    "savePath = '/shared/images_cnn/plankton/'\n",
    "\n",
    "for i in sorted(plankton_im_list):\n",
    "    im = cv2.imread(dataPath + i)\n",
    "#     print(dataPath + i)\n",
    "    im = preprocess(im, 40, 5)\n",
    "    cv2.imwrite(savePath+i, im)"
   ]
  },
  {
   "cell_type": "code",
   "execution_count": null,
   "metadata": {},
   "outputs": [],
   "source": [
    "print(len(os.listdir('/shared/images_cnn/plankton/')))"
   ]
  },
  {
   "cell_type": "code",
   "execution_count": null,
   "metadata": {
    "scrolled": true
   },
   "outputs": [],
   "source": [
    "dataPath = '/shared/images_cnn/plankton/'\n",
    "\n",
    "for i in sorted(os.listdir(dataPath))[:10]:\n",
    "    im = cv2.imread(dataPath + i)\n",
    "    print(i)\n",
    "    plt.imshow(im, cmap=\"gray\")\n",
    "    plt.show()"
   ]
  },
  {
   "cell_type": "markdown",
   "metadata": {},
   "source": [
    "# Load Data - Scivision\n",
    "- Deduplicate and view labels & example image"
   ]
  },
  {
   "cell_type": "code",
   "execution_count": null,
   "metadata": {},
   "outputs": [],
   "source": [
    "cat = load_dataset('https://github.com/alan-turing-institute/plankton-dsg-challenge')\n",
    "\n",
    "ds_all = cat.plankton_multiple().to_dask()\n",
    "labels = cat.labels().read()\n",
    "\n",
    "labels_dedup = xr.Dataset.from_dataframe(\n",
    "    labels\n",
    "    .drop_duplicates(subset=[\"filename\"])\n",
    "    .set_index(\"filename\")\n",
    "    .sort_index()\n",
    ")\n",
    "\n",
    "ds_labelled = (\n",
    "    ds_all\n",
    "    .swap_dims({\"concat_dim\": \"filename\"})\n",
    "    .merge(labels_dedup, join=\"inner\")\n",
    "    .swap_dims({\"filename\": \"concat_dim\"})\n",
    ")"
   ]
  },
  {
   "cell_type": "code",
   "execution_count": null,
   "metadata": {},
   "outputs": [],
   "source": [
    "one_image = ds_labelled.sel(concat_dim=1)\n",
    "plt.imshow(one_image['raster'].compute().values[:,:,:])\n",
    "plt.title(one_image.filename.compute().values)"
   ]
  },
  {
   "cell_type": "code",
   "execution_count": null,
   "metadata": {},
   "outputs": [],
   "source": [
    "# get image width and length into columns\n",
    "ds_labelled = ds_labelled.assign(\n",
    "    image_width = ds_labelled['EXIF Image ImageWidth'].to_pandas().apply(lambda x: x.values[0]),\n",
    "    image_length = ds_labelled['EXIF Image ImageLength'].to_pandas().apply(lambda x: x.values[0])\n",
    ")"
   ]
  }
 ],
 "metadata": {
  "kernelspec": {
   "display_name": "Python (scivis-plankton)",
   "language": "python",
   "name": "scivis-plankton"
  },
  "language_info": {
   "codemirror_mode": {
    "name": "ipython",
    "version": 3
   },
   "file_extension": ".py",
   "mimetype": "text/x-python",
   "name": "python",
   "nbconvert_exporter": "python",
   "pygments_lexer": "ipython3",
   "version": "3.8.8"
  }
 },
 "nbformat": 4,
 "nbformat_minor": 2
}
