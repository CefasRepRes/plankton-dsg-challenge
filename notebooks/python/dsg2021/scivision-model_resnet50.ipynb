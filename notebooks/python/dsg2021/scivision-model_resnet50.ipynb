{
 "cells": [
  {
   "cell_type": "markdown",
   "metadata": {},
   "source": [
    "# Evaluation of the ResNet-50 model"
   ]
  },
  {
   "cell_type": "markdown",
   "metadata": {},
   "source": [
    "## Import libraries"
   ]
  },
  {
   "cell_type": "code",
   "execution_count": 18,
   "metadata": {
    "gather": {
     "logged": 1637758888059
    },
    "jupyter": {
     "outputs_hidden": false,
     "source_hidden": false
    },
    "nteract": {
     "transient": {
      "deleting": false
     }
    }
   },
   "outputs": [],
   "source": [
    "import numpy as np\n",
    "import pandas as pd\n",
    "import xarray as xr\n",
    "import matplotlib.pyplot as plt\n",
    "\n",
    "from scivision.io import load_pretrained_model, load_dataset"
   ]
  },
  {
   "cell_type": "markdown",
   "metadata": {},
   "source": [
    "## Load hold-out (test) dataset"
   ]
  },
  {
   "cell_type": "code",
   "execution_count": 6,
   "metadata": {
    "gather": {
     "logged": 1637758888163
    }
   },
   "outputs": [],
   "source": [
    "cat = load_dataset('https://github.com/alan-turing-institute/plankton-dsg-challenge')\n",
    "\n",
    "ds_all = cat.plankton_multiple().to_dask()\n",
    "labels_holdout = cat.labels_holdout().read()\n",
    "\n",
    "labels_holdout_dedup = xr.Dataset.from_dataframe(\n",
    "    labels_holdout\n",
    "    .drop_duplicates(subset=[\"filename\"])\n",
    "    .set_index(\"filename\")\n",
    "    .sort_index()\n",
    ")\n",
    "\n",
    "ds_holdout_labelled = (\n",
    "    ds_all\n",
    "    .swap_dims({\"concat_dim\": \"filename\"})\n",
    "    .merge(labels_holdout_dedup, join=\"inner\")\n",
    "    .swap_dims({\"filename\": \"concat_dim\"})\n",
    ")"
   ]
  },
  {
   "cell_type": "code",
   "execution_count": 7,
   "metadata": {
    "gather": {
     "logged": 1637758888318
    },
    "jupyter": {
     "outputs_hidden": false,
     "source_hidden": false
    },
    "nteract": {
     "transient": {
      "deleting": false
     }
    }
   },
   "outputs": [
    {
     "name": "stdout",
     "output_type": "stream",
     "text": [
      "<xarray.Dataset>\n",
      "Dimensions:                               (channel: 3, concat_dim: 5863, x: 1040, y: 832)\n",
      "Coordinates:\n",
      "    filename                              (concat_dim) object 'Pia1.2016-08-0...\n",
      "  * concat_dim                            (concat_dim) int64 13 18 ... 58748\n",
      "  * y                                     (y) int64 0 1 2 3 ... 828 829 830 831\n",
      "  * x                                     (x) int64 0 1 2 3 ... 1037 1038 1039\n",
      "  * channel                               (channel) int64 0 1 2\n",
      "Data variables: (12/27)\n",
      "    raster                                (concat_dim, y, x, channel) uint8 dask.array<chunksize=(1, 832, 1040, 3), meta=np.ndarray>\n",
      "    EXIF Image ImageWidth                 (concat_dim) object dask.array<chunksize=(1,), meta=np.ndarray>\n",
      "    EXIF Image ImageLength                (concat_dim) object dask.array<chunksize=(1,), meta=np.ndarray>\n",
      "    EXIF Image BitsPerSample              (concat_dim) object dask.array<chunksize=(1,), meta=np.ndarray>\n",
      "    EXIF Image Compression                (concat_dim) object dask.array<chunksize=(1,), meta=np.ndarray>\n",
      "    EXIF Image PhotometricInterpretation  (concat_dim) object dask.array<chunksize=(1,), meta=np.ndarray>\n",
      "    ...                                    ...\n",
      "    EXIF GPS GPSLongitude                 (concat_dim) object dask.array<chunksize=(1,), meta=np.ndarray>\n",
      "    EXIF Image GPSInfo                    (concat_dim) object dask.array<chunksize=(1,), meta=np.ndarray>\n",
      "    index                                 (concat_dim) int64 155 12066 ... 14784\n",
      "    label1                                (concat_dim) object 'zooplankton' ....\n",
      "    label2                                (concat_dim) object 'noncopepod' .....\n",
      "    label3                                (concat_dim) object 'appendicularia...\n"
     ]
    }
   ],
   "source": [
    "print(ds_holdout_labelled)"
   ]
  },
  {
   "cell_type": "code",
   "execution_count": 8,
   "metadata": {
    "gather": {
     "logged": 1637758921381
    }
   },
   "outputs": [
    {
     "data": {
      "text/plain": [
       "xarray.core.dataset.Dataset"
      ]
     },
     "execution_count": 8,
     "metadata": {},
     "output_type": "execute_result"
    }
   ],
   "source": [
    "type(ds_holdout_labelled)"
   ]
  },
  {
   "cell_type": "code",
   "execution_count": 26,
   "metadata": {},
   "outputs": [
    {
     "data": {
      "text/plain": [
       "5863"
      ]
     },
     "execution_count": 26,
     "metadata": {},
     "output_type": "execute_result"
    }
   ],
   "source": [
    "ds_holdout_labelled.dims['concat_dim']"
   ]
  },
  {
   "cell_type": "code",
   "execution_count": 9,
   "metadata": {
    "gather": {
     "logged": 1637758921535
    },
    "jupyter": {
     "outputs_hidden": false,
     "source_hidden": false
    },
    "nteract": {
     "transient": {
      "deleting": false
     }
    }
   },
   "outputs": [],
   "source": [
    "# choose a test image\n",
    "image_no = 18\n",
    "image = ds_holdout_labelled['raster'].sel(concat_dim=image_no).compute().values\n",
    "label_gt = ds_holdout_labelled['label3'].sel(concat_dim=image_no).compute().values"
   ]
  },
  {
   "cell_type": "code",
   "execution_count": 20,
   "metadata": {
    "gather": {
     "logged": 1637758921667
    },
    "jupyter": {
     "outputs_hidden": false,
     "source_hidden": false
    },
    "nteract": {
     "transient": {
      "deleting": false
     }
    }
   },
   "outputs": [
    {
     "data": {
      "image/png": "[encoded data removed]",
      "text/plain": [
       "<Figure size 432x288 with 1 Axes>"
      ]
     },
     "metadata": {
      "needs_background": "light"
     },
     "output_type": "display_data"
    }
   ],
   "source": [
    "plt.figure()\n",
    "plt.imshow(image)\n",
    "plt.title(\"{}\".format(label_gt))\n",
    "plt.show()"
   ]
  },
  {
   "cell_type": "markdown",
   "metadata": {},
   "source": [
    "## Load pretrained model"
   ]
  },
  {
   "cell_type": "code",
   "execution_count": 3,
   "metadata": {
    "gather": {
     "logged": 1637754654394
    },
    "jupyter": {
     "outputs_hidden": false,
     "source_hidden": false
    },
    "nteract": {
     "transient": {
      "deleting": false
     }
    }
   },
   "outputs": [],
   "source": [
    "# Load model\n",
    "scivision_yml = 'https://github.com/acocac/scivision-plankton-pytorch/.scivision-config.yaml'\n",
    "model = load_pretrained_model(scivision_yml, allow_install=True)"
   ]
  },
  {
   "cell_type": "markdown",
   "metadata": {},
   "source": [
    "## Preprocess image"
   ]
  },
  {
   "cell_type": "code",
   "execution_count": 4,
   "metadata": {
    "gather": {
     "logged": 1637758925231
    },
    "jupyter": {
     "outputs_hidden": false,
     "source_hidden": false
    },
    "nteract": {
     "transient": {
      "deleting": false
     }
    }
   },
   "outputs": [],
   "source": [
    "# libraries\n",
    "import torch\n",
    "import torchvision"
   ]
  },
  {
   "cell_type": "code",
   "execution_count": 11,
   "metadata": {
    "gather": {
     "logged": 1637758925330
    },
    "jupyter": {
     "outputs_hidden": false,
     "source_hidden": false
    },
    "nteract": {
     "transient": {
      "deleting": false
     }
    }
   },
   "outputs": [],
   "source": [
    "# resize image\n",
    "IMAGE = torchvision.transforms.ToTensor()(image)\n",
    "IMAGE = torchvision.transforms.Resize((256,256))(IMAGE)\n",
    "IMAGE = torch.unsqueeze(IMAGE, 0)"
   ]
  },
  {
   "cell_type": "code",
   "execution_count": 12,
   "metadata": {
    "gather": {
     "logged": 1637758925417
    },
    "jupyter": {
     "outputs_hidden": false,
     "source_hidden": false
    },
    "nteract": {
     "transient": {
      "deleting": false
     }
    }
   },
   "outputs": [
    {
     "name": "stderr",
     "output_type": "stream",
     "text": [
      "/home/alejandro.cocacastro/.local/lib/python3.8/site-packages/scivision_plankton_pytorch/model.py:18: UserWarning: To copy construct from a tensor, it is recommended to use sourceTensor.clone().detach() or sourceTensor.clone().detach().requires_grad_(True), rather than torch.tensor(sourceTensor).\n",
      "  batch = torch.tensor(image)\n"
     ]
    }
   ],
   "source": [
    "# Get model predicition of image\n",
    "pred = model.predict(IMAGE)"
   ]
  },
  {
   "cell_type": "code",
   "execution_count": 23,
   "metadata": {
    "gather": {
     "logged": 1637758955243
    },
    "jupyter": {
     "outputs_hidden": false,
     "source_hidden": false
    },
    "nteract": {
     "transient": {
      "deleting": false
     }
    }
   },
   "outputs": [
    {
     "data": {
      "image/png": "[encoded data removed]",
      "text/plain": [
       "<Figure size 432x288 with 1 Axes>"
      ]
     },
     "metadata": {
      "needs_background": "light"
     },
     "output_type": "display_data"
    }
   ],
   "source": [
    "plt.figure()\n",
    "plt.imshow(image)\n",
    "_, preds = torch.max(pred, 1)\n",
    "plt.title(\"GT: {} \\n Pred: {}\".format(label_gt, preds))\n",
    "plt.show()"
   ]
  }
 ],
 "metadata": {
  "kernel_info": {
   "name": "scivis-plankton"
  },
  "kernelspec": {
   "display_name": "Python (scivis-plankton)",
   "language": "python",
   "name": "scivis-plankton"
  },
  "language_info": {
   "codemirror_mode": {
    "name": "ipython",
    "version": 3
   },
   "file_extension": ".py",
   "mimetype": "text/x-python",
   "name": "python",
   "nbconvert_exporter": "python",
   "pygments_lexer": "ipython3",
   "version": "3.8.8"
  },
  "microsoft": {
   "host": {
    "AzureML": {
     "notebookHasBeenCompleted": true
    }
   }
  },
  "nteract": {
   "version": "nteract-front-end@1.0.0"
  }
 },
 "nbformat": 4,
 "nbformat_minor": 5
}
