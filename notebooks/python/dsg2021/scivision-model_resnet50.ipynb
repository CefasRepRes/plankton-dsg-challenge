{
 "cells": [
  {
   "cell_type": "markdown",
   "metadata": {},
   "source": [
    "# Evaluation of the ResNet-50 model"
   ]
  },
  {
   "cell_type": "markdown",
   "metadata": {},
   "source": [
    "## Import libraries"
   ]
  },
  {
   "cell_type": "code",
   "execution_count": 3,
   "metadata": {
    "gather": {
     "logged": 1637758888059
    },
    "jupyter": {
     "outputs_hidden": false,
     "source_hidden": false
    },
    "nteract": {
     "transient": {
      "deleting": false
     }
    }
   },
   "outputs": [],
   "source": [
    "import numpy as np\n",
    "import pandas as pd\n",
    "import xarray as xr\n",
    "import matplotlib.pyplot as plt\n",
    "\n",
    "from scivision.io import load_pretrained_model, load_dataset"
   ]
  },
  {
   "cell_type": "markdown",
   "metadata": {},
   "source": [
    "## Load hold-out (test) dataset"
   ]
  },
  {
   "cell_type": "code",
   "execution_count": 6,
   "metadata": {
    "gather": {
     "logged": 1637758888163
    }
   },
   "outputs": [],
   "source": [
    "cat = load_dataset('https://github.com/alan-turing-institute/plankton-dsg-challenge')\n",
    "\n",
    "ds_all = cat.plankton_multiple().to_dask()\n",
    "labels_holdout = cat.labels_holdout().read()\n",
    "\n",
    "labels_holdout_dedup = xr.Dataset.from_dataframe(\n",
    "    labels_holdout\n",
    "    .drop_duplicates(subset=[\"filename\"])\n",
    "    .set_index(\"filename\")\n",
    "    .sort_index()\n",
    ")\n",
    "\n",
    "ds_holdout_labelled = (\n",
    "    ds_all\n",
    "    .swap_dims({\"concat_dim\": \"filename\"})\n",
    "    .merge(labels_holdout_dedup, join=\"inner\")\n",
    "    .swap_dims({\"filename\": \"concat_dim\"})\n",
    ")"
   ]
  },
  {
   "cell_type": "code",
   "execution_count": 7,
   "metadata": {},
   "outputs": [],
   "source": [
    "ds_holdout_labelled = ds_holdout_labelled.assign(\n",
    "    image_width = ds_holdout_labelled['EXIF Image ImageWidth'].to_pandas().apply(lambda x: x.values[0]),\n",
    "    image_length = ds_holdout_labelled['EXIF Image ImageLength'].to_pandas().apply(lambda x: x.values[0])\n",
    ")"
   ]
  },
  {
   "cell_type": "code",
   "execution_count": 8,
   "metadata": {
    "gather": {
     "logged": 1637758888318
    },
    "jupyter": {
     "outputs_hidden": false,
     "source_hidden": false
    },
    "nteract": {
     "transient": {
      "deleting": false
     }
    }
   },
   "outputs": [
    {
     "name": "stdout",
     "output_type": "stream",
     "text": [
      "<xarray.Dataset>\n",
      "Dimensions:                               (channel: 3, concat_dim: 5682, x: 1040, y: 832)\n",
      "Coordinates:\n",
      "    filename                              (concat_dim) object 'Pia1.2016-10-0...\n",
      "  * concat_dim                            (concat_dim) int64 18 56 ... 58732\n",
      "  * y                                     (y) int64 0 1 2 3 ... 828 829 830 831\n",
      "  * x                                     (x) int64 0 1 2 3 ... 1037 1038 1039\n",
      "  * channel                               (channel) int64 0 1 2\n",
      "Data variables: (12/29)\n",
      "    raster                                (concat_dim, y, x, channel) uint8 dask.array<chunksize=(1, 832, 1040, 3), meta=np.ndarray>\n",
      "    EXIF Image ImageWidth                 (concat_dim) object dask.array<chunksize=(1,), meta=np.ndarray>\n",
      "    EXIF Image ImageLength                (concat_dim) object dask.array<chunksize=(1,), meta=np.ndarray>\n",
      "    EXIF Image BitsPerSample              (concat_dim) object dask.array<chunksize=(1,), meta=np.ndarray>\n",
      "    EXIF Image Compression                (concat_dim) object dask.array<chunksize=(1,), meta=np.ndarray>\n",
      "    EXIF Image PhotometricInterpretation  (concat_dim) object dask.array<chunksize=(1,), meta=np.ndarray>\n",
      "    ...                                    ...\n",
      "    index                                 (concat_dim) int64 12066 ... 58780\n",
      "    label1                                (concat_dim) object 'zooplankton' ....\n",
      "    label2                                (concat_dim) object 'noncopepod' .....\n",
      "    label3                                (concat_dim) object 'copepod_naupli...\n",
      "    image_width                           (concat_dim) int64 104 144 ... 64 64\n",
      "    image_length                          (concat_dim) int64 90 122 ... 78 90\n"
     ]
    }
   ],
   "source": [
    "print(ds_holdout_labelled)"
   ]
  },
  {
   "cell_type": "markdown",
   "metadata": {},
   "source": [
    "## Load pretrained model"
   ]
  },
  {
   "cell_type": "code",
   "execution_count": 1,
   "metadata": {},
   "outputs": [],
   "source": [
    "# run if changes are made in https://github.com/acocac/scivision-plankton-models then restart the kernel\n",
    "#!pip -q uninstall -y scivision_plankton_models "
   ]
  },
  {
   "cell_type": "code",
   "execution_count": 4,
   "metadata": {
    "gather": {
     "logged": 1637754654394
    },
    "jupyter": {
     "outputs_hidden": false,
     "source_hidden": false
    },
    "nteract": {
     "transient": {
      "deleting": false
     }
    }
   },
   "outputs": [],
   "source": [
    "# Load model\n",
    "scivision_yml = 'https://github.com/acocac/scivision-plankton-models/.scivision-config-resnet50_label3.yaml'\n",
    "model = load_pretrained_model(scivision_yml, allow_install=True)"
   ]
  },
  {
   "cell_type": "code",
   "execution_count": 5,
   "metadata": {},
   "outputs": [
    {
     "data": {
      "text/plain": [
       "scivision.PretrainedModel( \n",
       "  module='scivision_plankton_models', \n",
       "  model='resnet50_label3', \n",
       "  source='https://github.com/acocac/scivision-plankton-models' \n",
       "  pipe='DataPipe(input=<Parameter \"X: numpy.ndarray\">, output=<Parameter \"image: numpy.ndarray\">)' \n",
       ")"
      ]
     },
     "execution_count": 5,
     "metadata": {},
     "output_type": "execute_result"
    }
   ],
   "source": [
    "model"
   ]
  },
  {
   "cell_type": "markdown",
   "metadata": {},
   "source": [
    "## Dataset and Dataloader"
   ]
  },
  {
   "cell_type": "code",
   "execution_count": 31,
   "metadata": {},
   "outputs": [],
   "source": [
    "from scivision_plankton_models import PlanktonDataset\n",
    "from torch.utils.data import DataLoader\n",
    "import tqdm\n",
    "import torch\n",
    "import matplotlib.pyplot as plt"
   ]
  },
  {
   "cell_type": "code",
   "execution_count": 14,
   "metadata": {},
   "outputs": [
    {
     "name": "stdout",
     "output_type": "stream",
     "text": [
      "cpu\n"
     ]
    }
   ],
   "source": [
    "device = torch.device(\"cuda:0\" if torch.cuda.is_available() else \"cpu\")\n",
    "print(device)"
   ]
  },
  {
   "cell_type": "code",
   "execution_count": 26,
   "metadata": {},
   "outputs": [
    {
     "name": "stdout",
     "output_type": "stream",
     "text": [
      "236\n"
     ]
    }
   ],
   "source": [
    "dataset = PlanktonDataset(ds_holdout_labelled)\n",
    "\n",
    "batch_size=24\n",
    "\n",
    "num_iterations = max(1, len(dataset) // batch_size)\n",
    "print(num_iterations)"
   ]
  },
  {
   "cell_type": "code",
   "execution_count": 28,
   "metadata": {},
   "outputs": [],
   "source": [
    "dataloader = DataLoader(dataset, batch_size=batch_size, shuffle=False)"
   ]
  },
  {
   "cell_type": "markdown",
   "metadata": {},
   "source": [
    "## Predict and visualise"
   ]
  },
  {
   "cell_type": "code",
   "execution_count": 29,
   "metadata": {},
   "outputs": [
    {
     "name": "stderr",
     "output_type": "stream",
     "text": [
      "/home/alejandro.cocacastro/.local/lib/python3.8/site-packages/scivision_plankton_models/model.py:58: UserWarning: To copy construct from a tensor, it is recommended to use sourceTensor.clone().detach() or sourceTensor.clone().detach().requires_grad_(True), rather than torch.tensor(sourceTensor).\n",
      "  batch = torch.tensor(image)\n"
     ]
    }
   ],
   "source": [
    "nb_classes = 39\n",
    "\n",
    "confusion_matrix = torch.zeros(nb_classes, nb_classes)\n",
    "with torch.no_grad():\n",
    "    for i, (_, inputs) in enumerate(dataloader):\n",
    "        inputs = inputs.to(device)\n",
    "        outputs = model.predict(inputs)\n",
    "        _, preds = torch.max(outputs, 1)\n",
    "        break"
   ]
  },
  {
   "cell_type": "code",
   "execution_count": 30,
   "metadata": {},
   "outputs": [
    {
     "data": {
      "text/plain": [
       "tensor([21, 38, 38,  4, 13, 28, 38,  4, 13, 38, 21, 21, 21, 38, 29, 12, 21, 18,\n",
       "        18, 28, 21,  4, 21, 21])"
      ]
     },
     "execution_count": 30,
     "metadata": {},
     "output_type": "execute_result"
    }
   ],
   "source": [
    "preds"
   ]
  },
  {
   "cell_type": "markdown",
   "metadata": {},
   "source": [
    "## Verify resize operation"
   ]
  },
  {
   "cell_type": "code",
   "execution_count": 34,
   "metadata": {},
   "outputs": [
    {
     "name": "stderr",
     "output_type": "stream",
     "text": [
      "\r",
      "  0%|          | 0/5682 [00:00<?, ?it/s]"
     ]
    },
    {
     "name": "stdout",
     "output_type": "stream",
     "text": [
      "5682\n"
     ]
    },
    {
     "data": {
      "image/png": "[encoded data removed]",
      "text/plain": [
       "<Figure size 432x288 with 2 Axes>"
      ]
     },
     "metadata": {
      "needs_background": "light"
     },
     "output_type": "display_data"
    },
    {
     "name": "stderr",
     "output_type": "stream",
     "text": [
      "  0%|          | 0/5682 [00:00<?, ?it/s]\n"
     ]
    }
   ],
   "source": [
    "dataset = PlanktonDataset(ds_holdout_labelled)\n",
    "\n",
    "batch_size=1\n",
    "\n",
    "num_iterations = max(1, len(dataset) // batch_size)\n",
    "print(num_iterations)\n",
    "\n",
    "dataloader = DataLoader(dataset, batch_size=batch_size, shuffle=False)\n",
    "\n",
    "for i, (X_raw, X_pre) in enumerate(tqdm.tqdm(dataloader)):\n",
    "    X_pre = X_pre[0,:,:,:]\n",
    "    \n",
    "    plt.figure()\n",
    "    plt.subplot(1, 2, 1)\n",
    "    plt.imshow(X_raw[0,:,:,:])\n",
    "    plt.subplot(1, 2, 2)\n",
    "    plt.imshow(X_pre.permute(1, 2, 0))\n",
    "    plt.show()\n",
    "    \n",
    "    break"
   ]
  }
 ],
 "metadata": {
  "kernel_info": {
   "name": "scivis-plankton"
  },
  "kernelspec": {
   "display_name": "Python (scivis-plankton)",
   "language": "python",
   "name": "scivis-plankton"
  },
  "language_info": {
   "codemirror_mode": {
    "name": "ipython",
    "version": 3
   },
   "file_extension": ".py",
   "mimetype": "text/x-python",
   "name": "python",
   "nbconvert_exporter": "python",
   "pygments_lexer": "ipython3",
   "version": "3.8.8"
  },
  "microsoft": {
   "host": {
    "AzureML": {
     "notebookHasBeenCompleted": true
    }
   }
  },
  "nteract": {
   "version": "nteract-front-end@1.0.0"
  }
 },
 "nbformat": 4,
 "nbformat_minor": 5
}
