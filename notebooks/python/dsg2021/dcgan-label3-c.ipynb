{
 "cells": [
  {
   "cell_type": "code",
   "execution_count": 1,
   "metadata": {},
   "outputs": [],
   "source": [
    "import cv2, os\n",
    "import numpy as np\n",
    "import pandas as pd\n",
    "import matplotlib.pyplot as plt"
   ]
  },
  {
   "cell_type": "code",
   "execution_count": 2,
   "metadata": {
    "scrolled": true
   },
   "outputs": [],
   "source": [
    "# check for image overlaps in two classes\n",
    "def intersection(lst1, lst2):\n",
    "    return list(set(lst1) & set(lst2))\n",
    "\n",
    "def highpass(im, sigma):\n",
    "    return im - cv2.GaussianBlur(im, (0,0), sigma) + 127\n",
    "\n",
    "def preprocess(im, size, blur, gray=True):\n",
    "    im = cv2.GaussianBlur(im, (blur, blur),0)\n",
    "#     im = highpass(im, blur)\n",
    "    if gray:\n",
    "        im = cv2.cvtColor(im, cv2.COLOR_BGR2GRAY)\n",
    "    else:\n",
    "        im = cv2.cvtColor(im, cv2.COLOR_BGR2RGB)\n",
    "    im = cv2.resize(im,(size, size))\n",
    "    return im"
   ]
  },
  {
   "cell_type": "code",
   "execution_count": 3,
   "metadata": {
    "scrolled": true
   },
   "outputs": [
    {
     "data": {
      "text/html": [
       "<div>\n",
       "<style scoped>\n",
       "    .dataframe tbody tr th:only-of-type {\n",
       "        vertical-align: middle;\n",
       "    }\n",
       "\n",
       "    .dataframe tbody tr th {\n",
       "        vertical-align: top;\n",
       "    }\n",
       "\n",
       "    .dataframe thead th {\n",
       "        text-align: right;\n",
       "    }\n",
       "</style>\n",
       "<table border=\"1\" class=\"dataframe\">\n",
       "  <thead>\n",
       "    <tr style=\"text-align: right;\">\n",
       "      <th></th>\n",
       "      <th>index</th>\n",
       "      <th>filename</th>\n",
       "      <th>label1</th>\n",
       "      <th>label2</th>\n",
       "      <th>label3</th>\n",
       "    </tr>\n",
       "  </thead>\n",
       "  <tbody>\n",
       "    <tr>\n",
       "      <th>0</th>\n",
       "      <td>1</td>\n",
       "      <td>Pia1.2016-10-04.1801+N292_hc.tif</td>\n",
       "      <td>zooplankton</td>\n",
       "      <td>noncopepod</td>\n",
       "      <td>annelida_polychaeta</td>\n",
       "    </tr>\n",
       "    <tr>\n",
       "      <th>1</th>\n",
       "      <td>2</td>\n",
       "      <td>Pia1.2016-10-05.1229+N28_hc.tif</td>\n",
       "      <td>zooplankton</td>\n",
       "      <td>noncopepod</td>\n",
       "      <td>annelida_polychaeta</td>\n",
       "    </tr>\n",
       "    <tr>\n",
       "      <th>2</th>\n",
       "      <td>3</td>\n",
       "      <td>Pia1.2016-10-06.2118+N136_hc.tif</td>\n",
       "      <td>zooplankton</td>\n",
       "      <td>noncopepod</td>\n",
       "      <td>annelida_polychaeta</td>\n",
       "    </tr>\n",
       "    <tr>\n",
       "      <th>3</th>\n",
       "      <td>4</td>\n",
       "      <td>Pia1.2017-03-21.1136+N01644266_hc.tif</td>\n",
       "      <td>zooplankton</td>\n",
       "      <td>noncopepod</td>\n",
       "      <td>annelida_polychaeta</td>\n",
       "    </tr>\n",
       "    <tr>\n",
       "      <th>4</th>\n",
       "      <td>5</td>\n",
       "      <td>Pia1.2017-03-21.1136+N01646706_hc.tif</td>\n",
       "      <td>zooplankton</td>\n",
       "      <td>noncopepod</td>\n",
       "      <td>annelida_polychaeta</td>\n",
       "    </tr>\n",
       "  </tbody>\n",
       "</table>\n",
       "</div>"
      ],
      "text/plain": [
       "   index                               filename       label1      label2  \\\n",
       "0      1       Pia1.2016-10-04.1801+N292_hc.tif  zooplankton  noncopepod   \n",
       "1      2        Pia1.2016-10-05.1229+N28_hc.tif  zooplankton  noncopepod   \n",
       "2      3       Pia1.2016-10-06.2118+N136_hc.tif  zooplankton  noncopepod   \n",
       "3      4  Pia1.2017-03-21.1136+N01644266_hc.tif  zooplankton  noncopepod   \n",
       "4      5  Pia1.2017-03-21.1136+N01646706_hc.tif  zooplankton  noncopepod   \n",
       "\n",
       "                label3  \n",
       "0  annelida_polychaeta  \n",
       "1  annelida_polychaeta  \n",
       "2  annelida_polychaeta  \n",
       "3  annelida_polychaeta  \n",
       "4  annelida_polychaeta  "
      ]
     },
     "execution_count": 3,
     "metadata": {},
     "output_type": "execute_result"
    }
   ],
   "source": [
    "# Set VM data path and read labels file\n",
    "\n",
    "# dataPath = '/scratch/data/images/'\n",
    "dataPath = '/output/data/augment/copepod_calanoida_acartia-spp/'\n",
    "df_ind = pd.read_csv('../../../data/processed/test-train/train.csv')\n",
    "df_ind.head()"
   ]
  },
  {
   "cell_type": "code",
   "execution_count": 4,
   "metadata": {},
   "outputs": [
    {
     "data": {
      "text/plain": [
       "copepod_calanoida_para-pseudocalanus-spp    1790\n",
       "copepod_unknown                             1648\n",
       "copepod_calanoida                           1491\n",
       "copepod_cyclopoida_corycaeus-spp             999\n",
       "copepod_calanoida_centropages-spp            692\n",
       "copepod_cyclopoida_oncaea-spp                630\n",
       "copepod_harpacticoida                        575\n",
       "copepod_cyclopoida_oithona-spp               441\n",
       "copepod_calanoida_acartia-spp                405\n",
       "copepod_calanoida_calanus-spp                311\n",
       "copepod_calanoida_temora-spp                 147\n",
       "copepod_cyclopoida                            88\n",
       "copepod_calanoida_candacia-spp                36\n",
       "Name: label3, dtype: int64"
      ]
     },
     "execution_count": 4,
     "metadata": {},
     "output_type": "execute_result"
    }
   ],
   "source": [
    "df_ind[df_ind['label2']=='copepod']['label3'].value_counts()"
   ]
  },
  {
   "cell_type": "code",
   "execution_count": 5,
   "metadata": {
    "scrolled": true
   },
   "outputs": [
    {
     "data": {
      "text/plain": [
       "['copepod_unknown',\n",
       " 'copepod_calanoida',\n",
       " 'copepod_calanoida_acartia-spp',\n",
       " 'copepod_calanoida_calanus-spp',\n",
       " 'copepod_calanoida_candacia-spp',\n",
       " 'copepod_calanoida_centropages-spp',\n",
       " 'copepod_calanoida_para-pseudocalanus-spp',\n",
       " 'copepod_calanoida_temora-spp',\n",
       " 'copepod_cyclopoida',\n",
       " 'copepod_cyclopoida_corycaeus-spp',\n",
       " 'copepod_cyclopoida_oithona-spp',\n",
       " 'copepod_cyclopoida_oncaea-spp',\n",
       " 'copepod_harpacticoida']"
      ]
     },
     "execution_count": 5,
     "metadata": {},
     "output_type": "execute_result"
    }
   ],
   "source": [
    "df_ind[df_ind['label2']=='copepod']['label3'].unique().tolist()"
   ]
  },
  {
   "cell_type": "markdown",
   "metadata": {},
   "source": [
    "# Sample Images to Augment"
   ]
  },
  {
   "cell_type": "code",
   "execution_count": 6,
   "metadata": {},
   "outputs": [],
   "source": [
    "label = \"copepod_calanoida_acartia-spp\""
   ]
  },
  {
   "cell_type": "code",
   "execution_count": 7,
   "metadata": {},
   "outputs": [
    {
     "name": "stdout",
     "output_type": "stream",
     "text": [
      "2430\n"
     ]
    }
   ],
   "source": [
    "# label_im_list = df_ind[df_ind['label3']==label]['filename'].tolist()\n",
    "\n",
    "label_im_list = os.listdir(dataPath)\n",
    "\n",
    "print(len(label_im_list))"
   ]
  },
  {
   "cell_type": "code",
   "execution_count": 8,
   "metadata": {},
   "outputs": [
    {
     "name": "stdout",
     "output_type": "stream",
     "text": [
      "2431\n"
     ]
    }
   ],
   "source": [
    "savePath = '/shared/jenniferding/plankton_c/' + str(label) + '/' + str(label) + '/'\n",
    "augmentPath = savePath + \"augment/\"\n",
    "\n",
    "if not os.path.exists(savePath):\n",
    "    os.makedirs(savePath)\n",
    "    os.makedirs(augmentPath)\n",
    "\n",
    "for i in sorted(label_im_list):\n",
    "    im = cv2.imread(dataPath + i)\n",
    "    im = preprocess(im, 64, 3, gray=True)\n",
    "    savename = i.replace('.tif', '.png')\n",
    "    cv2.imwrite(savePath+savename, im)\n",
    "    \n",
    "print(len(os.listdir(savePath)))"
   ]
  },
  {
   "cell_type": "markdown",
   "metadata": {},
   "source": [
    "# GANS"
   ]
  },
  {
   "cell_type": "code",
   "execution_count": 9,
   "metadata": {},
   "outputs": [],
   "source": [
    "# Source: https://keras.io/examples/generative/dcgan_overriding_train_step/"
   ]
  },
  {
   "cell_type": "code",
   "execution_count": 10,
   "metadata": {},
   "outputs": [],
   "source": [
    "import tensorflow as tf\n",
    "from tensorflow import keras\n",
    "from tensorflow.keras import layers"
   ]
  },
  {
   "cell_type": "code",
   "execution_count": 11,
   "metadata": {},
   "outputs": [
    {
     "name": "stdout",
     "output_type": "stream",
     "text": [
      "Found 2430 files belonging to 1 classes.\n"
     ]
    }
   ],
   "source": [
    "dataset = keras.preprocessing.image_dataset_from_directory(\n",
    "    \"/shared/jenniferding/plankton_c/\" + str(label), label_mode=None, image_size=(64,64), batch_size=32\n",
    ")\n",
    "dataset = dataset.map(lambda x: x / 255.0) "
   ]
  },
  {
   "cell_type": "code",
   "execution_count": 13,
   "metadata": {},
   "outputs": [
    {
     "data": {
      "image/png": "[encoded data removed]",
      "text/plain": [
       "<Figure size 432x288 with 1 Axes>"
      ]
     },
     "metadata": {
      "needs_background": "light"
     },
     "output_type": "display_data"
    }
   ],
   "source": [
    "for x in dataset:\n",
    "    plt.imshow((x.numpy() * 255).astype(\"int32\")[0])\n",
    "    break"
   ]
  },
  {
   "cell_type": "code",
   "execution_count": 14,
   "metadata": {
    "scrolled": true
   },
   "outputs": [
    {
     "name": "stdout",
     "output_type": "stream",
     "text": [
      "Model: \"discriminator\"\n",
      "_________________________________________________________________\n",
      "Layer (type)                 Output Shape              Param #   \n",
      "=================================================================\n",
      "conv2d (Conv2D)              (None, 32, 32, 64)        3136      \n",
      "_________________________________________________________________\n",
      "leaky_re_lu (LeakyReLU)      (None, 32, 32, 64)        0         \n",
      "_________________________________________________________________\n",
      "conv2d_1 (Conv2D)            (None, 16, 16, 128)       131200    \n",
      "_________________________________________________________________\n",
      "leaky_re_lu_1 (LeakyReLU)    (None, 16, 16, 128)       0         \n",
      "_________________________________________________________________\n",
      "conv2d_2 (Conv2D)            (None, 8, 8, 128)         262272    \n",
      "_________________________________________________________________\n",
      "leaky_re_lu_2 (LeakyReLU)    (None, 8, 8, 128)         0         \n",
      "_________________________________________________________________\n",
      "flatten (Flatten)            (None, 8192)              0         \n",
      "_________________________________________________________________\n",
      "dropout (Dropout)            (None, 8192)              0         \n",
      "_________________________________________________________________\n",
      "dense (Dense)                (None, 1)                 8193      \n",
      "=================================================================\n",
      "Total params: 404,801\n",
      "Trainable params: 404,801\n",
      "Non-trainable params: 0\n",
      "_________________________________________________________________\n"
     ]
    }
   ],
   "source": [
    "discriminator = keras.Sequential(\n",
    "    [\n",
    "        keras.Input(shape=(64, 64, 3)),\n",
    "        layers.Conv2D(64, kernel_size=4, strides=2, padding=\"same\"),\n",
    "        layers.LeakyReLU(alpha=0.2),\n",
    "        layers.Conv2D(128, kernel_size=4, strides=2, padding=\"same\"),\n",
    "        layers.LeakyReLU(alpha=0.2),\n",
    "        layers.Conv2D(128, kernel_size=4, strides=2, padding=\"same\"),\n",
    "        layers.LeakyReLU(alpha=0.2),\n",
    "        layers.Flatten(),\n",
    "        layers.Dropout(0.2),\n",
    "        layers.Dense(1, activation=\"sigmoid\"),\n",
    "    ],\n",
    "    name=\"discriminator\",\n",
    ")\n",
    "discriminator.summary()"
   ]
  },
  {
   "cell_type": "code",
   "execution_count": 15,
   "metadata": {
    "scrolled": true
   },
   "outputs": [
    {
     "name": "stdout",
     "output_type": "stream",
     "text": [
      "Model: \"generator\"\n",
      "_________________________________________________________________\n",
      "Layer (type)                 Output Shape              Param #   \n",
      "=================================================================\n",
      "dense_1 (Dense)              (None, 8192)              1056768   \n",
      "_________________________________________________________________\n",
      "reshape (Reshape)            (None, 8, 8, 128)         0         \n",
      "_________________________________________________________________\n",
      "conv2d_transpose (Conv2DTran (None, 16, 16, 128)       262272    \n",
      "_________________________________________________________________\n",
      "leaky_re_lu_3 (LeakyReLU)    (None, 16, 16, 128)       0         \n",
      "_________________________________________________________________\n",
      "conv2d_transpose_1 (Conv2DTr (None, 32, 32, 256)       524544    \n",
      "_________________________________________________________________\n",
      "leaky_re_lu_4 (LeakyReLU)    (None, 32, 32, 256)       0         \n",
      "_________________________________________________________________\n",
      "conv2d_transpose_2 (Conv2DTr (None, 64, 64, 512)       2097664   \n",
      "_________________________________________________________________\n",
      "leaky_re_lu_5 (LeakyReLU)    (None, 64, 64, 512)       0         \n",
      "_________________________________________________________________\n",
      "conv2d_3 (Conv2D)            (None, 64, 64, 3)         38403     \n",
      "=================================================================\n",
      "Total params: 3,979,651\n",
      "Trainable params: 3,979,651\n",
      "Non-trainable params: 0\n",
      "_________________________________________________________________\n"
     ]
    }
   ],
   "source": [
    "latent_dim = 128\n",
    "\n",
    "generator = keras.Sequential(\n",
    "    [\n",
    "        keras.Input(shape=(latent_dim,)),\n",
    "        layers.Dense(8 * 8 * 128),\n",
    "        layers.Reshape((8, 8, 128)),\n",
    "        layers.Conv2DTranspose(128, kernel_size=4, strides=2, padding=\"same\"),\n",
    "        layers.LeakyReLU(alpha=0.2),\n",
    "        layers.Conv2DTranspose(256, kernel_size=4, strides=2, padding=\"same\"),\n",
    "        layers.LeakyReLU(alpha=0.2),\n",
    "        layers.Conv2DTranspose(512, kernel_size=4, strides=2, padding=\"same\"),\n",
    "        layers.LeakyReLU(alpha=0.2),\n",
    "        layers.Conv2D(3, kernel_size=5, padding=\"same\", activation=\"sigmoid\"),\n",
    "    ],\n",
    "    name=\"generator\",\n",
    ")\n",
    "generator.summary()"
   ]
  },
  {
   "cell_type": "code",
   "execution_count": 16,
   "metadata": {},
   "outputs": [],
   "source": [
    "class GAN(keras.Model):\n",
    "    def __init__(self, discriminator, generator, latent_dim):\n",
    "        super(GAN, self).__init__()\n",
    "        self.discriminator = discriminator\n",
    "        self.generator = generator\n",
    "        self.latent_dim = latent_dim\n",
    "\n",
    "    def compile(self, d_optimizer, g_optimizer, loss_fn):\n",
    "        super(GAN, self).compile()\n",
    "        self.d_optimizer = d_optimizer\n",
    "        self.g_optimizer = g_optimizer\n",
    "        self.loss_fn = loss_fn\n",
    "        self.d_loss_metric = keras.metrics.Mean(name=\"d_loss\")\n",
    "        self.g_loss_metric = keras.metrics.Mean(name=\"g_loss\")\n",
    "\n",
    "    @property\n",
    "    def metrics(self):\n",
    "        return [self.d_loss_metric, self.g_loss_metric]\n",
    "\n",
    "    def train_step(self, real_images):\n",
    "        # Sample random points in the latent space\n",
    "        batch_size = tf.shape(real_images)[0]\n",
    "        random_latent_vectors = tf.random.normal(shape=(batch_size, self.latent_dim))\n",
    "\n",
    "        # Decode them to fake images\n",
    "        generated_images = self.generator(random_latent_vectors)\n",
    "\n",
    "        # Combine them with real images\n",
    "        combined_images = tf.concat([generated_images, real_images], axis=0)\n",
    "\n",
    "        # Assemble labels discriminating real from fake images\n",
    "        labels = tf.concat(\n",
    "            [tf.ones((batch_size, 1)), tf.zeros((batch_size, 1))], axis=0\n",
    "        )\n",
    "        # Add random noise to the labels - important trick!\n",
    "        labels += 0.05 * tf.random.uniform(tf.shape(labels))\n",
    "\n",
    "        # Train the discriminator\n",
    "        with tf.GradientTape() as tape:\n",
    "            predictions = self.discriminator(combined_images)\n",
    "            d_loss = self.loss_fn(labels, predictions)\n",
    "        grads = tape.gradient(d_loss, self.discriminator.trainable_weights)\n",
    "        self.d_optimizer.apply_gradients(\n",
    "            zip(grads, self.discriminator.trainable_weights)\n",
    "        )\n",
    "\n",
    "        # Sample random points in the latent space\n",
    "        random_latent_vectors = tf.random.normal(shape=(batch_size, self.latent_dim))\n",
    "\n",
    "        # Assemble labels that say \"all real images\"\n",
    "        misleading_labels = tf.zeros((batch_size, 1))\n",
    "\n",
    "        # Train the generator (note that we should *not* update the weights\n",
    "        # of the discriminator)!\n",
    "        with tf.GradientTape() as tape:\n",
    "            predictions = self.discriminator(self.generator(random_latent_vectors))\n",
    "            g_loss = self.loss_fn(misleading_labels, predictions)\n",
    "        grads = tape.gradient(g_loss, self.generator.trainable_weights)\n",
    "        self.g_optimizer.apply_gradients(zip(grads, self.generator.trainable_weights))\n",
    "\n",
    "        # Update metrics\n",
    "        self.d_loss_metric.update_state(d_loss)\n",
    "        self.g_loss_metric.update_state(g_loss)\n",
    "        return {\n",
    "            \"d_loss\": self.d_loss_metric.result(),\n",
    "            \"g_loss\": self.g_loss_metric.result(),\n",
    "        }"
   ]
  },
  {
   "cell_type": "code",
   "execution_count": 17,
   "metadata": {},
   "outputs": [],
   "source": [
    "class GANMonitor(keras.callbacks.Callback):\n",
    "    def __init__(self, num_img=3, latent_dim=128):\n",
    "        self.num_img = num_img\n",
    "        self.latent_dim = latent_dim\n",
    "\n",
    "    def on_epoch_end(self, epoch, logs=None):\n",
    "        random_latent_vectors = tf.random.normal(shape=(self.num_img, self.latent_dim))\n",
    "        generated_images = self.model.generator(random_latent_vectors)\n",
    "        generated_images *= 255\n",
    "        generated_images.numpy()\n",
    "        for i in range(self.num_img):\n",
    "            img = keras.preprocessing.image.array_to_img(generated_images[i])\n",
    "            img.save(augmentPath+\"generated_img_%03d_%d.png\" % (epoch, i))\n"
   ]
  },
  {
   "cell_type": "code",
   "execution_count": 18,
   "metadata": {
    "scrolled": true
   },
   "outputs": [
    {
     "name": "stdout",
     "output_type": "stream",
     "text": [
      "Epoch 1/50\n",
      "76/76 [==============================] - 481s 6s/step - d_loss: 0.5166 - g_loss: 0.9416\n",
      "Epoch 2/50\n",
      "76/76 [==============================] - 486s 6s/step - d_loss: 1.0009 - g_loss: 0.7746\n",
      "Epoch 3/50\n",
      "76/76 [==============================] - 483s 6s/step - d_loss: 0.4396 - g_loss: 1.5045\n",
      "Epoch 4/50\n",
      "76/76 [==============================] - 486s 6s/step - d_loss: 0.5257 - g_loss: 1.1118\n",
      "Epoch 5/50\n",
      "76/76 [==============================] - 488s 6s/step - d_loss: 0.4448 - g_loss: 1.6695\n",
      "Epoch 6/50\n",
      "76/76 [==============================] - 487s 6s/step - d_loss: 0.5438 - g_loss: 1.5660\n",
      "Epoch 7/50\n",
      "76/76 [==============================] - 482s 6s/step - d_loss: 0.6612 - g_loss: 1.8310\n",
      "Epoch 8/50\n",
      "76/76 [==============================] - 488s 6s/step - d_loss: 0.5358 - g_loss: 4.2111\n",
      "Epoch 9/50\n",
      "76/76 [==============================] - 486s 6s/step - d_loss: 0.7564 - g_loss: 0.8573\n",
      "Epoch 10/50\n",
      "76/76 [==============================] - 487s 6s/step - d_loss: 0.6750 - g_loss: 0.9380\n",
      "Epoch 11/50\n",
      "76/76 [==============================] - 492s 6s/step - d_loss: 0.7270 - g_loss: 0.8946\n",
      "Epoch 12/50\n",
      "76/76 [==============================] - 492s 6s/step - d_loss: 0.5781 - g_loss: 1.1421\n",
      "Epoch 13/50\n",
      "76/76 [==============================] - 495s 6s/step - d_loss: 0.6340 - g_loss: 1.1468\n",
      "Epoch 14/50\n",
      "76/76 [==============================] - 494s 6s/step - d_loss: 0.3673 - g_loss: 1.6379\n",
      "Epoch 15/50\n",
      "76/76 [==============================] - 497s 7s/step - d_loss: 0.7466 - g_loss: 1.0167\n",
      "Epoch 16/50\n",
      "76/76 [==============================] - 497s 7s/step - d_loss: 0.6134 - g_loss: 1.0933\n",
      "Epoch 17/50\n",
      "76/76 [==============================] - 501s 7s/step - d_loss: 0.7186 - g_loss: 1.2226\n",
      "Epoch 18/50\n",
      "76/76 [==============================] - 502s 7s/step - d_loss: 0.2101 - g_loss: 3.3370\n",
      "Epoch 19/50\n",
      "76/76 [==============================] - 507s 7s/step - d_loss: 0.8747 - g_loss: 0.9518\n",
      "Epoch 20/50\n",
      "76/76 [==============================] - 498s 7s/step - d_loss: 0.6847 - g_loss: 1.0335\n",
      "Epoch 21/50\n",
      "76/76 [==============================] - 501s 7s/step - d_loss: 0.3839 - g_loss: 1.4162\n",
      "Epoch 22/50\n",
      "76/76 [==============================] - 501s 7s/step - d_loss: 0.1752 - g_loss: 2.3865\n",
      "Epoch 23/50\n",
      "76/76 [==============================] - 504s 7s/step - d_loss: 0.2906 - g_loss: 2.7913\n",
      "Epoch 24/50\n",
      "76/76 [==============================] - 496s 7s/step - d_loss: 0.3095 - g_loss: 3.1507\n",
      "Epoch 25/50\n",
      "76/76 [==============================] - 489s 6s/step - d_loss: 0.7831 - g_loss: 1.0900\n",
      "Epoch 26/50\n",
      "76/76 [==============================] - 486s 6s/step - d_loss: 0.6169 - g_loss: 2.4362\n",
      "Epoch 27/50\n",
      "76/76 [==============================] - 488s 6s/step - d_loss: 0.6523 - g_loss: 0.9598\n",
      "Epoch 28/50\n",
      "76/76 [==============================] - 505s 7s/step - d_loss: 0.2930 - g_loss: 2.0183\n",
      "Epoch 29/50\n",
      "76/76 [==============================] - 499s 7s/step - d_loss: 0.4487 - g_loss: 1.6942\n",
      "Epoch 30/50\n",
      "76/76 [==============================] - 502s 7s/step - d_loss: 0.4408 - g_loss: 1.3695\n",
      "Epoch 31/50\n",
      "76/76 [==============================] - 499s 7s/step - d_loss: 0.5546 - g_loss: 1.2701\n",
      "Epoch 32/50\n",
      "76/76 [==============================] - 495s 6s/step - d_loss: 0.5926 - g_loss: 1.0812\n",
      "Epoch 33/50\n",
      "76/76 [==============================] - 498s 7s/step - d_loss: 0.6194 - g_loss: 0.9102\n",
      "Epoch 34/50\n",
      "76/76 [==============================] - 494s 6s/step - d_loss: 0.6494 - g_loss: 0.9169\n",
      "Epoch 35/50\n",
      "76/76 [==============================] - 493s 6s/step - d_loss: 0.7647 - g_loss: 0.7814\n",
      "Epoch 36/50\n",
      "76/76 [==============================] - 492s 6s/step - d_loss: 0.6131 - g_loss: 0.9675\n",
      "Epoch 37/50\n",
      "76/76 [==============================] - 490s 6s/step - d_loss: 0.7167 - g_loss: 0.8165\n",
      "Epoch 38/50\n",
      "76/76 [==============================] - 490s 6s/step - d_loss: 0.6596 - g_loss: 0.9083\n",
      "Epoch 39/50\n",
      "76/76 [==============================] - 489s 6s/step - d_loss: 0.5370 - g_loss: 1.2373\n",
      "Epoch 40/50\n",
      "76/76 [==============================] - 487s 6s/step - d_loss: 0.7093 - g_loss: 0.9627\n",
      "Epoch 41/50\n",
      "76/76 [==============================] - 494s 6s/step - d_loss: 0.6767 - g_loss: 0.8731\n",
      "Epoch 42/50\n",
      "76/76 [==============================] - 494s 6s/step - d_loss: 0.6586 - g_loss: 0.8874\n",
      "Epoch 43/50\n",
      "76/76 [==============================] - 493s 6s/step - d_loss: 0.6904 - g_loss: 0.7862\n",
      "Epoch 44/50\n",
      "76/76 [==============================] - 494s 6s/step - d_loss: 0.7411 - g_loss: 0.7218\n",
      "Epoch 45/50\n",
      "76/76 [==============================] - 496s 6s/step - d_loss: 0.6595 - g_loss: 0.9350\n",
      "Epoch 46/50\n",
      "76/76 [==============================] - 490s 6s/step - d_loss: 0.7341 - g_loss: 0.8287\n",
      "Epoch 47/50\n",
      "76/76 [==============================] - 489s 6s/step - d_loss: 0.7124 - g_loss: 0.7963\n",
      "Epoch 48/50\n",
      "76/76 [==============================] - 499s 7s/step - d_loss: 0.7288 - g_loss: 0.7608\n",
      "Epoch 49/50\n",
      "76/76 [==============================] - 505s 7s/step - d_loss: 0.6518 - g_loss: 0.8881\n",
      "Epoch 50/50\n",
      "76/76 [==============================] - 508s 7s/step - d_loss: 0.7379 - g_loss: 0.7346\n"
     ]
    },
    {
     "data": {
      "text/plain": [
       "<tensorflow.python.keras.callbacks.History at 0x7fd76c27c220>"
      ]
     },
     "execution_count": 18,
     "metadata": {},
     "output_type": "execute_result"
    }
   ],
   "source": [
    "epochs = 50  # In practice, use ~100 epochs\n",
    "\n",
    "gan = GAN(discriminator=discriminator, generator=generator, latent_dim=latent_dim)\n",
    "gan.compile(\n",
    "    d_optimizer=keras.optimizers.Adam(learning_rate=0.0001),\n",
    "    g_optimizer=keras.optimizers.Adam(learning_rate=0.0001),\n",
    "    loss_fn=keras.losses.BinaryCrossentropy(),\n",
    ")\n",
    "\n",
    "gan.fit(\n",
    "    dataset, epochs=epochs, callbacks=[GANMonitor(num_img=5, latent_dim=latent_dim)]\n",
    ")"
   ]
  }
 ],
 "metadata": {
  "kernelspec": {
   "display_name": "Python (scivis-plankton)",
   "language": "python",
   "name": "scivis-plankton"
  },
  "language_info": {
   "codemirror_mode": {
    "name": "ipython",
    "version": 3
   },
   "file_extension": ".py",
   "mimetype": "text/x-python",
   "name": "python",
   "nbconvert_exporter": "python",
   "pygments_lexer": "ipython3",
   "version": "3.8.8"
  }
 },
 "nbformat": 4,
 "nbformat_minor": 2
}
