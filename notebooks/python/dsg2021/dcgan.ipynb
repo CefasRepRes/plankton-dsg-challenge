{
 "cells": [
  {
   "cell_type": "code",
   "execution_count": 1,
   "metadata": {},
   "outputs": [],
   "source": [
    "import cv2, os\n",
    "import numpy as np\n",
    "import pandas as pd\n",
    "import matplotlib.pyplot as plt"
   ]
  },
  {
   "cell_type": "code",
   "execution_count": 2,
   "metadata": {
    "scrolled": true
   },
   "outputs": [],
   "source": [
    "# check for image overlaps in two classes\n",
    "def intersection(lst1, lst2):\n",
    "    return list(set(lst1) & set(lst2))\n",
    "\n",
    "def preprocess(im, size, blur, gray=True):\n",
    "#     im = cv2.GaussianBlur(im, (blur, blur),0)\n",
    "    if gray:\n",
    "        im = cv2.cvtColor(im, cv2.COLOR_BGR2GRAY)\n",
    "    else:\n",
    "        im = cv2.cvtColor(im, cv2.COLOR_BGR2RGB)\n",
    "    im = cv2.resize(im,(size, size))\n",
    "    return im"
   ]
  },
  {
   "cell_type": "code",
   "execution_count": 3,
   "metadata": {
    "scrolled": true
   },
   "outputs": [
    {
     "data": {
      "text/html": [
       "<div>\n",
       "<style scoped>\n",
       "    .dataframe tbody tr th:only-of-type {\n",
       "        vertical-align: middle;\n",
       "    }\n",
       "\n",
       "    .dataframe tbody tr th {\n",
       "        vertical-align: top;\n",
       "    }\n",
       "\n",
       "    .dataframe thead th {\n",
       "        text-align: right;\n",
       "    }\n",
       "</style>\n",
       "<table border=\"1\" class=\"dataframe\">\n",
       "  <thead>\n",
       "    <tr style=\"text-align: right;\">\n",
       "      <th></th>\n",
       "      <th>index</th>\n",
       "      <th>filename</th>\n",
       "      <th>label1</th>\n",
       "      <th>label2</th>\n",
       "      <th>label3</th>\n",
       "    </tr>\n",
       "  </thead>\n",
       "  <tbody>\n",
       "    <tr>\n",
       "      <th>0</th>\n",
       "      <td>1</td>\n",
       "      <td>Pia1.2016-10-04.1801+N292_hc.tif</td>\n",
       "      <td>zooplankton</td>\n",
       "      <td>noncopepod</td>\n",
       "      <td>annelida_polychaeta</td>\n",
       "    </tr>\n",
       "    <tr>\n",
       "      <th>1</th>\n",
       "      <td>2</td>\n",
       "      <td>Pia1.2016-10-05.1229+N28_hc.tif</td>\n",
       "      <td>zooplankton</td>\n",
       "      <td>noncopepod</td>\n",
       "      <td>annelida_polychaeta</td>\n",
       "    </tr>\n",
       "    <tr>\n",
       "      <th>2</th>\n",
       "      <td>3</td>\n",
       "      <td>Pia1.2016-10-06.2118+N136_hc.tif</td>\n",
       "      <td>zooplankton</td>\n",
       "      <td>noncopepod</td>\n",
       "      <td>annelida_polychaeta</td>\n",
       "    </tr>\n",
       "    <tr>\n",
       "      <th>3</th>\n",
       "      <td>4</td>\n",
       "      <td>Pia1.2017-03-21.1136+N01644266_hc.tif</td>\n",
       "      <td>zooplankton</td>\n",
       "      <td>noncopepod</td>\n",
       "      <td>annelida_polychaeta</td>\n",
       "    </tr>\n",
       "    <tr>\n",
       "      <th>4</th>\n",
       "      <td>5</td>\n",
       "      <td>Pia1.2017-03-21.1136+N01646706_hc.tif</td>\n",
       "      <td>zooplankton</td>\n",
       "      <td>noncopepod</td>\n",
       "      <td>annelida_polychaeta</td>\n",
       "    </tr>\n",
       "  </tbody>\n",
       "</table>\n",
       "</div>"
      ],
      "text/plain": [
       "   index                               filename       label1      label2  \\\n",
       "0      1       Pia1.2016-10-04.1801+N292_hc.tif  zooplankton  noncopepod   \n",
       "1      2        Pia1.2016-10-05.1229+N28_hc.tif  zooplankton  noncopepod   \n",
       "2      3       Pia1.2016-10-06.2118+N136_hc.tif  zooplankton  noncopepod   \n",
       "3      4  Pia1.2017-03-21.1136+N01644266_hc.tif  zooplankton  noncopepod   \n",
       "4      5  Pia1.2017-03-21.1136+N01646706_hc.tif  zooplankton  noncopepod   \n",
       "\n",
       "                label3  \n",
       "0  annelida_polychaeta  \n",
       "1  annelida_polychaeta  \n",
       "2  annelida_polychaeta  \n",
       "3  annelida_polychaeta  \n",
       "4  annelida_polychaeta  "
      ]
     },
     "execution_count": 3,
     "metadata": {},
     "output_type": "execute_result"
    }
   ],
   "source": [
    "# Set VM data path and read labels file\n",
    "\n",
    "dataPath = '/scratch/data/images/'\n",
    "df_ind = pd.read_csv('../../../data/processed/test-train/train.csv')\n",
    "df_ind.head()"
   ]
  },
  {
   "cell_type": "markdown",
   "metadata": {},
   "source": [
    "# Sample Images to Augment"
   ]
  },
  {
   "cell_type": "code",
   "execution_count": 4,
   "metadata": {},
   "outputs": [
    {
     "data": {
      "text/plain": [
       "detritus      36000\n",
       "copepod        9253\n",
       "noncopepod     6056\n",
       "Name: label2, dtype: int64"
      ]
     },
     "execution_count": 4,
     "metadata": {},
     "output_type": "execute_result"
    }
   ],
   "source": [
    "df_ind['label2'].value_counts()"
   ]
  },
  {
   "cell_type": "code",
   "execution_count": 5,
   "metadata": {},
   "outputs": [
    {
     "name": "stdout",
     "output_type": "stream",
     "text": [
      "9253 6056\n",
      "[]\n"
     ]
    }
   ],
   "source": [
    "cop_im_list = df_ind[df_ind['label2']=='copepod']['filename'].tolist()\n",
    "noncop_im_list = df_ind[df_ind['label2']=='noncopepod']['filename'].tolist()\n",
    "\n",
    "print(len(cop_im_list), len(noncop_im_list))\n",
    "print(intersection(cop_im_list, noncop_im_list))"
   ]
  },
  {
   "cell_type": "code",
   "execution_count": 6,
   "metadata": {},
   "outputs": [
    {
     "name": "stdout",
     "output_type": "stream",
     "text": [
      "9254\n"
     ]
    }
   ],
   "source": [
    "savePath = '/shared/jenniferding/plankton_c/all_cop/all_cop/'\n",
    "augmentPath = savePath + \"augment/\"\n",
    "\n",
    "n = len(cop_im_list)\n",
    "\n",
    "for i in sorted(cop_im_list)[:n]:\n",
    "    im = cv2.imread(dataPath + i)\n",
    "    im = preprocess(im, 64, 3, gray=True)\n",
    "    savename = i.replace('.tif', '.png')\n",
    "    cv2.imwrite(savePath+savename, im)\n",
    "    \n",
    "print(len(os.listdir(savePath)))"
   ]
  },
  {
   "cell_type": "markdown",
   "metadata": {},
   "source": [
    "# GANS"
   ]
  },
  {
   "cell_type": "code",
   "execution_count": 7,
   "metadata": {},
   "outputs": [],
   "source": [
    "# Source: https://keras.io/examples/generative/dcgan_overriding_train_step/"
   ]
  },
  {
   "cell_type": "code",
   "execution_count": 8,
   "metadata": {},
   "outputs": [],
   "source": [
    "import tensorflow as tf\n",
    "from tensorflow import keras\n",
    "from tensorflow.keras import layers"
   ]
  },
  {
   "cell_type": "code",
   "execution_count": 9,
   "metadata": {},
   "outputs": [
    {
     "name": "stdout",
     "output_type": "stream",
     "text": [
      "Found 9253 files belonging to 1 classes.\n"
     ]
    }
   ],
   "source": [
    "dataset = keras.preprocessing.image_dataset_from_directory(\n",
    "    \"/shared/jenniferding/plankton_c/all_cop/\", label_mode=None, image_size=(64,64), batch_size=32\n",
    ")\n",
    "dataset = dataset.map(lambda x: x / 255.0) "
   ]
  },
  {
   "cell_type": "code",
   "execution_count": 11,
   "metadata": {},
   "outputs": [
    {
     "data": {
      "image/png": "[encoded data removed]",
      "text/plain": [
       "<Figure size 432x288 with 1 Axes>"
      ]
     },
     "metadata": {
      "needs_background": "light"
     },
     "output_type": "display_data"
    }
   ],
   "source": [
    "for x in dataset:\n",
    "    plt.imshow((x.numpy() * 255).astype(\"int32\")[0])\n",
    "    break"
   ]
  },
  {
   "cell_type": "code",
   "execution_count": 12,
   "metadata": {
    "scrolled": true
   },
   "outputs": [
    {
     "name": "stdout",
     "output_type": "stream",
     "text": [
      "Model: \"discriminator\"\n",
      "_________________________________________________________________\n",
      "Layer (type)                 Output Shape              Param #   \n",
      "=================================================================\n",
      "conv2d (Conv2D)              (None, 32, 32, 64)        3136      \n",
      "_________________________________________________________________\n",
      "leaky_re_lu (LeakyReLU)      (None, 32, 32, 64)        0         \n",
      "_________________________________________________________________\n",
      "conv2d_1 (Conv2D)            (None, 16, 16, 128)       131200    \n",
      "_________________________________________________________________\n",
      "leaky_re_lu_1 (LeakyReLU)    (None, 16, 16, 128)       0         \n",
      "_________________________________________________________________\n",
      "conv2d_2 (Conv2D)            (None, 8, 8, 128)         262272    \n",
      "_________________________________________________________________\n",
      "leaky_re_lu_2 (LeakyReLU)    (None, 8, 8, 128)         0         \n",
      "_________________________________________________________________\n",
      "flatten (Flatten)            (None, 8192)              0         \n",
      "_________________________________________________________________\n",
      "dropout (Dropout)            (None, 8192)              0         \n",
      "_________________________________________________________________\n",
      "dense (Dense)                (None, 1)                 8193      \n",
      "=================================================================\n",
      "Total params: 404,801\n",
      "Trainable params: 404,801\n",
      "Non-trainable params: 0\n",
      "_________________________________________________________________\n"
     ]
    }
   ],
   "source": [
    "discriminator = keras.Sequential(\n",
    "    [\n",
    "        keras.Input(shape=(64,64,3)),\n",
    "        layers.Conv2D(64, kernel_size=4, strides=2, padding=\"same\"),\n",
    "        layers.LeakyReLU(alpha=0.2),\n",
    "        layers.Conv2D(128, kernel_size=4, strides=2, padding=\"same\"),\n",
    "        layers.LeakyReLU(alpha=0.2),\n",
    "        layers.Conv2D(128, kernel_size=4, strides=2, padding=\"same\"),\n",
    "        layers.LeakyReLU(alpha=0.2),\n",
    "        layers.Flatten(),\n",
    "        layers.Dropout(0.2),\n",
    "        layers.Dense(1, activation=\"sigmoid\"),\n",
    "    ],\n",
    "    name=\"discriminator\",\n",
    ")\n",
    "discriminator.summary()"
   ]
  },
  {
   "cell_type": "code",
   "execution_count": 13,
   "metadata": {
    "scrolled": false
   },
   "outputs": [
    {
     "name": "stdout",
     "output_type": "stream",
     "text": [
      "Model: \"generator\"\n",
      "_________________________________________________________________\n",
      "Layer (type)                 Output Shape              Param #   \n",
      "=================================================================\n",
      "dense_1 (Dense)              (None, 8192)              1056768   \n",
      "_________________________________________________________________\n",
      "reshape (Reshape)            (None, 8, 8, 128)         0         \n",
      "_________________________________________________________________\n",
      "conv2d_transpose (Conv2DTran (None, 16, 16, 128)       262272    \n",
      "_________________________________________________________________\n",
      "leaky_re_lu_3 (LeakyReLU)    (None, 16, 16, 128)       0         \n",
      "_________________________________________________________________\n",
      "conv2d_transpose_1 (Conv2DTr (None, 32, 32, 256)       524544    \n",
      "_________________________________________________________________\n",
      "leaky_re_lu_4 (LeakyReLU)    (None, 32, 32, 256)       0         \n",
      "_________________________________________________________________\n",
      "conv2d_transpose_2 (Conv2DTr (None, 64, 64, 512)       2097664   \n",
      "_________________________________________________________________\n",
      "leaky_re_lu_5 (LeakyReLU)    (None, 64, 64, 512)       0         \n",
      "_________________________________________________________________\n",
      "conv2d_3 (Conv2D)            (None, 64, 64, 3)         38403     \n",
      "=================================================================\n",
      "Total params: 3,979,651\n",
      "Trainable params: 3,979,651\n",
      "Non-trainable params: 0\n",
      "_________________________________________________________________\n"
     ]
    }
   ],
   "source": [
    "latent_dim = 128\n",
    "\n",
    "generator = keras.Sequential(\n",
    "    [\n",
    "        keras.Input(shape=(latent_dim,)),\n",
    "        layers.Dense(8 * 8 * 128),\n",
    "        layers.Reshape((8, 8, 128)),\n",
    "        layers.Conv2DTranspose(128, kernel_size=4, strides=2, padding=\"same\"),\n",
    "        layers.LeakyReLU(alpha=0.2),\n",
    "        layers.Conv2DTranspose(256, kernel_size=4, strides=2, padding=\"same\"),\n",
    "        layers.LeakyReLU(alpha=0.2),\n",
    "        layers.Conv2DTranspose(512, kernel_size=4, strides=2, padding=\"same\"),\n",
    "        layers.LeakyReLU(alpha=0.2),\n",
    "        layers.Conv2D(3, kernel_size=5, padding=\"same\", activation=\"sigmoid\"),\n",
    "    ],\n",
    "    name=\"generator\",\n",
    ")\n",
    "generator.summary()"
   ]
  },
  {
   "cell_type": "code",
   "execution_count": 14,
   "metadata": {},
   "outputs": [],
   "source": [
    "class GAN(keras.Model):\n",
    "    def __init__(self, discriminator, generator, latent_dim):\n",
    "        super(GAN, self).__init__()\n",
    "        self.discriminator = discriminator\n",
    "        self.generator = generator\n",
    "        self.latent_dim = latent_dim\n",
    "\n",
    "    def compile(self, d_optimizer, g_optimizer, loss_fn):\n",
    "        super(GAN, self).compile()\n",
    "        self.d_optimizer = d_optimizer\n",
    "        self.g_optimizer = g_optimizer\n",
    "        self.loss_fn = loss_fn\n",
    "        self.d_loss_metric = keras.metrics.Mean(name=\"d_loss\")\n",
    "        self.g_loss_metric = keras.metrics.Mean(name=\"g_loss\")\n",
    "\n",
    "    @property\n",
    "    def metrics(self):\n",
    "        return [self.d_loss_metric, self.g_loss_metric]\n",
    "\n",
    "    def train_step(self, real_images):\n",
    "        # Sample random points in the latent space\n",
    "        batch_size = tf.shape(real_images)[0]\n",
    "        random_latent_vectors = tf.random.normal(shape=(batch_size, self.latent_dim))\n",
    "\n",
    "        # Decode them to fake images\n",
    "        generated_images = self.generator(random_latent_vectors)\n",
    "\n",
    "        # Combine them with real images\n",
    "        combined_images = tf.concat([generated_images, real_images], axis=0)\n",
    "\n",
    "        # Assemble labels discriminating real from fake images\n",
    "        labels = tf.concat(\n",
    "            [tf.ones((batch_size, 1)), tf.zeros((batch_size, 1))], axis=0\n",
    "        )\n",
    "        # Add random noise to the labels - important trick!\n",
    "        labels += 0.05 * tf.random.uniform(tf.shape(labels))\n",
    "\n",
    "        # Train the discriminator\n",
    "        with tf.GradientTape() as tape:\n",
    "            predictions = self.discriminator(combined_images)\n",
    "            d_loss = self.loss_fn(labels, predictions)\n",
    "        grads = tape.gradient(d_loss, self.discriminator.trainable_weights)\n",
    "        self.d_optimizer.apply_gradients(\n",
    "            zip(grads, self.discriminator.trainable_weights)\n",
    "        )\n",
    "\n",
    "        # Sample random points in the latent space\n",
    "        random_latent_vectors = tf.random.normal(shape=(batch_size, self.latent_dim))\n",
    "\n",
    "        # Assemble labels that say \"all real images\"\n",
    "        misleading_labels = tf.zeros((batch_size, 1))\n",
    "\n",
    "        # Train the generator (note that we should *not* update the weights\n",
    "        # of the discriminator)!\n",
    "        with tf.GradientTape() as tape:\n",
    "            predictions = self.discriminator(self.generator(random_latent_vectors))\n",
    "            g_loss = self.loss_fn(misleading_labels, predictions)\n",
    "        grads = tape.gradient(g_loss, self.generator.trainable_weights)\n",
    "        self.g_optimizer.apply_gradients(zip(grads, self.generator.trainable_weights))\n",
    "\n",
    "        # Update metrics\n",
    "        self.d_loss_metric.update_state(d_loss)\n",
    "        self.g_loss_metric.update_state(g_loss)\n",
    "        return {\n",
    "            \"d_loss\": self.d_loss_metric.result(),\n",
    "            \"g_loss\": self.g_loss_metric.result(),\n",
    "        }"
   ]
  },
  {
   "cell_type": "code",
   "execution_count": 15,
   "metadata": {},
   "outputs": [],
   "source": [
    "class GANMonitor(keras.callbacks.Callback):\n",
    "    def __init__(self, num_img=3, latent_dim=128):\n",
    "        self.num_img = num_img\n",
    "        self.latent_dim = latent_dim\n",
    "\n",
    "    def on_epoch_end(self, epoch, logs=None):\n",
    "        random_latent_vectors = tf.random.normal(shape=(self.num_img, self.latent_dim))\n",
    "        generated_images = self.model.generator(random_latent_vectors)\n",
    "        generated_images *= 255\n",
    "        generated_images.numpy()\n",
    "        for i in range(self.num_img):\n",
    "            img = keras.preprocessing.image.array_to_img(generated_images[i])\n",
    "            img.save(augmentPath+\"generated_img_%03d_%d.png\" % (epoch, i))\n"
   ]
  },
  {
   "cell_type": "code",
   "execution_count": 18,
   "metadata": {
    "scrolled": true
   },
   "outputs": [
    {
     "name": "stdout",
     "output_type": "stream",
     "text": [
      "Epoch 1/50\n",
      "290/290 [==============================] - 1286s 4s/step - d_loss: 0.6924 - g_loss: 1.0399\n",
      "Epoch 2/50\n",
      "290/290 [==============================] - 1276s 4s/step - d_loss: 0.5920 - g_loss: 1.1322\n",
      "Epoch 3/50\n",
      "290/290 [==============================] - 1306s 4s/step - d_loss: 0.6420 - g_loss: 1.0041\n",
      "Epoch 4/50\n",
      "290/290 [==============================] - 1282s 4s/step - d_loss: 0.5844 - g_loss: 1.2805\n",
      "Epoch 5/50\n",
      "290/290 [==============================] - 1299s 4s/step - d_loss: 0.6442 - g_loss: 0.9805\n",
      "Epoch 6/50\n",
      "290/290 [==============================] - 1297s 4s/step - d_loss: 0.6842 - g_loss: 1.4341\n",
      "Epoch 7/50\n",
      "290/290 [==============================] - 1302s 4s/step - d_loss: 0.5824 - g_loss: 1.4492\n",
      "Epoch 8/50\n",
      "290/290 [==============================] - 1301s 4s/step - d_loss: 0.7683 - g_loss: 0.8417\n",
      "Epoch 9/50\n",
      "290/290 [==============================] - 1264s 4s/step - d_loss: 0.6757 - g_loss: 0.9589\n",
      "Epoch 10/50\n",
      "290/290 [==============================] - 1265s 4s/step - d_loss: 0.7372 - g_loss: 0.7942\n",
      "Epoch 11/50\n",
      "290/290 [==============================] - 1277s 4s/step - d_loss: 0.6956 - g_loss: 0.8319\n",
      "Epoch 12/50\n",
      "290/290 [==============================] - 1271s 4s/step - d_loss: 0.7063 - g_loss: 0.8401\n",
      "Epoch 13/50\n",
      "290/290 [==============================] - 1276s 4s/step - d_loss: 0.7319 - g_loss: 0.7843\n",
      "Epoch 14/50\n",
      "290/290 [==============================] - 1266s 4s/step - d_loss: 0.6982 - g_loss: 0.8387\n",
      "Epoch 15/50\n",
      "290/290 [==============================] - 1547s 5s/step - d_loss: 0.6968 - g_loss: 0.8183\n",
      "Epoch 16/50\n",
      "290/290 [==============================] - 1824s 6s/step - d_loss: 0.7035 - g_loss: 0.8070\n",
      "Epoch 17/50\n",
      "290/290 [==============================] - 1842s 6s/step - d_loss: 0.7114 - g_loss: 0.8453\n",
      "Epoch 18/50\n",
      "290/290 [==============================] - 1859s 6s/step - d_loss: 0.7126 - g_loss: 0.8420\n",
      "Epoch 19/50\n",
      "290/290 [==============================] - 1844s 6s/step - d_loss: 0.7079 - g_loss: 0.8491\n",
      "Epoch 20/50\n",
      "290/290 [==============================] - 1837s 6s/step - d_loss: 0.6964 - g_loss: 0.8903\n",
      "Epoch 21/50\n",
      "290/290 [==============================] - 1804s 6s/step - d_loss: 0.7046 - g_loss: 0.8229\n",
      "Epoch 22/50\n",
      "290/290 [==============================] - 1809s 6s/step - d_loss: 0.6824 - g_loss: 0.8507\n",
      "Epoch 23/50\n",
      "290/290 [==============================] - 1774s 6s/step - d_loss: 0.6832 - g_loss: 0.8138\n",
      "Epoch 24/50\n",
      "290/290 [==============================] - 1627s 6s/step - d_loss: 0.6964 - g_loss: 0.7856\n",
      "Epoch 25/50\n",
      "290/290 [==============================] - 1852s 6s/step - d_loss: 0.6912 - g_loss: 0.8051\n",
      "Epoch 26/50\n",
      "290/290 [==============================] - 1851s 6s/step - d_loss: 0.6843 - g_loss: 0.9450\n",
      "Epoch 27/50\n",
      "290/290 [==============================] - 1878s 6s/step - d_loss: 0.7042 - g_loss: 0.8262\n",
      "Epoch 28/50\n",
      "290/290 [==============================] - 1897s 7s/step - d_loss: 0.7118 - g_loss: 0.8259\n",
      "Epoch 29/50\n",
      "290/290 [==============================] - 1902s 7s/step - d_loss: 0.7139 - g_loss: 0.9190\n",
      "Epoch 30/50\n",
      "290/290 [==============================] - 1900s 7s/step - d_loss: 0.7072 - g_loss: 0.7907\n",
      "Epoch 31/50\n",
      "290/290 [==============================] - 1884s 6s/step - d_loss: 0.7203 - g_loss: 0.7919\n",
      "Epoch 32/50\n",
      "290/290 [==============================] - 1894s 7s/step - d_loss: 0.6889 - g_loss: 0.8899\n",
      "Epoch 33/50\n",
      "290/290 [==============================] - 1878s 6s/step - d_loss: 0.7272 - g_loss: 0.8459\n",
      "Epoch 34/50\n",
      "290/290 [==============================] - 1873s 6s/step - d_loss: 0.6980 - g_loss: 0.8611\n",
      "Epoch 35/50\n",
      "290/290 [==============================] - 1873s 6s/step - d_loss: 0.6766 - g_loss: 0.8127\n",
      "Epoch 36/50\n",
      "290/290 [==============================] - 1881s 6s/step - d_loss: 0.6863 - g_loss: 0.8265\n",
      "Epoch 37/50\n",
      "290/290 [==============================] - 1666s 6s/step - d_loss: 0.6961 - g_loss: 0.8346\n",
      "Epoch 38/50\n",
      "290/290 [==============================] - 1367s 5s/step - d_loss: 0.7119 - g_loss: 0.7961\n",
      "Epoch 39/50\n",
      "290/290 [==============================] - 1364s 5s/step - d_loss: 0.7136 - g_loss: 0.8146\n",
      "Epoch 40/50\n",
      "290/290 [==============================] - 1542s 5s/step - d_loss: 0.7282 - g_loss: 0.8443\n",
      "Epoch 41/50\n",
      "290/290 [==============================] - 1304s 4s/step - d_loss: 0.7067 - g_loss: 0.7852\n",
      "Epoch 42/50\n",
      "290/290 [==============================] - 1294s 4s/step - d_loss: 0.7009 - g_loss: 0.7558\n",
      "Epoch 43/50\n",
      "290/290 [==============================] - 1310s 5s/step - d_loss: 0.7131 - g_loss: 0.8607\n",
      "Epoch 44/50\n",
      "290/290 [==============================] - 1339s 5s/step - d_loss: 0.6995 - g_loss: 1.1289\n",
      "Epoch 45/50\n",
      "290/290 [==============================] - 1300s 4s/step - d_loss: 0.6918 - g_loss: 0.7876\n",
      "Epoch 46/50\n",
      "290/290 [==============================] - 1475s 5s/step - d_loss: 0.7117 - g_loss: 0.8730\n",
      "Epoch 47/50\n",
      "290/290 [==============================] - 1842s 6s/step - d_loss: 0.6744 - g_loss: 0.8522\n",
      "Epoch 48/50\n",
      "290/290 [==============================] - 1724s 6s/step - d_loss: 0.6709 - g_loss: 0.9558\n",
      "Epoch 49/50\n",
      "290/290 [==============================] - 1813s 6s/step - d_loss: 0.7123 - g_loss: 0.8590\n",
      "Epoch 50/50\n",
      "290/290 [==============================] - 1809s 6s/step - d_loss: 0.7174 - g_loss: 0.8437\n"
     ]
    },
    {
     "data": {
      "text/plain": [
       "<tensorflow.python.keras.callbacks.History at 0x7fdccc0e99a0>"
      ]
     },
     "execution_count": 18,
     "metadata": {},
     "output_type": "execute_result"
    }
   ],
   "source": [
    "epochs = 50  # In practice, use ~100 epochs\n",
    "\n",
    "gan = GAN(discriminator=discriminator, generator=generator, latent_dim=latent_dim)\n",
    "gan.compile(\n",
    "    d_optimizer=keras.optimizers.Adam(learning_rate=0.0001),\n",
    "    g_optimizer=keras.optimizers.Adam(learning_rate=0.0001),\n",
    "    loss_fn=keras.losses.BinaryCrossentropy(),\n",
    ")\n",
    "\n",
    "gan.fit(\n",
    "    dataset, epochs=epochs, callbacks=[GANMonitor(num_img=5, latent_dim=latent_dim)]\n",
    ")\n"
   ]
  }
 ],
 "metadata": {
  "kernelspec": {
   "display_name": "Python (scivis-plankton)",
   "language": "python",
   "name": "scivis-plankton"
  },
  "language_info": {
   "codemirror_mode": {
    "name": "ipython",
    "version": 3
   },
   "file_extension": ".py",
   "mimetype": "text/x-python",
   "name": "python",
   "nbconvert_exporter": "python",
   "pygments_lexer": "ipython3",
   "version": "3.8.8"
  }
 },
 "nbformat": 4,
 "nbformat_minor": 2
}
