{
 "cells": [
  {
   "cell_type": "markdown",
   "metadata": {},
   "source": [
    "# Evaluation of classification algorithms"
   ]
  },
  {
   "cell_type": "code",
   "execution_count": 46,
   "metadata": {},
   "outputs": [],
   "source": [
    "import numpy as np"
   ]
  },
  {
   "cell_type": "code",
   "execution_count": 47,
   "metadata": {},
   "outputs": [],
   "source": [
    "def evaluate(confusion_matrix, classes):\n",
    "    true_pos = np.diag(confusion_matrix)\n",
    "    false_pos = np.sum(confusion_matrix, axis=0) - true_pos\n",
    "    false_neg = np.sum(confusion_matrix, axis=1) - true_pos\n",
    "\n",
    "    accuracy = sum(true_pos) / np.sum(confusion_matrix)\n",
    "    precision = (true_pos / (true_pos + false_pos))\n",
    "    recall = (true_pos / (true_pos + false_neg))\n",
    "    f1 = 2*precision*recall / (precision + recall)\n",
    "\n",
    "    precision = np.mean(precision)\n",
    "    recall = np.mean(recall)\n",
    "\n",
    "    f1 = np.mean(f1)\n",
    "    return precision, recall, accuracy, f1"
   ]
  },
  {
   "cell_type": "code",
   "execution_count": 48,
   "metadata": {},
   "outputs": [],
   "source": [
    "cm = np.array([[3951,49],\n",
    "       [28,1654]])\n"
   ]
  },
  {
   "cell_type": "code",
   "execution_count": 49,
   "metadata": {},
   "outputs": [
    {
     "data": {
      "text/plain": [
       "array([[3951,   49],\n",
       "       [  28, 1654]])"
      ]
     },
     "execution_count": 49,
     "metadata": {},
     "output_type": "execute_result"
    }
   ],
   "source": [
    "cm"
   ]
  },
  {
   "cell_type": "code",
   "execution_count": 50,
   "metadata": {},
   "outputs": [
    {
     "data": {
      "text/plain": [
       "(0.9820951510403193,\n",
       " 0.9855515755053508,\n",
       " 0.9864484336501232,\n",
       " 0.9838011264058553)"
      ]
     },
     "execution_count": 50,
     "metadata": {},
     "output_type": "execute_result"
    }
   ],
   "source": [
    "evaluate(cm,2)"
   ]
  },
  {
   "cell_type": "code",
   "execution_count": null,
   "metadata": {},
   "outputs": [],
   "source": []
  }
 ],
 "metadata": {
  "kernelspec": {
   "display_name": "Python (scivis-plankton)",
   "language": "python",
   "name": "scivis-plankton"
  },
  "language_info": {
   "codemirror_mode": {
    "name": "ipython",
    "version": 3
   },
   "file_extension": ".py",
   "mimetype": "text/x-python",
   "name": "python",
   "nbconvert_exporter": "python",
   "pygments_lexer": "ipython3",
   "version": "3.8.8"
  }
 },
 "nbformat": 4,
 "nbformat_minor": 2
}
