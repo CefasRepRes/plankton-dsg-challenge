{
 "cells": [
  {
   "cell_type": "markdown",
   "id": "0b9e71a3",
   "metadata": {},
   "source": [
    "# Explore the plankton dataset"
   ]
  },
  {
   "cell_type": "markdown",
   "id": "7278ef32",
   "metadata": {},
   "source": [
    "## Import libraries"
   ]
  },
  {
   "cell_type": "code",
   "execution_count": null,
   "id": "6240be30",
   "metadata": {
    "gather": {
     "logged": 1636726275244
    }
   },
   "outputs": [],
   "source": [
    "from scivision.io import load_dataset\n",
    "\n",
    "import matplotlib.pyplot as plt"
   ]
  },
  {
   "cell_type": "markdown",
   "id": "30641f68",
   "metadata": {},
   "source": [
    "## Load the catalog"
   ]
  },
  {
   "cell_type": "markdown",
   "id": "deda085d",
   "metadata": {},
   "source": [
    "To load an [Intake](https://intake.readthedocs.io/en/latest/index.html) catalog from a repository containing [Scivision](https://github.com/alan-turing-institute/scivision) metadata:"
   ]
  },
  {
   "cell_type": "code",
   "execution_count": null,
   "id": "8ea84a36",
   "metadata": {
    "gather": {
     "logged": 1636726275627
    }
   },
   "outputs": [],
   "source": [
    "cat = load_dataset('https://github.com/alan-turing-institute/plankton-dsg-challenge')"
   ]
  },
  {
   "cell_type": "markdown",
   "id": "76df4e3f",
   "metadata": {},
   "source": [
    "## Explore the catalog entries"
   ]
  },
  {
   "cell_type": "markdown",
   "id": "1fe4f079",
   "metadata": {},
   "source": [
    "Let's inspect the entries of the catalog. "
   ]
  },
  {
   "cell_type": "code",
   "execution_count": null,
   "id": "4a93c8a3",
   "metadata": {},
   "outputs": [],
   "source": [
    "list(cat)"
   ]
  },
  {
   "cell_type": "markdown",
   "id": "f108ef93",
   "metadata": {},
   "source": [
    "The catalog contains five data sources: `plankton_single`, `plankton_multiple`, `labels_raw`, `labels` and `labels_holout`. The first two can be used to load the image data, and the last three for the classification labels.  We'll explore each of them in the next sections."
   ]
  },
  {
   "cell_type": "markdown",
   "id": "6eafb181",
   "metadata": {},
   "source": [
    "## Fetch the CSV index file"
   ]
  },
  {
   "cell_type": "markdown",
   "id": "855efcf2",
   "metadata": {},
   "source": [
    "The first entry corresponds to an index file, imported as a `pandas.DataFrame`, which contain the list of all plankton images. Each image include its index, filename, and labels according to three levels of classication: `label1` (zooplankton vs detritus), `label2` (noncopedod vs copedod) and `label3` (species)."
   ]
  },
  {
   "cell_type": "code",
   "execution_count": null,
   "id": "2804c1da",
   "metadata": {},
   "outputs": [],
   "source": [
    "labels = cat.labels().read()"
   ]
  },
  {
   "cell_type": "code",
   "execution_count": null,
   "id": "d0d54011",
   "metadata": {},
   "outputs": [],
   "source": [
    "type(labels)"
   ]
  },
  {
   "cell_type": "code",
   "execution_count": null,
   "id": "7abd78ed",
   "metadata": {},
   "outputs": [],
   "source": [
    "labels"
   ]
  },
  {
   "cell_type": "markdown",
   "id": "f65ac0df",
   "metadata": {},
   "source": [
    "We can explore now the unique labels by level of classification."
   ]
  },
  {
   "cell_type": "code",
   "execution_count": null,
   "id": "c2ad5403",
   "metadata": {},
   "outputs": [],
   "source": [
    "for label in ['label1','label2','label3']:\n",
    "    print(f'Categories in {label}:', labels[label].unique().tolist())\n",
    "    print('\\n')"
   ]
  },
  {
   "cell_type": "markdown",
   "id": "664ffc67",
   "metadata": {},
   "source": [
    "Similarly, let's explore the data imbalance by classification level."
   ]
  },
  {
   "cell_type": "code",
   "execution_count": null,
   "id": "17bd8e49",
   "metadata": {},
   "outputs": [],
   "source": [
    "for label in ['label1','label2','label3']:\n",
    "    print(label)\n",
    "    print(labels[label].value_counts())\n",
    "    print('\\n')"
   ]
  },
  {
   "cell_type": "markdown",
   "id": "2274b19f",
   "metadata": {},
   "source": [
    "## Fetch a single image entry"
   ]
  },
  {
   "cell_type": "markdown",
   "id": "f5736847",
   "metadata": {},
   "source": [
    "The second entry refers to load a single image. We can load any single image of the above table by explicitly passing the filename to `plankton_single`, followed by a call to the `read()` method to load the data. Let's try with the first filename, `Pia1.2016-10-04.1801+N292_hc`."
   ]
  },
  {
   "cell_type": "code",
   "execution_count": null,
   "id": "12c8c95d",
   "metadata": {
    "gather": {
     "logged": 1636726275829
    }
   },
   "outputs": [],
   "source": [
    "ds_single = cat.plankton_single(id='Pia1.2016-10-04.1801+N292_hc').read()"
   ]
  },
  {
   "cell_type": "code",
   "execution_count": null,
   "id": "90e934b0",
   "metadata": {},
   "outputs": [],
   "source": [
    "type(ds_single)"
   ]
  },
  {
   "cell_type": "markdown",
   "id": "503aed52",
   "metadata": {},
   "source": [
    "Now, let's explore the `ds_single` which imported as a `xarray.Dataset` object. According to [The Pythia Foundations resource](https://foundations.projectpythia.org/core/xarray/xarray.html), `xarray.Dataset` is a dictionary-like container that holds one or more `xarray.DataArray`. The DataArray is one of the basic building blocks of `xarray`. Xarray expands on the capabilities on NumPy arrays, providing a lot of streamlined data manipulation. It is similar in that respect to Pandas, but whereas Pandas excels at working with tabular data, Xarray is focused on N-dimensional arrays of data (i.e. grids). "
   ]
  },
  {
   "cell_type": "code",
   "execution_count": null,
   "id": "67e5fb65",
   "metadata": {
    "gather": {
     "logged": 1636726276008
    }
   },
   "outputs": [],
   "source": [
    "print(ds_single)"
   ]
  },
  {
   "cell_type": "markdown",
   "id": "54c506e3",
   "metadata": {},
   "source": [
    "The following dictionary structure indicate three major keys: \n",
    "* `Dimensions`: \n",
    "* `Coordinates`:\n",
    "* `Data variables`:"
   ]
  },
  {
   "cell_type": "markdown",
   "id": "7024d549",
   "metadata": {},
   "source": [
    "We can visualise the contained image using `matplotlib` as we usually do with a NumPy array/"
   ]
  },
  {
   "cell_type": "code",
   "execution_count": null,
   "id": "9a47b313",
   "metadata": {
    "gather": {
     "logged": 1636726276264
    }
   },
   "outputs": [],
   "source": [
    "plt.imshow(ds_single['raster'].compute().values)"
   ]
  },
  {
   "cell_type": "markdown",
   "id": "0885d313",
   "metadata": {},
   "source": [
    "Great - we have loaded a single image!"
   ]
  },
  {
   "cell_type": "markdown",
   "id": "16ba7f67",
   "metadata": {},
   "source": [
    "## Fetch the complete dataset entry"
   ]
  },
  {
   "cell_type": "markdown",
   "id": "772c5155",
   "metadata": {},
   "source": [
    "The final entry refers to load the full dataset. All images are stacked into a single `xarray.Dataset` object with a defined dimension, 1040 px x 832 px."
   ]
  },
  {
   "cell_type": "code",
   "execution_count": null,
   "id": "0a0bbf88",
   "metadata": {
    "gather": {
     "logged": 1636726330314
    }
   },
   "outputs": [],
   "source": [
    "ds_all = cat.plankton_multiple().to_dask()"
   ]
  },
  {
   "cell_type": "code",
   "execution_count": null,
   "id": "0065cfe9",
   "metadata": {
    "gather": {
     "logged": 1636726330509
    }
   },
   "outputs": [],
   "source": [
    "print(ds_all)"
   ]
  },
  {
   "cell_type": "markdown",
   "id": "df6b4ed6",
   "metadata": {},
   "source": [
    "Let's subset a single image. This can be done using the image index stored in `concat_dim`."
   ]
  },
  {
   "cell_type": "code",
   "execution_count": null,
   "id": "b3768267",
   "metadata": {},
   "outputs": [],
   "source": [
    "subset = ds_all.sel(concat_dim=0)"
   ]
  },
  {
   "cell_type": "code",
   "execution_count": null,
   "id": "a13aa664",
   "metadata": {},
   "outputs": [],
   "source": [
    "print(subset)"
   ]
  },
  {
   "cell_type": "code",
   "execution_count": null,
   "id": "33064979",
   "metadata": {},
   "outputs": [],
   "source": [
    "subset = ds_all.sel(concat_dim=2)\n",
    "plt.imshow(subset['raster'].compute().values[:,:,:])\n",
    "plt.title(subset.filename.compute().values)"
   ]
  }
 ],
 "metadata": {
  "kernel_info": {
   "name": "scivis-plankton"
  },
  "kernelspec": {
   "display_name": "Python (scivis-plankton)",
   "language": "python",
   "name": "scivis-plankton"
  },
  "language_info": {
   "codemirror_mode": {
    "name": "ipython",
    "version": 3
   },
   "file_extension": ".py",
   "mimetype": "text/x-python",
   "name": "python",
   "nbconvert_exporter": "python",
   "pygments_lexer": "ipython3",
   "version": "3.9.7"
  },
  "nteract": {
   "version": "nteract-front-end@1.0.0"
  }
 },
 "nbformat": 4,
 "nbformat_minor": 5
}
